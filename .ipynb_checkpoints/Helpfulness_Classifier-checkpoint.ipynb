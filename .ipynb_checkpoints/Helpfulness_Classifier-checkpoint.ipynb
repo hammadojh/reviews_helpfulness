{
 "cells": [
  {
   "cell_type": "code",
   "execution_count": 1,
   "metadata": {},
   "outputs": [],
   "source": [
    "import pandas as pd"
   ]
  },
  {
   "cell_type": "code",
   "execution_count": 15,
   "metadata": {},
   "outputs": [],
   "source": [
    "galc = pd.read_csv('feature_extractor/apen/hotels/hotel_review_features_appen/GALC_Features.csv')\n",
    "helpfulness = pd.read_csv('feature_extractor/apen/hotels/appen_translated - hotels.csv')"
   ]
  },
  {
   "cell_type": "code",
   "execution_count": 19,
   "metadata": {},
   "outputs": [
    {
     "data": {
      "text/plain": [
       "2784"
      ]
     },
     "execution_count": 19,
     "metadata": {},
     "output_type": "execute_result"
    }
   ],
   "source": [
    "len(galc)"
   ]
  },
  {
   "cell_type": "code",
   "execution_count": 17,
   "metadata": {},
   "outputs": [
    {
     "data": {
      "text/plain": [
       "2784"
      ]
     },
     "execution_count": 17,
     "metadata": {},
     "output_type": "execute_result"
    }
   ],
   "source": [
    "helpfulness = helpfulness['helpfulness']\n",
    "len(helpfulness)"
   ]
  },
  {
   "cell_type": "code",
   "execution_count": 81,
   "metadata": {},
   "outputs": [],
   "source": [
    "from sklearn import svm\n",
    "from sklearn.model_selection import train_test_split\n",
    "import numpy as np"
   ]
  },
  {
   "cell_type": "code",
   "execution_count": 27,
   "metadata": {},
   "outputs": [],
   "source": [
    "X = galc\n",
    "y = helpfulness"
   ]
  },
  {
   "cell_type": "code",
   "execution_count": 61,
   "metadata": {},
   "outputs": [],
   "source": [
    "X_train, X_test, y_train, y_test = train_test_split(X, y, test_size=0.20)"
   ]
  },
  {
   "cell_type": "code",
   "execution_count": 62,
   "metadata": {},
   "outputs": [
    {
     "data": {
      "text/plain": [
       "SVC(C=1.0, break_ties=False, cache_size=200, class_weight=None, coef0=0.0,\n",
       "    decision_function_shape='ovr', degree=3, gamma='scale', kernel='rbf',\n",
       "    max_iter=-1, probability=False, random_state=None, shrinking=True,\n",
       "    tol=0.001, verbose=False)"
      ]
     },
     "execution_count": 62,
     "metadata": {},
     "output_type": "execute_result"
    }
   ],
   "source": [
    "clf = svm.SVC()\n",
    "clf.fit(X_train, y_train)"
   ]
  },
  {
   "cell_type": "code",
   "execution_count": 63,
   "metadata": {
    "scrolled": true
   },
   "outputs": [
    {
     "data": {
      "text/plain": [
       "0.7935368043087971"
      ]
     },
     "execution_count": 63,
     "metadata": {},
     "output_type": "execute_result"
    }
   ],
   "source": [
    "clf.score(X_test,y_test)"
   ]
  },
  {
   "cell_type": "code",
   "execution_count": 83,
   "metadata": {
    "scrolled": true
   },
   "outputs": [
    {
     "data": {
      "text/plain": [
       "array(['helpful', 'helpful', 'helpful', 'helpful', 'helpful', 'helpful',\n",
       "       'helpful', 'helpful', 'helpful', 'helpful', 'helpful', 'helpful',\n",
       "       'helpful', 'helpful', 'helpful', 'helpful', 'helpful', 'helpful',\n",
       "       'helpful', 'helpful', 'helpful', 'helpful', 'helpful', 'helpful',\n",
       "       'helpful', 'helpful', 'helpful', 'helpful', 'helpful', 'helpful',\n",
       "       'helpful', 'helpful', 'helpful', 'helpful', 'helpful', 'helpful',\n",
       "       'helpful', 'helpful', 'helpful', 'helpful', 'helpful', 'helpful',\n",
       "       'helpful', 'helpful', 'helpful', 'helpful', 'helpful', 'helpful',\n",
       "       'helpful', 'helpful', 'helpful', 'helpful', 'helpful', 'helpful',\n",
       "       'helpful', 'helpful', 'helpful', 'helpful', 'helpful', 'helpful',\n",
       "       'helpful', 'helpful', 'helpful', 'helpful', 'helpful', 'helpful',\n",
       "       'helpful', 'helpful', 'helpful', 'helpful', 'helpful', 'helpful',\n",
       "       'helpful', 'helpful', 'helpful', 'helpful', 'helpful', 'helpful',\n",
       "       'helpful', 'helpful', 'helpful', 'helpful', 'helpful', 'helpful',\n",
       "       'helpful', 'helpful', 'helpful', 'helpful', 'helpful', 'helpful',\n",
       "       'helpful', 'helpful', 'helpful', 'helpful', 'helpful', 'helpful',\n",
       "       'helpful', 'helpful', 'helpful', 'helpful', 'helpful', 'helpful',\n",
       "       'helpful', 'helpful', 'helpful', 'helpful', 'helpful', 'helpful',\n",
       "       'helpful', 'helpful', 'helpful', 'helpful', 'helpful', 'helpful',\n",
       "       'helpful', 'helpful', 'helpful', 'helpful', 'helpful', 'helpful',\n",
       "       'helpful', 'helpful', 'helpful', 'helpful', 'helpful', 'helpful',\n",
       "       'helpful', 'helpful', 'helpful', 'helpful', 'helpful', 'helpful',\n",
       "       'helpful', 'helpful', 'helpful', 'helpful', 'helpful', 'helpful',\n",
       "       'helpful', 'helpful', 'helpful', 'helpful', 'helpful', 'helpful',\n",
       "       'helpful', 'helpful', 'helpful', 'helpful', 'helpful', 'helpful',\n",
       "       'helpful', 'helpful', 'helpful', 'helpful', 'helpful', 'helpful',\n",
       "       'helpful', 'helpful', 'helpful', 'helpful', 'helpful', 'helpful',\n",
       "       'helpful', 'helpful', 'helpful', 'helpful', 'helpful', 'helpful',\n",
       "       'helpful', 'helpful', 'helpful', 'helpful', 'helpful', 'helpful',\n",
       "       'helpful', 'helpful', 'helpful', 'helpful', 'helpful', 'helpful',\n",
       "       'helpful', 'helpful', 'helpful', 'helpful', 'helpful', 'helpful',\n",
       "       'helpful', 'helpful', 'helpful', 'helpful', 'helpful', 'helpful',\n",
       "       'helpful', 'helpful', 'helpful', 'helpful', 'helpful', 'helpful',\n",
       "       'helpful', 'helpful', 'helpful', 'helpful', 'helpful', 'helpful',\n",
       "       'helpful', 'helpful', 'helpful', 'helpful', 'helpful', 'helpful',\n",
       "       'helpful', 'helpful', 'helpful', 'helpful', 'helpful', 'helpful',\n",
       "       'helpful', 'helpful', 'helpful', 'helpful', 'helpful', 'helpful',\n",
       "       'helpful', 'helpful', 'helpful', 'helpful', 'helpful', 'helpful',\n",
       "       'helpful', 'helpful', 'helpful', 'helpful', 'helpful', 'helpful',\n",
       "       'helpful', 'helpful', 'helpful', 'helpful', 'helpful', 'helpful',\n",
       "       'helpful', 'helpful', 'helpful', 'helpful', 'helpful', 'helpful',\n",
       "       'helpful', 'helpful', 'helpful', 'helpful', 'helpful', 'helpful',\n",
       "       'helpful', 'helpful', 'helpful', 'helpful', 'helpful', 'helpful',\n",
       "       'helpful', 'helpful', 'helpful', 'helpful', 'helpful', 'helpful',\n",
       "       'helpful', 'helpful', 'helpful', 'helpful', 'helpful', 'helpful',\n",
       "       'helpful', 'helpful', 'helpful', 'helpful', 'helpful', 'helpful',\n",
       "       'helpful', 'helpful', 'helpful', 'helpful', 'helpful', 'helpful',\n",
       "       'helpful', 'helpful', 'helpful', 'helpful', 'helpful', 'helpful',\n",
       "       'helpful', 'helpful', 'helpful', 'helpful', 'helpful', 'helpful',\n",
       "       'helpful', 'helpful', 'helpful', 'helpful', 'helpful', 'helpful',\n",
       "       'helpful', 'helpful', 'helpful', 'helpful', 'helpful', 'helpful',\n",
       "       'helpful', 'helpful', 'helpful', 'helpful', 'helpful', 'helpful',\n",
       "       'helpful', 'helpful', 'helpful', 'helpful', 'helpful', 'helpful',\n",
       "       'helpful', 'helpful', 'helpful', 'helpful', 'helpful', 'helpful',\n",
       "       'helpful', 'helpful', 'helpful', 'helpful', 'helpful', 'helpful',\n",
       "       'helpful', 'helpful', 'helpful', 'helpful', 'helpful', 'helpful',\n",
       "       'helpful', 'helpful', 'helpful', 'helpful', 'helpful', 'helpful',\n",
       "       'helpful', 'helpful', 'helpful', 'helpful', 'helpful', 'helpful',\n",
       "       'helpful', 'helpful', 'helpful', 'helpful', 'helpful', 'helpful',\n",
       "       'helpful', 'helpful', 'helpful', 'helpful', 'helpful', 'helpful',\n",
       "       'helpful', 'helpful', 'helpful', 'helpful', 'helpful', 'helpful',\n",
       "       'helpful', 'helpful', 'helpful', 'helpful', 'helpful', 'helpful',\n",
       "       'helpful', 'helpful', 'helpful', 'helpful', 'helpful', 'helpful',\n",
       "       'helpful', 'helpful', 'helpful', 'helpful', 'helpful', 'helpful',\n",
       "       'helpful', 'helpful', 'helpful', 'helpful', 'helpful', 'helpful',\n",
       "       'helpful', 'helpful', 'helpful', 'helpful', 'helpful', 'helpful',\n",
       "       'helpful', 'helpful', 'helpful', 'helpful', 'helpful', 'helpful',\n",
       "       'helpful', 'helpful', 'helpful', 'helpful', 'helpful', 'helpful',\n",
       "       'helpful', 'helpful', 'helpful', 'helpful', 'helpful', 'helpful',\n",
       "       'helpful', 'helpful', 'helpful', 'helpful', 'helpful', 'helpful',\n",
       "       'helpful', 'helpful', 'helpful', 'helpful', 'helpful', 'helpful',\n",
       "       'helpful', 'helpful', 'helpful', 'helpful', 'helpful', 'helpful',\n",
       "       'helpful', 'helpful', 'helpful', 'helpful', 'helpful', 'helpful',\n",
       "       'helpful', 'helpful', 'helpful', 'helpful', 'helpful', 'helpful',\n",
       "       'helpful', 'helpful', 'helpful', 'helpful', 'helpful', 'helpful',\n",
       "       'helpful', 'helpful', 'helpful', 'helpful', 'helpful', 'helpful',\n",
       "       'helpful', 'helpful', 'helpful', 'helpful', 'helpful', 'helpful',\n",
       "       'helpful', 'helpful', 'helpful', 'helpful', 'helpful', 'helpful',\n",
       "       'helpful', 'helpful', 'helpful', 'helpful', 'helpful', 'helpful',\n",
       "       'helpful', 'helpful', 'helpful', 'helpful', 'helpful', 'helpful',\n",
       "       'helpful', 'helpful', 'helpful', 'helpful', 'helpful', 'helpful',\n",
       "       'helpful', 'helpful', 'helpful', 'helpful', 'helpful', 'helpful',\n",
       "       'helpful', 'helpful', 'helpful', 'helpful', 'helpful', 'helpful',\n",
       "       'helpful', 'helpful', 'helpful', 'helpful', 'helpful', 'helpful',\n",
       "       'helpful', 'helpful', 'helpful', 'helpful', 'helpful', 'helpful',\n",
       "       'helpful', 'helpful', 'helpful', 'helpful', 'helpful', 'helpful',\n",
       "       'helpful', 'helpful', 'helpful', 'helpful', 'helpful', 'helpful',\n",
       "       'helpful', 'helpful', 'helpful', 'helpful', 'helpful', 'helpful',\n",
       "       'helpful', 'helpful', 'helpful', 'helpful', 'helpful', 'helpful',\n",
       "       'helpful', 'helpful', 'helpful', 'helpful', 'helpful', 'helpful',\n",
       "       'helpful', 'helpful', 'helpful', 'helpful', 'helpful', 'helpful',\n",
       "       'helpful', 'helpful', 'helpful', 'helpful', 'helpful', 'helpful',\n",
       "       'helpful', 'helpful', 'helpful', 'helpful', 'helpful'],\n",
       "      dtype=object)"
      ]
     },
     "execution_count": 83,
     "metadata": {},
     "output_type": "execute_result"
    }
   ],
   "source": [
    "clf.predict(X_test) # this is why"
   ]
  },
  {
   "cell_type": "code",
   "execution_count": 91,
   "metadata": {},
   "outputs": [],
   "source": [
    "struct = pd.read_csv('feature_extractor/apen/hotels/hotel_review_features_appen/struct_feats.csv')"
   ]
  },
  {
   "cell_type": "code",
   "execution_count": 92,
   "metadata": {},
   "outputs": [
    {
     "data": {
      "text/plain": [
       "SVC(C=1.0, break_ties=False, cache_size=200, class_weight=None, coef0=0.0,\n",
       "    decision_function_shape='ovr', degree=3, gamma='scale', kernel='rbf',\n",
       "    max_iter=-1, probability=False, random_state=None, shrinking=True,\n",
       "    tol=0.001, verbose=False)"
      ]
     },
     "execution_count": 92,
     "metadata": {},
     "output_type": "execute_result"
    }
   ],
   "source": [
    "X_train, X_test, y_train, y_test = train_test_split(struct, y, test_size=0.20)\n",
    "clf.fit(X_train, y_train)"
   ]
  },
  {
   "cell_type": "code",
   "execution_count": 93,
   "metadata": {
    "scrolled": true
   },
   "outputs": [
    {
     "name": "stdout",
     "output_type": "stream",
     "text": [
      "0.7594254937163375\n",
      "Unnamed: 0        2604.000000\n",
      "length               0.137812\n",
      "num_tokens           0.117647\n",
      "num_sentences        0.000000\n",
      "avg_sent_len         0.169492\n",
      "num_exclm_mark       0.000000\n",
      "ratio_q              0.000000\n",
      "Name: 2604, dtype: float64\n",
      "['helpful' 'helpful' 'helpful' 'helpful' 'helpful' 'helpful' 'helpful'\n",
      " 'helpful' 'helpful' 'helpful' 'helpful' 'helpful' 'helpful' 'helpful'\n",
      " 'helpful' 'helpful' 'helpful' 'helpful' 'helpful' 'helpful' 'helpful'\n",
      " 'helpful' 'helpful' 'helpful' 'helpful' 'helpful' 'helpful' 'helpful'\n",
      " 'helpful' 'helpful' 'helpful' 'helpful' 'helpful' 'helpful' 'helpful'\n",
      " 'helpful' 'helpful' 'helpful' 'helpful' 'helpful' 'helpful' 'helpful'\n",
      " 'helpful' 'helpful' 'helpful' 'helpful' 'helpful' 'helpful' 'helpful'\n",
      " 'helpful' 'helpful' 'helpful' 'helpful' 'helpful' 'helpful' 'helpful'\n",
      " 'helpful' 'helpful' 'helpful' 'helpful' 'helpful' 'helpful' 'helpful'\n",
      " 'helpful' 'helpful' 'helpful' 'helpful' 'helpful' 'helpful' 'helpful'\n",
      " 'helpful' 'helpful' 'helpful' 'helpful' 'helpful' 'helpful' 'helpful'\n",
      " 'helpful' 'helpful' 'helpful' 'helpful' 'helpful' 'helpful' 'helpful'\n",
      " 'helpful' 'helpful' 'helpful' 'helpful' 'helpful' 'helpful' 'helpful'\n",
      " 'helpful' 'helpful' 'helpful' 'helpful' 'helpful' 'helpful' 'helpful'\n",
      " 'helpful' 'helpful' 'helpful' 'helpful' 'helpful' 'helpful' 'helpful'\n",
      " 'helpful' 'helpful' 'helpful' 'helpful' 'helpful' 'helpful' 'helpful'\n",
      " 'helpful' 'helpful' 'helpful' 'helpful' 'helpful' 'helpful' 'helpful'\n",
      " 'helpful' 'helpful' 'helpful' 'helpful' 'helpful' 'helpful' 'helpful'\n",
      " 'helpful' 'helpful' 'helpful' 'helpful' 'helpful' 'helpful' 'helpful'\n",
      " 'helpful' 'helpful' 'helpful' 'helpful' 'helpful' 'helpful' 'helpful'\n",
      " 'helpful' 'helpful' 'helpful' 'helpful' 'helpful' 'helpful' 'helpful'\n",
      " 'helpful' 'helpful' 'helpful' 'helpful' 'helpful' 'helpful' 'helpful'\n",
      " 'helpful' 'helpful' 'helpful' 'helpful' 'helpful' 'helpful' 'helpful'\n",
      " 'helpful' 'helpful' 'helpful' 'helpful' 'helpful' 'helpful' 'helpful'\n",
      " 'helpful' 'helpful' 'helpful' 'helpful' 'helpful' 'helpful' 'helpful'\n",
      " 'helpful' 'helpful' 'helpful' 'helpful' 'helpful' 'helpful' 'helpful'\n",
      " 'helpful' 'helpful' 'helpful' 'helpful' 'helpful' 'helpful' 'helpful'\n",
      " 'helpful' 'helpful' 'helpful' 'helpful' 'helpful' 'helpful' 'helpful'\n",
      " 'helpful' 'helpful' 'helpful' 'helpful' 'helpful' 'helpful' 'helpful'\n",
      " 'helpful' 'helpful' 'helpful' 'helpful' 'helpful' 'helpful' 'helpful'\n",
      " 'helpful' 'helpful' 'helpful' 'helpful' 'helpful' 'helpful' 'helpful'\n",
      " 'helpful' 'helpful' 'helpful' 'helpful' 'helpful' 'helpful' 'helpful'\n",
      " 'helpful' 'helpful' 'helpful' 'helpful' 'helpful' 'helpful' 'helpful'\n",
      " 'helpful' 'helpful' 'helpful' 'helpful' 'helpful' 'helpful' 'helpful'\n",
      " 'helpful' 'helpful' 'helpful' 'helpful' 'helpful' 'helpful' 'helpful'\n",
      " 'helpful' 'helpful' 'helpful' 'helpful' 'helpful' 'helpful' 'helpful'\n",
      " 'helpful' 'helpful' 'helpful' 'helpful' 'helpful' 'helpful' 'helpful'\n",
      " 'helpful' 'helpful' 'helpful' 'helpful' 'helpful' 'helpful' 'helpful'\n",
      " 'helpful' 'helpful' 'helpful' 'helpful' 'helpful' 'helpful' 'helpful'\n",
      " 'helpful' 'helpful' 'helpful' 'helpful' 'helpful' 'helpful' 'helpful'\n",
      " 'helpful' 'helpful' 'helpful' 'helpful' 'helpful' 'helpful' 'helpful'\n",
      " 'helpful' 'helpful' 'helpful' 'helpful' 'helpful' 'helpful' 'helpful'\n",
      " 'helpful' 'helpful' 'helpful' 'helpful' 'helpful' 'helpful' 'helpful'\n",
      " 'helpful' 'helpful' 'helpful' 'helpful' 'helpful' 'helpful' 'helpful'\n",
      " 'helpful' 'helpful' 'helpful' 'helpful' 'helpful' 'helpful' 'helpful'\n",
      " 'helpful' 'helpful' 'helpful' 'helpful' 'helpful' 'helpful' 'helpful'\n",
      " 'helpful' 'helpful' 'helpful' 'helpful' 'helpful' 'helpful' 'helpful'\n",
      " 'helpful' 'helpful' 'helpful' 'helpful' 'helpful' 'helpful' 'helpful'\n",
      " 'helpful' 'helpful' 'helpful' 'helpful' 'helpful' 'helpful' 'helpful'\n",
      " 'helpful' 'helpful' 'helpful' 'helpful' 'helpful' 'helpful' 'helpful'\n",
      " 'helpful' 'helpful' 'helpful' 'helpful' 'helpful' 'helpful' 'helpful'\n",
      " 'helpful' 'helpful' 'helpful' 'helpful' 'helpful' 'helpful' 'helpful'\n",
      " 'helpful' 'helpful' 'helpful' 'helpful' 'helpful' 'helpful' 'helpful'\n",
      " 'helpful' 'helpful' 'helpful' 'helpful' 'helpful' 'helpful' 'helpful'\n",
      " 'helpful' 'helpful' 'helpful' 'helpful' 'helpful' 'helpful' 'helpful'\n",
      " 'helpful' 'helpful' 'helpful' 'helpful' 'helpful' 'helpful' 'helpful'\n",
      " 'helpful' 'helpful' 'helpful' 'helpful' 'helpful' 'helpful' 'helpful'\n",
      " 'helpful' 'helpful' 'helpful' 'helpful' 'helpful' 'helpful' 'helpful'\n",
      " 'helpful' 'helpful' 'helpful' 'helpful' 'helpful' 'helpful' 'helpful'\n",
      " 'helpful' 'helpful' 'helpful' 'helpful' 'helpful' 'helpful' 'helpful'\n",
      " 'helpful' 'helpful' 'helpful' 'helpful' 'helpful' 'helpful' 'helpful'\n",
      " 'helpful' 'helpful' 'helpful' 'helpful' 'helpful' 'helpful' 'helpful'\n",
      " 'helpful' 'helpful' 'helpful' 'helpful' 'helpful' 'helpful' 'helpful'\n",
      " 'helpful' 'helpful' 'helpful' 'helpful' 'helpful' 'helpful' 'helpful'\n",
      " 'helpful' 'helpful' 'helpful' 'helpful' 'helpful' 'helpful' 'helpful'\n",
      " 'helpful' 'helpful' 'helpful' 'helpful' 'helpful' 'helpful' 'helpful'\n",
      " 'helpful' 'helpful' 'helpful' 'helpful' 'helpful' 'helpful' 'helpful'\n",
      " 'helpful' 'helpful' 'helpful' 'helpful' 'helpful' 'helpful' 'helpful'\n",
      " 'helpful' 'helpful' 'helpful' 'helpful' 'helpful' 'helpful' 'helpful'\n",
      " 'helpful' 'helpful' 'helpful' 'helpful' 'helpful' 'helpful' 'helpful'\n",
      " 'helpful' 'helpful' 'helpful' 'helpful' 'helpful' 'helpful' 'helpful'\n",
      " 'helpful' 'helpful' 'helpful' 'helpful' 'helpful' 'helpful' 'helpful'\n",
      " 'helpful' 'helpful' 'helpful' 'helpful' 'helpful' 'helpful' 'helpful'\n",
      " 'helpful' 'helpful' 'helpful' 'helpful' 'helpful' 'helpful' 'helpful'\n",
      " 'helpful' 'helpful' 'helpful' 'helpful' 'helpful' 'helpful' 'helpful'\n",
      " 'helpful' 'helpful' 'helpful' 'helpful' 'helpful' 'helpful' 'helpful'\n",
      " 'helpful' 'helpful' 'helpful' 'helpful' 'helpful' 'helpful' 'helpful'\n",
      " 'helpful' 'helpful' 'helpful' 'helpful' 'helpful' 'helpful' 'helpful'\n",
      " 'helpful' 'helpful' 'helpful' 'helpful' 'helpful' 'helpful' 'helpful'\n",
      " 'helpful' 'helpful' 'helpful' 'helpful']\n"
     ]
    }
   ],
   "source": [
    "print(clf.score(X_test,y_test))\n",
    "print(X_test.iloc[1])\n",
    "print(clf.predict(X_test) )"
   ]
  },
  {
   "cell_type": "code",
   "execution_count": 102,
   "metadata": {},
   "outputs": [
    {
     "name": "stdout",
     "output_type": "stream",
     "text": [
      "helpful 2143\n",
      "somwhat helpful 475\n",
      "not helpful 135\n"
     ]
    }
   ],
   "source": [
    "print(\"helpful\",sum(helpfulness == \"helpful\"))\n",
    "print(\"somwhat helpful\",sum(helpfulness == \"somewhat_helpful\"))\n",
    "print(\"not helpful\",sum(helpfulness == \"not_helpful\"))"
   ]
  },
  {
   "cell_type": "code",
   "execution_count": 112,
   "metadata": {},
   "outputs": [],
   "source": [
    "helpfulness_numeric = np.zeros((len(helpfulness)))"
   ]
  },
  {
   "cell_type": "code",
   "execution_count": 113,
   "metadata": {},
   "outputs": [
    {
     "data": {
      "text/plain": [
       "0.0"
      ]
     },
     "execution_count": 113,
     "metadata": {},
     "output_type": "execute_result"
    }
   ],
   "source": [
    "helpfulness_numeric[0]"
   ]
  },
  {
   "cell_type": "code",
   "execution_count": 114,
   "metadata": {},
   "outputs": [
    {
     "data": {
      "text/plain": [
       "'helpful'"
      ]
     },
     "execution_count": 114,
     "metadata": {},
     "output_type": "execute_result"
    }
   ],
   "source": [
    "helpfulness[1]"
   ]
  },
  {
   "cell_type": "code",
   "execution_count": null,
   "metadata": {},
   "outputs": [],
   "source": [
    "for i in range(len(helpfulness_numeric)):\n",
    "    if helpfulness[i] == \"helpful\":\n",
    "        helpfulness_numeric[i] = 0\n",
    "    elif helpfulness[i] == \"somewhat_helpful\":\n",
    "        helpfulness_numeric[i] = 1\n",
    "    else:\n",
    "        helpfulness_numeric[i] = 2"
   ]
  }
 ],
 "metadata": {
  "kernelspec": {
   "display_name": "Python 3",
   "language": "python",
   "name": "python3"
  },
  "language_info": {
   "codemirror_mode": {
    "name": "ipython",
    "version": 3
   },
   "file_extension": ".py",
   "mimetype": "text/x-python",
   "name": "python",
   "nbconvert_exporter": "python",
   "pygments_lexer": "ipython3",
   "version": "3.7.6"
  }
 },
 "nbformat": 4,
 "nbformat_minor": 4
}
