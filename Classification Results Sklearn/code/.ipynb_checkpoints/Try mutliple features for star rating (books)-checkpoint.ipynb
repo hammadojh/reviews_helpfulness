{
 "cells": [
  {
   "cell_type": "code",
   "execution_count": 1,
   "metadata": {},
   "outputs": [],
   "source": [
    "import pandas as pd\n",
    "import numpy as np\n",
    "from sklearn.feature_extraction.text import TfidfVectorizer\n",
    "from nltk.corpus import stopwords\n",
    "from nltk.stem import PorterStemmer \n",
    "import re\n",
    "from collections import Counter\n",
    "import liwc\n",
    "import math\n",
    "import json\n",
    "import os\n",
    "from sklearn.feature_selection import VarianceThreshold\n",
    "from sklearn.feature_selection import SelectKBest\n",
    "from sklearn.feature_selection import chi2\n",
    "from sklearn.model_selection import train_test_split\n",
    "from sklearn import preprocessing\n",
    "from sklearn.ensemble import RandomForestClassifier\n",
    "import arabic_reviews"
   ]
  },
  {
   "cell_type": "code",
   "execution_count": 2,
   "metadata": {},
   "outputs": [],
   "source": [
    "data = pd.read_json(\"EnglishBookReviews.json\")"
   ]
  },
  {
   "cell_type": "code",
   "execution_count": 3,
   "metadata": {
    "scrolled": true
   },
   "outputs": [
    {
     "name": "stderr",
     "output_type": "stream",
     "text": [
      "/opt/anaconda3/lib/python3.7/site-packages/ipykernel_launcher.py:2: SettingWithCopyWarning: \n",
      "A value is trying to be set on a copy of a slice from a DataFrame.\n",
      "Try using .loc[row_indexer,col_indexer] = value instead\n",
      "\n",
      "See the caveats in the documentation: https://pandas.pydata.org/pandas-docs/stable/user_guide/indexing.html#returning-a-view-versus-a-copy\n",
      "  \n"
     ]
    }
   ],
   "source": [
    "data_conf = data[:1480]\n",
    "data_conf[\"helpfulness\"] = data['n_votes'][:1480].map(lambda x: \"helpful\" if x > 0 else \"unhelpful\")\n",
    "classes = data_conf[\"helpfulness\"]"
   ]
  },
  {
   "cell_type": "markdown",
   "metadata": {},
   "source": [
    "# Features"
   ]
  },
  {
   "cell_type": "code",
   "execution_count": 4,
   "metadata": {
    "scrolled": true
   },
   "outputs": [
    {
     "data": {
      "text/html": [
       "<div>\n",
       "<style scoped>\n",
       "    .dataframe tbody tr th:only-of-type {\n",
       "        vertical-align: middle;\n",
       "    }\n",
       "\n",
       "    .dataframe tbody tr th {\n",
       "        vertical-align: top;\n",
       "    }\n",
       "\n",
       "    .dataframe thead th {\n",
       "        text-align: right;\n",
       "    }\n",
       "</style>\n",
       "<table border=\"1\" class=\"dataframe\">\n",
       "  <thead>\n",
       "    <tr style=\"text-align: right;\">\n",
       "      <th></th>\n",
       "      <th>user_id</th>\n",
       "      <th>book_id</th>\n",
       "      <th>review_id</th>\n",
       "      <th>rating</th>\n",
       "      <th>review_text</th>\n",
       "      <th>date_added</th>\n",
       "      <th>date_updated</th>\n",
       "      <th>read_at</th>\n",
       "      <th>started_at</th>\n",
       "      <th>n_votes</th>\n",
       "      <th>n_comments</th>\n",
       "      <th>helpfulness</th>\n",
       "    </tr>\n",
       "  </thead>\n",
       "  <tbody>\n",
       "    <tr>\n",
       "      <th>0</th>\n",
       "      <td>12889ca3ea33be08b182e1bab60e8b55</td>\n",
       "      <td>13087982</td>\n",
       "      <td>986067c40edc87e152e4ec317c4b56c3</td>\n",
       "      <td>5</td>\n",
       "      <td>I don't even know how to review this. I feel l...</td>\n",
       "      <td>Mon Mar 03 14:49:09 -0800 2014</td>\n",
       "      <td>Tue Sep 19 20:42:44 -0700 2017</td>\n",
       "      <td>Thu Jan 19 00:00:00 -0800 2017</td>\n",
       "      <td>Sun Sep 20 00:00:00 -0700 2015</td>\n",
       "      <td>3</td>\n",
       "      <td>0</td>\n",
       "      <td>helpful</td>\n",
       "    </tr>\n",
       "    <tr>\n",
       "      <th>1</th>\n",
       "      <td>8842281e1d1347389f2ab93d60773d4d</td>\n",
       "      <td>16981</td>\n",
       "      <td>a5d2c3628987712d0e05c4f90798eb67</td>\n",
       "      <td>3</td>\n",
       "      <td>Recommended by Don Katz. Avail for free in Dec...</td>\n",
       "      <td>Mon Dec 05 10:46:44 -0800 2016</td>\n",
       "      <td>Wed Mar 22 11:37:04 -0700 2017</td>\n",
       "      <td></td>\n",
       "      <td></td>\n",
       "      <td>1</td>\n",
       "      <td>0</td>\n",
       "      <td>helpful</td>\n",
       "    </tr>\n",
       "    <tr>\n",
       "      <th>2</th>\n",
       "      <td>6ba3427be7a706f83d079e8ec902a48d</td>\n",
       "      <td>14061957</td>\n",
       "      <td>d6f80a1b3eaee0b640d5a99e1e7c601b</td>\n",
       "      <td>5</td>\n",
       "      <td>\"Maybe love was superstition, a prayer we said...</td>\n",
       "      <td>Mon Sep 28 22:00:23 -0700 2015</td>\n",
       "      <td>Sun Oct 18 19:10:31 -0700 2015</td>\n",
       "      <td>Mon Sep 28 00:00:00 -0700 2015</td>\n",
       "      <td>Mon Sep 28 00:00:00 -0700 2015</td>\n",
       "      <td>1</td>\n",
       "      <td>0</td>\n",
       "      <td>helpful</td>\n",
       "    </tr>\n",
       "    <tr>\n",
       "      <th>3</th>\n",
       "      <td>424956bc779a611313ff39813ed4ca14</td>\n",
       "      <td>35181314</td>\n",
       "      <td>ec7d733d477cee5cd377eea238fea747</td>\n",
       "      <td>5</td>\n",
       "      <td>Review to come</td>\n",
       "      <td>Tue Apr 04 10:56:56 -0700 2017</td>\n",
       "      <td>Fri Oct 20 11:11:43 -0700 2017</td>\n",
       "      <td>Fri Oct 20 14:12:21 -0700 2017</td>\n",
       "      <td>Thu Sep 28 23:39:33 -0700 2017</td>\n",
       "      <td>1</td>\n",
       "      <td>0</td>\n",
       "      <td>helpful</td>\n",
       "    </tr>\n",
       "    <tr>\n",
       "      <th>4</th>\n",
       "      <td>8842281e1d1347389f2ab93d60773d4d</td>\n",
       "      <td>25884323</td>\n",
       "      <td>332732725863131279a8e345b63ac33e</td>\n",
       "      <td>4</td>\n",
       "      <td>I really enjoyed this book, and there is a lot...</td>\n",
       "      <td>Mon Apr 25 09:31:23 -0700 2016</td>\n",
       "      <td>Mon Apr 25 09:31:23 -0700 2016</td>\n",
       "      <td>Sun Jun 26 00:00:00 -0700 2016</td>\n",
       "      <td>Sat May 28 00:00:00 -0700 2016</td>\n",
       "      <td>9</td>\n",
       "      <td>1</td>\n",
       "      <td>helpful</td>\n",
       "    </tr>\n",
       "  </tbody>\n",
       "</table>\n",
       "</div>"
      ],
      "text/plain": [
       "                            user_id   book_id  \\\n",
       "0  12889ca3ea33be08b182e1bab60e8b55  13087982   \n",
       "1  8842281e1d1347389f2ab93d60773d4d     16981   \n",
       "2  6ba3427be7a706f83d079e8ec902a48d  14061957   \n",
       "3  424956bc779a611313ff39813ed4ca14  35181314   \n",
       "4  8842281e1d1347389f2ab93d60773d4d  25884323   \n",
       "\n",
       "                          review_id  rating  \\\n",
       "0  986067c40edc87e152e4ec317c4b56c3       5   \n",
       "1  a5d2c3628987712d0e05c4f90798eb67       3   \n",
       "2  d6f80a1b3eaee0b640d5a99e1e7c601b       5   \n",
       "3  ec7d733d477cee5cd377eea238fea747       5   \n",
       "4  332732725863131279a8e345b63ac33e       4   \n",
       "\n",
       "                                         review_text  \\\n",
       "0  I don't even know how to review this. I feel l...   \n",
       "1  Recommended by Don Katz. Avail for free in Dec...   \n",
       "2  \"Maybe love was superstition, a prayer we said...   \n",
       "3                                     Review to come   \n",
       "4  I really enjoyed this book, and there is a lot...   \n",
       "\n",
       "                       date_added                    date_updated  \\\n",
       "0  Mon Mar 03 14:49:09 -0800 2014  Tue Sep 19 20:42:44 -0700 2017   \n",
       "1  Mon Dec 05 10:46:44 -0800 2016  Wed Mar 22 11:37:04 -0700 2017   \n",
       "2  Mon Sep 28 22:00:23 -0700 2015  Sun Oct 18 19:10:31 -0700 2015   \n",
       "3  Tue Apr 04 10:56:56 -0700 2017  Fri Oct 20 11:11:43 -0700 2017   \n",
       "4  Mon Apr 25 09:31:23 -0700 2016  Mon Apr 25 09:31:23 -0700 2016   \n",
       "\n",
       "                          read_at                      started_at  n_votes  \\\n",
       "0  Thu Jan 19 00:00:00 -0800 2017  Sun Sep 20 00:00:00 -0700 2015        3   \n",
       "1                                                                        1   \n",
       "2  Mon Sep 28 00:00:00 -0700 2015  Mon Sep 28 00:00:00 -0700 2015        1   \n",
       "3  Fri Oct 20 14:12:21 -0700 2017  Thu Sep 28 23:39:33 -0700 2017        1   \n",
       "4  Sun Jun 26 00:00:00 -0700 2016  Sat May 28 00:00:00 -0700 2016        9   \n",
       "\n",
       "   n_comments helpfulness  \n",
       "0           0     helpful  \n",
       "1           0     helpful  \n",
       "2           0     helpful  \n",
       "3           0     helpful  \n",
       "4           1     helpful  "
      ]
     },
     "execution_count": 4,
     "metadata": {},
     "output_type": "execute_result"
    }
   ],
   "source": [
    "data_conf.head()"
   ]
  },
  {
   "cell_type": "code",
   "execution_count": null,
   "metadata": {},
   "outputs": [],
   "source": [
    "struct = arabic_reviews.struct_extract(data_conf[\"review_text\"])\n",
    "galc = arabic_reviews.galc_extract(data_conf[\"review_text\"])\n",
    "inq = arabic_reviews.inq_extract(data_conf[\"review_text\"])\n",
    "liwc = arabic_reviews.liwc_extract(data_conf[\"review_text\"])"
   ]
  },
  {
   "cell_type": "code",
   "execution_count": null,
   "metadata": {},
   "outputs": [],
   "source": []
  }
 ],
 "metadata": {
  "kernelspec": {
   "display_name": "Python 3",
   "language": "python",
   "name": "python3"
  },
  "language_info": {
   "codemirror_mode": {
    "name": "ipython",
    "version": 3
   },
   "file_extension": ".py",
   "mimetype": "text/x-python",
   "name": "python",
   "nbconvert_exporter": "python",
   "pygments_lexer": "ipython3",
   "version": "3.7.6"
  }
 },
 "nbformat": 4,
 "nbformat_minor": 4
}
