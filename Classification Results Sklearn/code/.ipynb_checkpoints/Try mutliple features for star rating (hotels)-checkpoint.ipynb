{
 "cells": [
  {
   "cell_type": "code",
   "execution_count": 1,
   "metadata": {},
   "outputs": [],
   "source": [
    "import pandas as pd\n",
    "import numpy as np\n",
    "from sklearn.feature_extraction.text import TfidfVectorizer\n",
    "from nltk.corpus import stopwords\n",
    "from nltk.stem import PorterStemmer \n",
    "import re\n",
    "from collections import Counter\n",
    "import liwc\n",
    "import math\n",
    "import json\n",
    "import os\n",
    "from sklearn.feature_selection import VarianceThreshold\n",
    "from sklearn.feature_selection import SelectKBest\n",
    "from sklearn.feature_selection import chi2\n",
    "from sklearn.model_selection import train_test_split\n",
    "from sklearn import preprocessing\n",
    "from sklearn.ensemble import RandomForestClassifier\n",
    "import arabic_reviews"
   ]
  },
  {
   "cell_type": "code",
   "execution_count": 4,
   "metadata": {
    "scrolled": true
   },
   "outputs": [],
   "source": [
    "books_data = pd.read_csv(\"Book_labeled_all_rows_with_ratings.csv\")\n",
    "books_conf = books_data[(books_data[\"confidence\"] == 1.0) & (books_data[\"helpfulness\"] == \"helpful\") | (books_data[\"helpfulness\"] != \"helpful\")]\n",
    "classes = books_conf[\"ratings_combined\"].map(lambda x: \"pos_rating\" if x == \"pos_rating\" else \"neg_rating\")"
   ]
  },
  {
   "cell_type": "code",
   "execution_count": 5,
   "metadata": {},
   "outputs": [],
   "source": [
    "books_data = pd.read_csv(\"appen_translated - books.csv\")\n",
    "books_conf = books_data[(books_data[\"confidence\"] == 1.0) & (books_data[\"helpfulness\"] == \"helpful\") | (books_data[\"helpfulness\"] != \"helpful\")]"
   ]
  },
  {
   "cell_type": "code",
   "execution_count": null,
   "metadata": {},
   "outputs": [
    {
     "name": "stderr",
     "output_type": "stream",
     "text": [
      "[nltk_data] Downloading package stopwords to /Users/Omar/nltk_data...\n",
      "[nltk_data]   Package stopwords is already up-to-date!\n",
      "[nltk_data] Downloading package wordnet to /Users/Omar/nltk_data...\n",
      "[nltk_data]   Package wordnet is already up-to-date!\n"
     ]
    }
   ],
   "source": [
    "tf_idf_conf = arabic_reviews.extract_tfidf(books_conf[\"review_en\"])\n",
    "struct = arabic_reviews.struct_extract(books_conf[\"review_en\"])\n",
    "galc = arabic_reviews.galc_extract(books_conf[\"review_en\"])\n",
    "inq = arabic_reviews.inq_extract(books_conf[\"review_en\"])\n",
    "liwc = arabic_reviews.liwc_extract(books_conf[\"review_en\"])"
   ]
  },
  {
   "cell_type": "code",
   "execution_count": null,
   "metadata": {},
   "outputs": [],
   "source": []
  }
 ],
 "metadata": {
  "kernelspec": {
   "display_name": "Python 3",
   "language": "python",
   "name": "python3"
  },
  "language_info": {
   "codemirror_mode": {
    "name": "ipython",
    "version": 3
   },
   "file_extension": ".py",
   "mimetype": "text/x-python",
   "name": "python",
   "nbconvert_exporter": "python",
   "pygments_lexer": "ipython3",
   "version": "3.7.6"
  }
 },
 "nbformat": 4,
 "nbformat_minor": 4
}
