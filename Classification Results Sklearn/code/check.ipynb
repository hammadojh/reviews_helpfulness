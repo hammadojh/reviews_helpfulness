{
 "cells": [
  {
   "cell_type": "code",
   "execution_count": 2,
   "metadata": {},
   "outputs": [],
   "source": [
    "import pandas as pd\n",
    "import numpy as np\n",
    "from sklearn.feature_extraction.text import TfidfVectorizer\n",
    "from nltk.corpus import stopwords\n",
    "from nltk.stem import PorterStemmer \n",
    "import re\n",
    "from collections import Counter\n",
    "import liwc\n",
    "import math\n",
    "import json\n",
    "import os\n",
    "from sklearn.feature_selection import VarianceThreshold\n",
    "from sklearn.feature_selection import SelectKBest\n",
    "from sklearn.feature_selection import chi2\n",
    "from sklearn.model_selection import train_test_split\n",
    "from sklearn import preprocessing\n",
    "from sklearn.ensemble import RandomForestClassifier\n",
    "import arabic_reviews"
   ]
  },
  {
   "cell_type": "code",
   "execution_count": 3,
   "metadata": {
    "collapsed": true
   },
   "outputs": [
    {
     "data": {
      "text/html": [
       "<div>\n",
       "<style scoped>\n",
       "    .dataframe tbody tr th:only-of-type {\n",
       "        vertical-align: middle;\n",
       "    }\n",
       "\n",
       "    .dataframe tbody tr th {\n",
       "        vertical-align: top;\n",
       "    }\n",
       "\n",
       "    .dataframe thead th {\n",
       "        text-align: right;\n",
       "    }\n",
       "</style>\n",
       "<table border=\"1\" class=\"dataframe\">\n",
       "  <thead>\n",
       "    <tr style=\"text-align: right;\">\n",
       "      <th></th>\n",
       "      <th>_unit_id</th>\n",
       "      <th>_golden</th>\n",
       "      <th>_unit_state</th>\n",
       "      <th>_trusted_judgments</th>\n",
       "      <th>_last_judgment_at</th>\n",
       "      <th>helpfulness</th>\n",
       "      <th>confidence</th>\n",
       "      <th>no</th>\n",
       "      <th>review</th>\n",
       "      <th>review_en</th>\n",
       "    </tr>\n",
       "  </thead>\n",
       "  <tbody>\n",
       "    <tr>\n",
       "      <th>0</th>\n",
       "      <td>2905523768</td>\n",
       "      <td>False</td>\n",
       "      <td>finalized</td>\n",
       "      <td>3</td>\n",
       "      <td>12/23/2020 7:25:58</td>\n",
       "      <td>somewhat_helpful</td>\n",
       "      <td>0.6598</td>\n",
       "      <td>64963</td>\n",
       "      <td>مهما كانت ميولك الفكريه .. لازم هتحب حاجه في ا...</td>\n",
       "      <td>Whatever the intellectual tastes .. necessary ...</td>\n",
       "    </tr>\n",
       "    <tr>\n",
       "      <th>1</th>\n",
       "      <td>2905523769</td>\n",
       "      <td>False</td>\n",
       "      <td>finalized</td>\n",
       "      <td>3</td>\n",
       "      <td>12/23/2020 7:25:58</td>\n",
       "      <td>helpful</td>\n",
       "      <td>0.6598</td>\n",
       "      <td>52854</td>\n",
       "      <td>.. .. هنا التقيت بأحد أعجب الرجال اطلاقا،شمس ا...</td>\n",
       "      <td>.. .. here I met one impressed by the men at a...</td>\n",
       "    </tr>\n",
       "    <tr>\n",
       "      <th>2</th>\n",
       "      <td>2905523770</td>\n",
       "      <td>False</td>\n",
       "      <td>finalized</td>\n",
       "      <td>3</td>\n",
       "      <td>12/23/2020 7:25:58</td>\n",
       "      <td>unrelated</td>\n",
       "      <td>0.6598</td>\n",
       "      <td>48057</td>\n",
       "      <td>سأعود</td>\n",
       "      <td>I'll come back</td>\n",
       "    </tr>\n",
       "    <tr>\n",
       "      <th>3</th>\n",
       "      <td>2905523771</td>\n",
       "      <td>False</td>\n",
       "      <td>finalized</td>\n",
       "      <td>3</td>\n",
       "      <td>12/23/2020 7:25:58</td>\n",
       "      <td>helpful</td>\n",
       "      <td>1.0000</td>\n",
       "      <td>14611</td>\n",
       "      <td>لم أكن قد قرأتُ لأحلام ثلاثيتها الشهيرة، ولم أ...</td>\n",
       "      <td>I had not read the dreams of the famous Thelat...</td>\n",
       "    </tr>\n",
       "    <tr>\n",
       "      <th>4</th>\n",
       "      <td>2905523772</td>\n",
       "      <td>False</td>\n",
       "      <td>finalized</td>\n",
       "      <td>3</td>\n",
       "      <td>12/23/2020 7:54:33</td>\n",
       "      <td>helpful</td>\n",
       "      <td>1.0000</td>\n",
       "      <td>17368</td>\n",
       "      <td>تسحرني لغتها وقلمها. تمنيت أن صفحات الكتاب لا ...</td>\n",
       "      <td>Language fascinates me and her pen. I wished t...</td>\n",
       "    </tr>\n",
       "  </tbody>\n",
       "</table>\n",
       "</div>"
      ],
      "text/plain": [
       "     _unit_id  _golden _unit_state  _trusted_judgments   _last_judgment_at  \\\n",
       "0  2905523768    False   finalized                   3  12/23/2020 7:25:58   \n",
       "1  2905523769    False   finalized                   3  12/23/2020 7:25:58   \n",
       "2  2905523770    False   finalized                   3  12/23/2020 7:25:58   \n",
       "3  2905523771    False   finalized                   3  12/23/2020 7:25:58   \n",
       "4  2905523772    False   finalized                   3  12/23/2020 7:54:33   \n",
       "\n",
       "        helpfulness  confidence     no  \\\n",
       "0  somewhat_helpful      0.6598  64963   \n",
       "1           helpful      0.6598  52854   \n",
       "2         unrelated      0.6598  48057   \n",
       "3           helpful      1.0000  14611   \n",
       "4           helpful      1.0000  17368   \n",
       "\n",
       "                                              review  \\\n",
       "0  مهما كانت ميولك الفكريه .. لازم هتحب حاجه في ا...   \n",
       "1  .. .. هنا التقيت بأحد أعجب الرجال اطلاقا،شمس ا...   \n",
       "2                                              سأعود   \n",
       "3  لم أكن قد قرأتُ لأحلام ثلاثيتها الشهيرة، ولم أ...   \n",
       "4  تسحرني لغتها وقلمها. تمنيت أن صفحات الكتاب لا ...   \n",
       "\n",
       "                                           review_en  \n",
       "0  Whatever the intellectual tastes .. necessary ...  \n",
       "1  .. .. here I met one impressed by the men at a...  \n",
       "2                                     I'll come back  \n",
       "3  I had not read the dreams of the famous Thelat...  \n",
       "4  Language fascinates me and her pen. I wished t...  "
      ]
     },
     "execution_count": 3,
     "metadata": {},
     "output_type": "execute_result"
    }
   ],
   "source": [
    "books_data = pd.read_csv(\"appen_translated - books.csv\")\n",
    "books_conf = books_data[(books_data[\"confidence\"] == 1.0) & (books_data[\"helpfulness\"] == \"helpful\") | (books_data[\"helpfulness\"] != \"helpful\")]\n",
    "books_data.head()"
   ]
  },
  {
   "cell_type": "code",
   "execution_count": 4,
   "metadata": {},
   "outputs": [
    {
     "data": {
      "text/plain": [
       "1480"
      ]
     },
     "execution_count": 4,
     "metadata": {},
     "output_type": "execute_result"
    }
   ],
   "source": [
    "len(books_conf)"
   ]
  },
  {
   "cell_type": "code",
   "execution_count": 5,
   "metadata": {},
   "outputs": [
    {
     "data": {
      "text/plain": [
       "818"
      ]
     },
     "execution_count": 5,
     "metadata": {},
     "output_type": "execute_result"
    }
   ],
   "source": [
    "len(books_conf[books_conf[\"helpfulness\"] == \"helpful\"])"
   ]
  },
  {
   "cell_type": "code",
   "execution_count": 6,
   "metadata": {},
   "outputs": [
    {
     "data": {
      "text/plain": [
       "662"
      ]
     },
     "execution_count": 6,
     "metadata": {},
     "output_type": "execute_result"
    }
   ],
   "source": [
    "len(books_conf[books_conf[\"helpfulness\"] != \"helpful\"])"
   ]
  },
  {
   "cell_type": "code",
   "execution_count": 7,
   "metadata": {},
   "outputs": [
    {
     "data": {
      "text/plain": [
       "2404"
      ]
     },
     "execution_count": 7,
     "metadata": {},
     "output_type": "execute_result"
    }
   ],
   "source": [
    "len(books_data)"
   ]
  },
  {
   "cell_type": "code",
   "execution_count": 10,
   "metadata": {},
   "outputs": [
    {
     "data": {
      "text/html": [
       "<div>\n",
       "<style scoped>\n",
       "    .dataframe tbody tr th:only-of-type {\n",
       "        vertical-align: middle;\n",
       "    }\n",
       "\n",
       "    .dataframe tbody tr th {\n",
       "        vertical-align: top;\n",
       "    }\n",
       "\n",
       "    .dataframe thead th {\n",
       "        text-align: right;\n",
       "    }\n",
       "</style>\n",
       "<table border=\"1\" class=\"dataframe\">\n",
       "  <thead>\n",
       "    <tr style=\"text-align: right;\">\n",
       "      <th></th>\n",
       "      <th>_unit_id</th>\n",
       "      <th>_golden</th>\n",
       "      <th>_unit_state</th>\n",
       "      <th>_trusted_judgments</th>\n",
       "      <th>_last_judgment_at</th>\n",
       "      <th>confidence</th>\n",
       "      <th>no</th>\n",
       "      <th>review</th>\n",
       "      <th>review_en</th>\n",
       "    </tr>\n",
       "    <tr>\n",
       "      <th>helpfulness</th>\n",
       "      <th></th>\n",
       "      <th></th>\n",
       "      <th></th>\n",
       "      <th></th>\n",
       "      <th></th>\n",
       "      <th></th>\n",
       "      <th></th>\n",
       "      <th></th>\n",
       "      <th></th>\n",
       "    </tr>\n",
       "  </thead>\n",
       "  <tbody>\n",
       "    <tr>\n",
       "      <th>helpful</th>\n",
       "      <td>1742</td>\n",
       "      <td>1742</td>\n",
       "      <td>1742</td>\n",
       "      <td>1742</td>\n",
       "      <td>1742</td>\n",
       "      <td>1742</td>\n",
       "      <td>1742</td>\n",
       "      <td>1742</td>\n",
       "      <td>1742</td>\n",
       "    </tr>\n",
       "    <tr>\n",
       "      <th>not_helpful</th>\n",
       "      <td>170</td>\n",
       "      <td>170</td>\n",
       "      <td>170</td>\n",
       "      <td>170</td>\n",
       "      <td>170</td>\n",
       "      <td>170</td>\n",
       "      <td>170</td>\n",
       "      <td>170</td>\n",
       "      <td>170</td>\n",
       "    </tr>\n",
       "    <tr>\n",
       "      <th>somewhat_helpful</th>\n",
       "      <td>410</td>\n",
       "      <td>410</td>\n",
       "      <td>410</td>\n",
       "      <td>410</td>\n",
       "      <td>410</td>\n",
       "      <td>410</td>\n",
       "      <td>410</td>\n",
       "      <td>410</td>\n",
       "      <td>410</td>\n",
       "    </tr>\n",
       "    <tr>\n",
       "      <th>unrelated</th>\n",
       "      <td>82</td>\n",
       "      <td>82</td>\n",
       "      <td>82</td>\n",
       "      <td>82</td>\n",
       "      <td>82</td>\n",
       "      <td>82</td>\n",
       "      <td>82</td>\n",
       "      <td>82</td>\n",
       "      <td>82</td>\n",
       "    </tr>\n",
       "  </tbody>\n",
       "</table>\n",
       "</div>"
      ],
      "text/plain": [
       "                  _unit_id  _golden  _unit_state  _trusted_judgments  \\\n",
       "helpfulness                                                            \n",
       "helpful               1742     1742         1742                1742   \n",
       "not_helpful            170      170          170                 170   \n",
       "somewhat_helpful       410      410          410                 410   \n",
       "unrelated               82       82           82                  82   \n",
       "\n",
       "                  _last_judgment_at  confidence    no  review  review_en  \n",
       "helpfulness                                                               \n",
       "helpful                        1742        1742  1742    1742       1742  \n",
       "not_helpful                     170         170   170     170        170  \n",
       "somewhat_helpful                410         410   410     410        410  \n",
       "unrelated                        82          82    82      82         82  "
      ]
     },
     "execution_count": 10,
     "metadata": {},
     "output_type": "execute_result"
    }
   ],
   "source": [
    "books_data.groupby(\"helpfulness\").count()"
   ]
  },
  {
   "cell_type": "code",
   "execution_count": 15,
   "metadata": {
    "scrolled": true
   },
   "outputs": [
    {
     "data": {
      "text/html": [
       "<div>\n",
       "<style scoped>\n",
       "    .dataframe tbody tr th:only-of-type {\n",
       "        vertical-align: middle;\n",
       "    }\n",
       "\n",
       "    .dataframe tbody tr th {\n",
       "        vertical-align: top;\n",
       "    }\n",
       "\n",
       "    .dataframe thead th {\n",
       "        text-align: right;\n",
       "    }\n",
       "</style>\n",
       "<table border=\"1\" class=\"dataframe\">\n",
       "  <thead>\n",
       "    <tr style=\"text-align: right;\">\n",
       "      <th></th>\n",
       "      <th>_unit_id</th>\n",
       "      <th>_golden</th>\n",
       "      <th>_unit_state</th>\n",
       "      <th>_trusted_judgments</th>\n",
       "      <th>_last_judgment_at</th>\n",
       "      <th>confidence</th>\n",
       "      <th>no</th>\n",
       "      <th>review</th>\n",
       "      <th>review_en</th>\n",
       "    </tr>\n",
       "    <tr>\n",
       "      <th>helpfulness</th>\n",
       "      <th></th>\n",
       "      <th></th>\n",
       "      <th></th>\n",
       "      <th></th>\n",
       "      <th></th>\n",
       "      <th></th>\n",
       "      <th></th>\n",
       "      <th></th>\n",
       "      <th></th>\n",
       "    </tr>\n",
       "  </thead>\n",
       "  <tbody>\n",
       "    <tr>\n",
       "      <th>helpful</th>\n",
       "      <td>818</td>\n",
       "      <td>818</td>\n",
       "      <td>818</td>\n",
       "      <td>818</td>\n",
       "      <td>818</td>\n",
       "      <td>818</td>\n",
       "      <td>818</td>\n",
       "      <td>818</td>\n",
       "      <td>818</td>\n",
       "    </tr>\n",
       "    <tr>\n",
       "      <th>not_helpful</th>\n",
       "      <td>170</td>\n",
       "      <td>170</td>\n",
       "      <td>170</td>\n",
       "      <td>170</td>\n",
       "      <td>170</td>\n",
       "      <td>170</td>\n",
       "      <td>170</td>\n",
       "      <td>170</td>\n",
       "      <td>170</td>\n",
       "    </tr>\n",
       "    <tr>\n",
       "      <th>somewhat_helpful</th>\n",
       "      <td>410</td>\n",
       "      <td>410</td>\n",
       "      <td>410</td>\n",
       "      <td>410</td>\n",
       "      <td>410</td>\n",
       "      <td>410</td>\n",
       "      <td>410</td>\n",
       "      <td>410</td>\n",
       "      <td>410</td>\n",
       "    </tr>\n",
       "    <tr>\n",
       "      <th>unrelated</th>\n",
       "      <td>82</td>\n",
       "      <td>82</td>\n",
       "      <td>82</td>\n",
       "      <td>82</td>\n",
       "      <td>82</td>\n",
       "      <td>82</td>\n",
       "      <td>82</td>\n",
       "      <td>82</td>\n",
       "      <td>82</td>\n",
       "    </tr>\n",
       "  </tbody>\n",
       "</table>\n",
       "</div>"
      ],
      "text/plain": [
       "                  _unit_id  _golden  _unit_state  _trusted_judgments  \\\n",
       "helpfulness                                                            \n",
       "helpful                818      818          818                 818   \n",
       "not_helpful            170      170          170                 170   \n",
       "somewhat_helpful       410      410          410                 410   \n",
       "unrelated               82       82           82                  82   \n",
       "\n",
       "                  _last_judgment_at  confidence   no  review  review_en  \n",
       "helpfulness                                                              \n",
       "helpful                         818         818  818     818        818  \n",
       "not_helpful                     170         170  170     170        170  \n",
       "somewhat_helpful                410         410  410     410        410  \n",
       "unrelated                        82          82   82      82         82  "
      ]
     },
     "execution_count": 15,
     "metadata": {},
     "output_type": "execute_result"
    }
   ],
   "source": [
    "books_conf.groupby(\"helpfulness\").count()"
   ]
  },
  {
   "cell_type": "code",
   "execution_count": 17,
   "metadata": {},
   "outputs": [
    {
     "data": {
      "text/plain": [
       "887"
      ]
     },
     "execution_count": 17,
     "metadata": {},
     "output_type": "execute_result"
    }
   ],
   "source": [
    "(books_data.confidence == 1).sum()"
   ]
  },
  {
   "cell_type": "code",
   "execution_count": 18,
   "metadata": {},
   "outputs": [
    {
     "data": {
      "text/plain": [
       "818"
      ]
     },
     "execution_count": 18,
     "metadata": {},
     "output_type": "execute_result"
    }
   ],
   "source": [
    "len(books_data[(books_data[\"confidence\"] == 1.0) & (books_data[\"helpfulness\"] == \"helpful\")])"
   ]
  },
  {
   "cell_type": "code",
   "execution_count": 19,
   "metadata": {
    "collapsed": true
   },
   "outputs": [
    {
     "data": {
      "text/html": [
       "<div>\n",
       "<style scoped>\n",
       "    .dataframe tbody tr th:only-of-type {\n",
       "        vertical-align: middle;\n",
       "    }\n",
       "\n",
       "    .dataframe tbody tr th {\n",
       "        vertical-align: top;\n",
       "    }\n",
       "\n",
       "    .dataframe thead th {\n",
       "        text-align: right;\n",
       "    }\n",
       "</style>\n",
       "<table border=\"1\" class=\"dataframe\">\n",
       "  <thead>\n",
       "    <tr style=\"text-align: right;\">\n",
       "      <th></th>\n",
       "      <th>_unit_id</th>\n",
       "      <th>_golden</th>\n",
       "      <th>_unit_state</th>\n",
       "      <th>_trusted_judgments</th>\n",
       "      <th>_last_judgment_at</th>\n",
       "      <th>helpfulness</th>\n",
       "      <th>confidence</th>\n",
       "      <th>no</th>\n",
       "      <th>review</th>\n",
       "      <th>review_en</th>\n",
       "    </tr>\n",
       "  </thead>\n",
       "  <tbody>\n",
       "    <tr>\n",
       "      <th>0</th>\n",
       "      <td>2892106090</td>\n",
       "      <td>False</td>\n",
       "      <td>finalized</td>\n",
       "      <td>3</td>\n",
       "      <td>12/10/2020 22:54:18</td>\n",
       "      <td>helpful</td>\n",
       "      <td>1.0000</td>\n",
       "      <td>23768</td>\n",
       "      <td>جيد. مديرة خدمة العملاء الانسه بشرى جدا متميزة...</td>\n",
       "      <td>good. Director of Customer Service Miss Bushra...</td>\n",
       "    </tr>\n",
       "    <tr>\n",
       "      <th>1</th>\n",
       "      <td>2892106091</td>\n",
       "      <td>False</td>\n",
       "      <td>finalized</td>\n",
       "      <td>3</td>\n",
       "      <td>12/10/2020 22:54:18</td>\n",
       "      <td>helpful</td>\n",
       "      <td>1.0000</td>\n",
       "      <td>173933</td>\n",
       "      <td>مقبول. موقع ممتاز. انتظار الاصنصير طويل لم يكن...</td>\n",
       "      <td>Acceptable. Excellent location. Waiting for a ...</td>\n",
       "    </tr>\n",
       "    <tr>\n",
       "      <th>2</th>\n",
       "      <td>2892106092</td>\n",
       "      <td>False</td>\n",
       "      <td>finalized</td>\n",
       "      <td>3</td>\n",
       "      <td>12/10/2020 22:54:18</td>\n",
       "      <td>helpful</td>\n",
       "      <td>0.6765</td>\n",
       "      <td>213748</td>\n",
       "      <td>جيد. الموقع ، طاقم العمل بشوشين ، مكان الافطار...</td>\n",
       "      <td>good. Location, staff Bchocan, place a small b...</td>\n",
       "    </tr>\n",
       "    <tr>\n",
       "      <th>3</th>\n",
       "      <td>2892106093</td>\n",
       "      <td>False</td>\n",
       "      <td>finalized</td>\n",
       "      <td>3</td>\n",
       "      <td>12/10/2020 22:54:18</td>\n",
       "      <td>helpful</td>\n",
       "      <td>1.0000</td>\n",
       "      <td>147649</td>\n",
       "      <td>“ممتازة”. كل شي رائع و نظيف و الاسرة نظيفة ومر...</td>\n",
       "      <td>\"Excellent\". Everything wonderful and clean an...</td>\n",
       "    </tr>\n",
       "    <tr>\n",
       "      <th>4</th>\n",
       "      <td>2892106094</td>\n",
       "      <td>False</td>\n",
       "      <td>finalized</td>\n",
       "      <td>3</td>\n",
       "      <td>12/10/2020 22:55:10</td>\n",
       "      <td>helpful</td>\n",
       "      <td>0.6604</td>\n",
       "      <td>89990</td>\n",
       "      <td>“اروع فندق”. كل شي كان فندق حقيقة اكثر من رائع...</td>\n",
       "      <td>\"Finest hotel.\" Everything was more than a hot...</td>\n",
       "    </tr>\n",
       "  </tbody>\n",
       "</table>\n",
       "</div>"
      ],
      "text/plain": [
       "     _unit_id  _golden _unit_state  _trusted_judgments    _last_judgment_at  \\\n",
       "0  2892106090    False   finalized                   3  12/10/2020 22:54:18   \n",
       "1  2892106091    False   finalized                   3  12/10/2020 22:54:18   \n",
       "2  2892106092    False   finalized                   3  12/10/2020 22:54:18   \n",
       "3  2892106093    False   finalized                   3  12/10/2020 22:54:18   \n",
       "4  2892106094    False   finalized                   3  12/10/2020 22:55:10   \n",
       "\n",
       "  helpfulness  confidence      no  \\\n",
       "0     helpful      1.0000   23768   \n",
       "1     helpful      1.0000  173933   \n",
       "2     helpful      0.6765  213748   \n",
       "3     helpful      1.0000  147649   \n",
       "4     helpful      0.6604   89990   \n",
       "\n",
       "                                              review  \\\n",
       "0  جيد. مديرة خدمة العملاء الانسه بشرى جدا متميزة...   \n",
       "1  مقبول. موقع ممتاز. انتظار الاصنصير طويل لم يكن...   \n",
       "2  جيد. الموقع ، طاقم العمل بشوشين ، مكان الافطار...   \n",
       "3  “ممتازة”. كل شي رائع و نظيف و الاسرة نظيفة ومر...   \n",
       "4  “اروع فندق”. كل شي كان فندق حقيقة اكثر من رائع...   \n",
       "\n",
       "                                           review_en  \n",
       "0  good. Director of Customer Service Miss Bushra...  \n",
       "1  Acceptable. Excellent location. Waiting for a ...  \n",
       "2  good. Location, staff Bchocan, place a small b...  \n",
       "3  \"Excellent\". Everything wonderful and clean an...  \n",
       "4  \"Finest hotel.\" Everything was more than a hot...  "
      ]
     },
     "execution_count": 19,
     "metadata": {},
     "output_type": "execute_result"
    }
   ],
   "source": [
    "hotels_data = pd.read_csv(\"appen_translated - hotels.csv\")\n",
    "hotels_conf = hotels_data[(hotels_data[\"confidence\"] == 1.0) & (hotels_data[\"helpfulness\"] == \"helpful\") | (hotels_data[\"helpfulness\"] != \"helpful\")]\n",
    "hotels_data.head()"
   ]
  },
  {
   "cell_type": "code",
   "execution_count": 20,
   "metadata": {},
   "outputs": [],
   "source": [
    "classes_conf = hotels_conf[\"helpfulness\"].map(lambda x: \"not_helpful\" if x != \"helpful\" else \"helpful\")"
   ]
  },
  {
   "cell_type": "code",
   "execution_count": 21,
   "metadata": {},
   "outputs": [
    {
     "data": {
      "text/plain": [
       "1624"
      ]
     },
     "execution_count": 21,
     "metadata": {},
     "output_type": "execute_result"
    }
   ],
   "source": [
    "len(hotels_conf)"
   ]
  },
  {
   "cell_type": "code",
   "execution_count": 22,
   "metadata": {},
   "outputs": [
    {
     "data": {
      "text/plain": [
       "983"
      ]
     },
     "execution_count": 22,
     "metadata": {},
     "output_type": "execute_result"
    }
   ],
   "source": [
    "len(hotels_conf[hotels_conf[\"helpfulness\"] == \"helpful\"])"
   ]
  },
  {
   "cell_type": "code",
   "execution_count": 23,
   "metadata": {},
   "outputs": [
    {
     "data": {
      "text/plain": [
       "641"
      ]
     },
     "execution_count": 23,
     "metadata": {},
     "output_type": "execute_result"
    }
   ],
   "source": [
    "len(hotels_conf[hotels_conf[\"helpfulness\"] != \"helpful\"])"
   ]
  },
  {
   "cell_type": "code",
   "execution_count": 25,
   "metadata": {},
   "outputs": [
    {
     "data": {
      "text/html": [
       "<div>\n",
       "<style scoped>\n",
       "    .dataframe tbody tr th:only-of-type {\n",
       "        vertical-align: middle;\n",
       "    }\n",
       "\n",
       "    .dataframe tbody tr th {\n",
       "        vertical-align: top;\n",
       "    }\n",
       "\n",
       "    .dataframe thead th {\n",
       "        text-align: right;\n",
       "    }\n",
       "</style>\n",
       "<table border=\"1\" class=\"dataframe\">\n",
       "  <thead>\n",
       "    <tr style=\"text-align: right;\">\n",
       "      <th></th>\n",
       "      <th>_unit_id</th>\n",
       "      <th>_golden</th>\n",
       "      <th>_unit_state</th>\n",
       "      <th>_trusted_judgments</th>\n",
       "      <th>_last_judgment_at</th>\n",
       "      <th>confidence</th>\n",
       "      <th>no</th>\n",
       "      <th>review</th>\n",
       "      <th>review_en</th>\n",
       "    </tr>\n",
       "    <tr>\n",
       "      <th>helpfulness</th>\n",
       "      <th></th>\n",
       "      <th></th>\n",
       "      <th></th>\n",
       "      <th></th>\n",
       "      <th></th>\n",
       "      <th></th>\n",
       "      <th></th>\n",
       "      <th></th>\n",
       "      <th></th>\n",
       "    </tr>\n",
       "  </thead>\n",
       "  <tbody>\n",
       "    <tr>\n",
       "      <th>helpful</th>\n",
       "      <td>2143</td>\n",
       "      <td>2143</td>\n",
       "      <td>2143</td>\n",
       "      <td>2143</td>\n",
       "      <td>2143</td>\n",
       "      <td>2143</td>\n",
       "      <td>2143</td>\n",
       "      <td>2143</td>\n",
       "      <td>2143</td>\n",
       "    </tr>\n",
       "    <tr>\n",
       "      <th>not_helpful</th>\n",
       "      <td>135</td>\n",
       "      <td>135</td>\n",
       "      <td>135</td>\n",
       "      <td>135</td>\n",
       "      <td>135</td>\n",
       "      <td>135</td>\n",
       "      <td>135</td>\n",
       "      <td>135</td>\n",
       "      <td>135</td>\n",
       "    </tr>\n",
       "    <tr>\n",
       "      <th>somewhat_helpful</th>\n",
       "      <td>475</td>\n",
       "      <td>475</td>\n",
       "      <td>475</td>\n",
       "      <td>475</td>\n",
       "      <td>475</td>\n",
       "      <td>475</td>\n",
       "      <td>475</td>\n",
       "      <td>475</td>\n",
       "      <td>475</td>\n",
       "    </tr>\n",
       "    <tr>\n",
       "      <th>unrelated</th>\n",
       "      <td>31</td>\n",
       "      <td>31</td>\n",
       "      <td>31</td>\n",
       "      <td>31</td>\n",
       "      <td>31</td>\n",
       "      <td>31</td>\n",
       "      <td>31</td>\n",
       "      <td>31</td>\n",
       "      <td>31</td>\n",
       "    </tr>\n",
       "  </tbody>\n",
       "</table>\n",
       "</div>"
      ],
      "text/plain": [
       "                  _unit_id  _golden  _unit_state  _trusted_judgments  \\\n",
       "helpfulness                                                            \n",
       "helpful               2143     2143         2143                2143   \n",
       "not_helpful            135      135          135                 135   \n",
       "somewhat_helpful       475      475          475                 475   \n",
       "unrelated               31       31           31                  31   \n",
       "\n",
       "                  _last_judgment_at  confidence    no  review  review_en  \n",
       "helpfulness                                                               \n",
       "helpful                        2143        2143  2143    2143       2143  \n",
       "not_helpful                     135         135   135     135        135  \n",
       "somewhat_helpful                475         475   475     475        475  \n",
       "unrelated                        31          31    31      31         31  "
      ]
     },
     "execution_count": 25,
     "metadata": {},
     "output_type": "execute_result"
    }
   ],
   "source": [
    "hotels_data.groupby(\"helpfulness\").count()"
   ]
  },
  {
   "cell_type": "code",
   "execution_count": 26,
   "metadata": {},
   "outputs": [],
   "source": [
    "data = pd.read_json(\"EnglishBookReviews.json\")"
   ]
  },
  {
   "cell_type": "code",
   "execution_count": 27,
   "metadata": {
    "scrolled": true
   },
   "outputs": [
    {
     "data": {
      "text/plain": [
       "330000"
      ]
     },
     "execution_count": 27,
     "metadata": {},
     "output_type": "execute_result"
    }
   ],
   "source": [
    "len(data)"
   ]
  },
  {
   "cell_type": "code",
   "execution_count": 28,
   "metadata": {
    "scrolled": true
   },
   "outputs": [
    {
     "data": {
      "text/html": [
       "<div>\n",
       "<style scoped>\n",
       "    .dataframe tbody tr th:only-of-type {\n",
       "        vertical-align: middle;\n",
       "    }\n",
       "\n",
       "    .dataframe tbody tr th {\n",
       "        vertical-align: top;\n",
       "    }\n",
       "\n",
       "    .dataframe thead th {\n",
       "        text-align: right;\n",
       "    }\n",
       "</style>\n",
       "<table border=\"1\" class=\"dataframe\">\n",
       "  <thead>\n",
       "    <tr style=\"text-align: right;\">\n",
       "      <th></th>\n",
       "      <th>_unit_id</th>\n",
       "      <th>_golden</th>\n",
       "      <th>_unit_state</th>\n",
       "      <th>_trusted_judgments</th>\n",
       "      <th>_last_judgment_at</th>\n",
       "      <th>helpfulness</th>\n",
       "      <th>confidence</th>\n",
       "      <th>helpfulness_gold</th>\n",
       "      <th>no</th>\n",
       "      <th>review</th>\n",
       "      <th>rating</th>\n",
       "      <th>ratings_combined</th>\n",
       "    </tr>\n",
       "  </thead>\n",
       "  <tbody>\n",
       "    <tr>\n",
       "      <th>0</th>\n",
       "      <td>2905523768</td>\n",
       "      <td>False</td>\n",
       "      <td>finalized</td>\n",
       "      <td>3</td>\n",
       "      <td>12/23/2020 07:25:58</td>\n",
       "      <td>somewhat_helpful</td>\n",
       "      <td>0.6598</td>\n",
       "      <td>NaN</td>\n",
       "      <td>64963</td>\n",
       "      <td>مهما كانت ميولك الفكريه .. لازم هتحب حاجه في ا...</td>\n",
       "      <td>5.0</td>\n",
       "      <td>pos_rating</td>\n",
       "    </tr>\n",
       "    <tr>\n",
       "      <th>1</th>\n",
       "      <td>2905523769</td>\n",
       "      <td>False</td>\n",
       "      <td>finalized</td>\n",
       "      <td>3</td>\n",
       "      <td>12/23/2020 07:25:58</td>\n",
       "      <td>helpful</td>\n",
       "      <td>0.6598</td>\n",
       "      <td>NaN</td>\n",
       "      <td>52854</td>\n",
       "      <td>.. .. هنا التقيت بأحد أعجب الرجال اطلاقا،شمس ا...</td>\n",
       "      <td>5.0</td>\n",
       "      <td>pos_rating</td>\n",
       "    </tr>\n",
       "    <tr>\n",
       "      <th>2</th>\n",
       "      <td>2905523770</td>\n",
       "      <td>False</td>\n",
       "      <td>finalized</td>\n",
       "      <td>3</td>\n",
       "      <td>12/23/2020 07:25:58</td>\n",
       "      <td>unrelated</td>\n",
       "      <td>0.6598</td>\n",
       "      <td>NaN</td>\n",
       "      <td>48057</td>\n",
       "      <td>سأعود</td>\n",
       "      <td>3.0</td>\n",
       "      <td>neutral_ratings</td>\n",
       "    </tr>\n",
       "    <tr>\n",
       "      <th>3</th>\n",
       "      <td>2905523771</td>\n",
       "      <td>False</td>\n",
       "      <td>finalized</td>\n",
       "      <td>3</td>\n",
       "      <td>12/23/2020 07:25:58</td>\n",
       "      <td>helpful</td>\n",
       "      <td>1.0000</td>\n",
       "      <td>NaN</td>\n",
       "      <td>14611</td>\n",
       "      <td>لم أكن قد قرأتُ لأحلام ثلاثيتها الشهيرة، ولم أ...</td>\n",
       "      <td>2.0</td>\n",
       "      <td>neg_rating</td>\n",
       "    </tr>\n",
       "    <tr>\n",
       "      <th>4</th>\n",
       "      <td>2905523772</td>\n",
       "      <td>False</td>\n",
       "      <td>finalized</td>\n",
       "      <td>3</td>\n",
       "      <td>12/23/2020 07:54:33</td>\n",
       "      <td>helpful</td>\n",
       "      <td>1.0000</td>\n",
       "      <td>NaN</td>\n",
       "      <td>17368</td>\n",
       "      <td>تسحرني لغتها وقلمها. تمنيت أن صفحات الكتاب لا ...</td>\n",
       "      <td>4.0</td>\n",
       "      <td>pos_rating</td>\n",
       "    </tr>\n",
       "  </tbody>\n",
       "</table>\n",
       "</div>"
      ],
      "text/plain": [
       "     _unit_id  _golden _unit_state  _trusted_judgments    _last_judgment_at  \\\n",
       "0  2905523768    False   finalized                   3  12/23/2020 07:25:58   \n",
       "1  2905523769    False   finalized                   3  12/23/2020 07:25:58   \n",
       "2  2905523770    False   finalized                   3  12/23/2020 07:25:58   \n",
       "3  2905523771    False   finalized                   3  12/23/2020 07:25:58   \n",
       "4  2905523772    False   finalized                   3  12/23/2020 07:54:33   \n",
       "\n",
       "        helpfulness  confidence  helpfulness_gold     no  \\\n",
       "0  somewhat_helpful      0.6598               NaN  64963   \n",
       "1           helpful      0.6598               NaN  52854   \n",
       "2         unrelated      0.6598               NaN  48057   \n",
       "3           helpful      1.0000               NaN  14611   \n",
       "4           helpful      1.0000               NaN  17368   \n",
       "\n",
       "                                              review  rating ratings_combined  \n",
       "0  مهما كانت ميولك الفكريه .. لازم هتحب حاجه في ا...     5.0       pos_rating  \n",
       "1  .. .. هنا التقيت بأحد أعجب الرجال اطلاقا،شمس ا...     5.0       pos_rating  \n",
       "2                                              سأعود     3.0  neutral_ratings  \n",
       "3  لم أكن قد قرأتُ لأحلام ثلاثيتها الشهيرة، ولم أ...     2.0       neg_rating  \n",
       "4  تسحرني لغتها وقلمها. تمنيت أن صفحات الكتاب لا ...     4.0       pos_rating  "
      ]
     },
     "execution_count": 28,
     "metadata": {},
     "output_type": "execute_result"
    }
   ],
   "source": [
    "books_data = pd.read_csv(\"Book_labeled_all_rows_with_ratings.csv\")\n",
    "books_data.head()"
   ]
  },
  {
   "cell_type": "code",
   "execution_count": 29,
   "metadata": {
    "scrolled": true
   },
   "outputs": [
    {
     "data": {
      "text/plain": [
       "2404"
      ]
     },
     "execution_count": 29,
     "metadata": {},
     "output_type": "execute_result"
    }
   ],
   "source": [
    "len(books_data)"
   ]
  },
  {
   "cell_type": "code",
   "execution_count": 30,
   "metadata": {},
   "outputs": [
    {
     "data": {
      "text/html": [
       "<div>\n",
       "<style scoped>\n",
       "    .dataframe tbody tr th:only-of-type {\n",
       "        vertical-align: middle;\n",
       "    }\n",
       "\n",
       "    .dataframe tbody tr th {\n",
       "        vertical-align: top;\n",
       "    }\n",
       "\n",
       "    .dataframe thead th {\n",
       "        text-align: right;\n",
       "    }\n",
       "</style>\n",
       "<table border=\"1\" class=\"dataframe\">\n",
       "  <thead>\n",
       "    <tr style=\"text-align: right;\">\n",
       "      <th></th>\n",
       "      <th>_unit_id</th>\n",
       "      <th>_golden</th>\n",
       "      <th>_unit_state</th>\n",
       "      <th>_trusted_judgments</th>\n",
       "      <th>_last_judgment_at</th>\n",
       "      <th>helpfulness</th>\n",
       "      <th>confidence</th>\n",
       "      <th>helpfulness_gold</th>\n",
       "      <th>no</th>\n",
       "      <th>review</th>\n",
       "      <th>ratings_combined</th>\n",
       "    </tr>\n",
       "    <tr>\n",
       "      <th>rating</th>\n",
       "      <th></th>\n",
       "      <th></th>\n",
       "      <th></th>\n",
       "      <th></th>\n",
       "      <th></th>\n",
       "      <th></th>\n",
       "      <th></th>\n",
       "      <th></th>\n",
       "      <th></th>\n",
       "      <th></th>\n",
       "      <th></th>\n",
       "    </tr>\n",
       "  </thead>\n",
       "  <tbody>\n",
       "    <tr>\n",
       "      <th>1.0</th>\n",
       "      <td>156</td>\n",
       "      <td>156</td>\n",
       "      <td>156</td>\n",
       "      <td>156</td>\n",
       "      <td>156</td>\n",
       "      <td>156</td>\n",
       "      <td>156</td>\n",
       "      <td>0</td>\n",
       "      <td>156</td>\n",
       "      <td>156</td>\n",
       "      <td>156</td>\n",
       "    </tr>\n",
       "    <tr>\n",
       "      <th>2.0</th>\n",
       "      <td>201</td>\n",
       "      <td>201</td>\n",
       "      <td>201</td>\n",
       "      <td>201</td>\n",
       "      <td>201</td>\n",
       "      <td>201</td>\n",
       "      <td>201</td>\n",
       "      <td>0</td>\n",
       "      <td>201</td>\n",
       "      <td>201</td>\n",
       "      <td>201</td>\n",
       "    </tr>\n",
       "    <tr>\n",
       "      <th>3.0</th>\n",
       "      <td>412</td>\n",
       "      <td>412</td>\n",
       "      <td>412</td>\n",
       "      <td>412</td>\n",
       "      <td>412</td>\n",
       "      <td>412</td>\n",
       "      <td>412</td>\n",
       "      <td>0</td>\n",
       "      <td>412</td>\n",
       "      <td>412</td>\n",
       "      <td>412</td>\n",
       "    </tr>\n",
       "    <tr>\n",
       "      <th>4.0</th>\n",
       "      <td>715</td>\n",
       "      <td>715</td>\n",
       "      <td>715</td>\n",
       "      <td>715</td>\n",
       "      <td>715</td>\n",
       "      <td>715</td>\n",
       "      <td>715</td>\n",
       "      <td>0</td>\n",
       "      <td>715</td>\n",
       "      <td>715</td>\n",
       "      <td>715</td>\n",
       "    </tr>\n",
       "    <tr>\n",
       "      <th>5.0</th>\n",
       "      <td>920</td>\n",
       "      <td>920</td>\n",
       "      <td>920</td>\n",
       "      <td>920</td>\n",
       "      <td>920</td>\n",
       "      <td>920</td>\n",
       "      <td>920</td>\n",
       "      <td>0</td>\n",
       "      <td>920</td>\n",
       "      <td>920</td>\n",
       "      <td>920</td>\n",
       "    </tr>\n",
       "  </tbody>\n",
       "</table>\n",
       "</div>"
      ],
      "text/plain": [
       "        _unit_id  _golden  _unit_state  _trusted_judgments  _last_judgment_at  \\\n",
       "rating                                                                          \n",
       "1.0          156      156          156                 156                156   \n",
       "2.0          201      201          201                 201                201   \n",
       "3.0          412      412          412                 412                412   \n",
       "4.0          715      715          715                 715                715   \n",
       "5.0          920      920          920                 920                920   \n",
       "\n",
       "        helpfulness  confidence  helpfulness_gold   no  review  \\\n",
       "rating                                                           \n",
       "1.0             156         156                 0  156     156   \n",
       "2.0             201         201                 0  201     201   \n",
       "3.0             412         412                 0  412     412   \n",
       "4.0             715         715                 0  715     715   \n",
       "5.0             920         920                 0  920     920   \n",
       "\n",
       "        ratings_combined  \n",
       "rating                    \n",
       "1.0                  156  \n",
       "2.0                  201  \n",
       "3.0                  412  \n",
       "4.0                  715  \n",
       "5.0                  920  "
      ]
     },
     "execution_count": 30,
     "metadata": {},
     "output_type": "execute_result"
    }
   ],
   "source": [
    "books_data.groupby(\"rating\").count()"
   ]
  }
 ],
 "metadata": {
  "kernelspec": {
   "display_name": "Python 3",
   "language": "python",
   "name": "python3"
  },
  "language_info": {
   "codemirror_mode": {
    "name": "ipython",
    "version": 3
   },
   "file_extension": ".py",
   "mimetype": "text/x-python",
   "name": "python",
   "nbconvert_exporter": "python",
   "pygments_lexer": "ipython3",
   "version": "3.7.6"
  }
 },
 "nbformat": 4,
 "nbformat_minor": 4
}
