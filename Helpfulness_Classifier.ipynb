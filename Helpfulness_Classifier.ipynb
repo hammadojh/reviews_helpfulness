{
 "cells": [
  {
   "cell_type": "code",
   "execution_count": 1,
   "metadata": {},
   "outputs": [],
   "source": [
    "import pandas as pd"
   ]
  },
  {
   "cell_type": "code",
   "execution_count": 15,
   "metadata": {},
   "outputs": [],
   "source": [
    "galc = pd.read_csv('feature_extractor/apen/hotels/hotel_review_features_appen/GALC_Features.csv')\n",
    "helpfulness = pd.read_csv('feature_extractor/apen/hotels/appen_translated - hotels.csv')"
   ]
  },
  {
   "cell_type": "code",
   "execution_count": 19,
   "metadata": {},
   "outputs": [
    {
     "data": {
      "text/plain": [
       "2784"
      ]
     },
     "execution_count": 19,
     "metadata": {},
     "output_type": "execute_result"
    }
   ],
   "source": [
    "len(galc)"
   ]
  },
  {
   "cell_type": "code",
   "execution_count": 17,
   "metadata": {},
   "outputs": [
    {
     "data": {
      "text/plain": [
       "2784"
      ]
     },
     "execution_count": 17,
     "metadata": {},
     "output_type": "execute_result"
    }
   ],
   "source": [
    "helpfulness = helpfulness['helpfulness']\n",
    "len(helpfulness)"
   ]
  },
  {
   "cell_type": "code",
   "execution_count": 81,
   "metadata": {},
   "outputs": [],
   "source": [
    "from sklearn import svm\n",
    "from sklearn.model_selection import train_test_split\n",
    "import numpy as np"
   ]
  },
  {
   "cell_type": "code",
   "execution_count": 27,
   "metadata": {},
   "outputs": [],
   "source": [
    "X = galc\n",
    "y = helpfulness"
   ]
  },
  {
   "cell_type": "code",
   "execution_count": 61,
   "metadata": {},
   "outputs": [],
   "source": [
    "X_train, X_test, y_train, y_test = train_test_split(X, y, test_size=0.20)"
   ]
  },
  {
   "cell_type": "code",
   "execution_count": 62,
   "metadata": {},
   "outputs": [
    {
     "data": {
      "text/plain": [
       "SVC(C=1.0, break_ties=False, cache_size=200, class_weight=None, coef0=0.0,\n",
       "    decision_function_shape='ovr', degree=3, gamma='scale', kernel='rbf',\n",
       "    max_iter=-1, probability=False, random_state=None, shrinking=True,\n",
       "    tol=0.001, verbose=False)"
      ]
     },
     "execution_count": 62,
     "metadata": {},
     "output_type": "execute_result"
    }
   ],
   "source": [
    "clf = svm.SVC()\n",
    "clf.fit(X_train, y_train)"
   ]
  },
  {
   "cell_type": "code",
   "execution_count": 63,
   "metadata": {
    "scrolled": true
   },
   "outputs": [
    {
     "data": {
      "text/plain": [
       "0.7935368043087971"
      ]
     },
     "execution_count": 63,
     "metadata": {},
     "output_type": "execute_result"
    }
   ],
   "source": [
    "clf.score(X_test,y_test)"
   ]
  },
  {
   "cell_type": "code",
   "execution_count": 83,
   "metadata": {
    "scrolled": true
   },
   "outputs": [
    {
     "data": {
      "text/plain": [
       "array(['helpful', 'helpful', 'helpful', 'helpful', 'helpful', 'helpful',\n",
       "       'helpful', 'helpful', 'helpful', 'helpful', 'helpful', 'helpful',\n",
       "       'helpful', 'helpful', 'helpful', 'helpful', 'helpful', 'helpful',\n",
       "       'helpful', 'helpful', 'helpful', 'helpful', 'helpful', 'helpful',\n",
       "       'helpful', 'helpful', 'helpful', 'helpful', 'helpful', 'helpful',\n",
       "       'helpful', 'helpful', 'helpful', 'helpful', 'helpful', 'helpful',\n",
       "       'helpful', 'helpful', 'helpful', 'helpful', 'helpful', 'helpful',\n",
       "       'helpful', 'helpful', 'helpful', 'helpful', 'helpful', 'helpful',\n",
       "       'helpful', 'helpful', 'helpful', 'helpful', 'helpful', 'helpful',\n",
       "       'helpful', 'helpful', 'helpful', 'helpful', 'helpful', 'helpful',\n",
       "       'helpful', 'helpful', 'helpful', 'helpful', 'helpful', 'helpful',\n",
       "       'helpful', 'helpful', 'helpful', 'helpful', 'helpful', 'helpful',\n",
       "       'helpful', 'helpful', 'helpful', 'helpful', 'helpful', 'helpful',\n",
       "       'helpful', 'helpful', 'helpful', 'helpful', 'helpful', 'helpful',\n",
       "       'helpful', 'helpful', 'helpful', 'helpful', 'helpful', 'helpful',\n",
       "       'helpful', 'helpful', 'helpful', 'helpful', 'helpful', 'helpful',\n",
       "       'helpful', 'helpful', 'helpful', 'helpful', 'helpful', 'helpful',\n",
       "       'helpful', 'helpful', 'helpful', 'helpful', 'helpful', 'helpful',\n",
       "       'helpful', 'helpful', 'helpful', 'helpful', 'helpful', 'helpful',\n",
       "       'helpful', 'helpful', 'helpful', 'helpful', 'helpful', 'helpful',\n",
       "       'helpful', 'helpful', 'helpful', 'helpful', 'helpful', 'helpful',\n",
       "       'helpful', 'helpful', 'helpful', 'helpful', 'helpful', 'helpful',\n",
       "       'helpful', 'helpful', 'helpful', 'helpful', 'helpful', 'helpful',\n",
       "       'helpful', 'helpful', 'helpful', 'helpful', 'helpful', 'helpful',\n",
       "       'helpful', 'helpful', 'helpful', 'helpful', 'helpful', 'helpful',\n",
       "       'helpful', 'helpful', 'helpful', 'helpful', 'helpful', 'helpful',\n",
       "       'helpful', 'helpful', 'helpful', 'helpful', 'helpful', 'helpful',\n",
       "       'helpful', 'helpful', 'helpful', 'helpful', 'helpful', 'helpful',\n",
       "       'helpful', 'helpful', 'helpful', 'helpful', 'helpful', 'helpful',\n",
       "       'helpful', 'helpful', 'helpful', 'helpful', 'helpful', 'helpful',\n",
       "       'helpful', 'helpful', 'helpful', 'helpful', 'helpful', 'helpful',\n",
       "       'helpful', 'helpful', 'helpful', 'helpful', 'helpful', 'helpful',\n",
       "       'helpful', 'helpful', 'helpful', 'helpful', 'helpful', 'helpful',\n",
       "       'helpful', 'helpful', 'helpful', 'helpful', 'helpful', 'helpful',\n",
       "       'helpful', 'helpful', 'helpful', 'helpful', 'helpful', 'helpful',\n",
       "       'helpful', 'helpful', 'helpful', 'helpful', 'helpful', 'helpful',\n",
       "       'helpful', 'helpful', 'helpful', 'helpful', 'helpful', 'helpful',\n",
       "       'helpful', 'helpful', 'helpful', 'helpful', 'helpful', 'helpful',\n",
       "       'helpful', 'helpful', 'helpful', 'helpful', 'helpful', 'helpful',\n",
       "       'helpful', 'helpful', 'helpful', 'helpful', 'helpful', 'helpful',\n",
       "       'helpful', 'helpful', 'helpful', 'helpful', 'helpful', 'helpful',\n",
       "       'helpful', 'helpful', 'helpful', 'helpful', 'helpful', 'helpful',\n",
       "       'helpful', 'helpful', 'helpful', 'helpful', 'helpful', 'helpful',\n",
       "       'helpful', 'helpful', 'helpful', 'helpful', 'helpful', 'helpful',\n",
       "       'helpful', 'helpful', 'helpful', 'helpful', 'helpful', 'helpful',\n",
       "       'helpful', 'helpful', 'helpful', 'helpful', 'helpful', 'helpful',\n",
       "       'helpful', 'helpful', 'helpful', 'helpful', 'helpful', 'helpful',\n",
       "       'helpful', 'helpful', 'helpful', 'helpful', 'helpful', 'helpful',\n",
       "       'helpful', 'helpful', 'helpful', 'helpful', 'helpful', 'helpful',\n",
       "       'helpful', 'helpful', 'helpful', 'helpful', 'helpful', 'helpful',\n",
       "       'helpful', 'helpful', 'helpful', 'helpful', 'helpful', 'helpful',\n",
       "       'helpful', 'helpful', 'helpful', 'helpful', 'helpful', 'helpful',\n",
       "       'helpful', 'helpful', 'helpful', 'helpful', 'helpful', 'helpful',\n",
       "       'helpful', 'helpful', 'helpful', 'helpful', 'helpful', 'helpful',\n",
       "       'helpful', 'helpful', 'helpful', 'helpful', 'helpful', 'helpful',\n",
       "       'helpful', 'helpful', 'helpful', 'helpful', 'helpful', 'helpful',\n",
       "       'helpful', 'helpful', 'helpful', 'helpful', 'helpful', 'helpful',\n",
       "       'helpful', 'helpful', 'helpful', 'helpful', 'helpful', 'helpful',\n",
       "       'helpful', 'helpful', 'helpful', 'helpful', 'helpful', 'helpful',\n",
       "       'helpful', 'helpful', 'helpful', 'helpful', 'helpful', 'helpful',\n",
       "       'helpful', 'helpful', 'helpful', 'helpful', 'helpful', 'helpful',\n",
       "       'helpful', 'helpful', 'helpful', 'helpful', 'helpful', 'helpful',\n",
       "       'helpful', 'helpful', 'helpful', 'helpful', 'helpful', 'helpful',\n",
       "       'helpful', 'helpful', 'helpful', 'helpful', 'helpful', 'helpful',\n",
       "       'helpful', 'helpful', 'helpful', 'helpful', 'helpful', 'helpful',\n",
       "       'helpful', 'helpful', 'helpful', 'helpful', 'helpful', 'helpful',\n",
       "       'helpful', 'helpful', 'helpful', 'helpful', 'helpful', 'helpful',\n",
       "       'helpful', 'helpful', 'helpful', 'helpful', 'helpful', 'helpful',\n",
       "       'helpful', 'helpful', 'helpful', 'helpful', 'helpful', 'helpful',\n",
       "       'helpful', 'helpful', 'helpful', 'helpful', 'helpful', 'helpful',\n",
       "       'helpful', 'helpful', 'helpful', 'helpful', 'helpful', 'helpful',\n",
       "       'helpful', 'helpful', 'helpful', 'helpful', 'helpful', 'helpful',\n",
       "       'helpful', 'helpful', 'helpful', 'helpful', 'helpful', 'helpful',\n",
       "       'helpful', 'helpful', 'helpful', 'helpful', 'helpful', 'helpful',\n",
       "       'helpful', 'helpful', 'helpful', 'helpful', 'helpful', 'helpful',\n",
       "       'helpful', 'helpful', 'helpful', 'helpful', 'helpful', 'helpful',\n",
       "       'helpful', 'helpful', 'helpful', 'helpful', 'helpful', 'helpful',\n",
       "       'helpful', 'helpful', 'helpful', 'helpful', 'helpful', 'helpful',\n",
       "       'helpful', 'helpful', 'helpful', 'helpful', 'helpful', 'helpful',\n",
       "       'helpful', 'helpful', 'helpful', 'helpful', 'helpful', 'helpful',\n",
       "       'helpful', 'helpful', 'helpful', 'helpful', 'helpful', 'helpful',\n",
       "       'helpful', 'helpful', 'helpful', 'helpful', 'helpful', 'helpful',\n",
       "       'helpful', 'helpful', 'helpful', 'helpful', 'helpful', 'helpful',\n",
       "       'helpful', 'helpful', 'helpful', 'helpful', 'helpful', 'helpful',\n",
       "       'helpful', 'helpful', 'helpful', 'helpful', 'helpful', 'helpful',\n",
       "       'helpful', 'helpful', 'helpful', 'helpful', 'helpful', 'helpful',\n",
       "       'helpful', 'helpful', 'helpful', 'helpful', 'helpful', 'helpful',\n",
       "       'helpful', 'helpful', 'helpful', 'helpful', 'helpful', 'helpful',\n",
       "       'helpful', 'helpful', 'helpful', 'helpful', 'helpful', 'helpful',\n",
       "       'helpful', 'helpful', 'helpful', 'helpful', 'helpful', 'helpful',\n",
       "       'helpful', 'helpful', 'helpful', 'helpful', 'helpful', 'helpful',\n",
       "       'helpful', 'helpful', 'helpful', 'helpful', 'helpful', 'helpful',\n",
       "       'helpful', 'helpful', 'helpful', 'helpful', 'helpful'],\n",
       "      dtype=object)"
      ]
     },
     "execution_count": 83,
     "metadata": {},
     "output_type": "execute_result"
    }
   ],
   "source": [
    "clf.predict(X_test) # this is why"
   ]
  },
  {
   "cell_type": "code",
   "execution_count": 91,
   "metadata": {},
   "outputs": [],
   "source": [
    "struct = pd.read_csv('feature_extractor/apen/hotels/hotel_review_features_appen/struct_feats.csv')"
   ]
  },
  {
   "cell_type": "code",
   "execution_count": 92,
   "metadata": {},
   "outputs": [
    {
     "data": {
      "text/plain": [
       "SVC(C=1.0, break_ties=False, cache_size=200, class_weight=None, coef0=0.0,\n",
       "    decision_function_shape='ovr', degree=3, gamma='scale', kernel='rbf',\n",
       "    max_iter=-1, probability=False, random_state=None, shrinking=True,\n",
       "    tol=0.001, verbose=False)"
      ]
     },
     "execution_count": 92,
     "metadata": {},
     "output_type": "execute_result"
    }
   ],
   "source": [
    "X_train, X_test, y_train, y_test = train_test_split(struct, y, test_size=0.20)\n",
    "clf.fit(X_train, y_train)"
   ]
  },
  {
   "cell_type": "code",
   "execution_count": 93,
   "metadata": {
    "scrolled": true
   },
   "outputs": [
    {
     "name": "stdout",
     "output_type": "stream",
     "text": [
      "0.7594254937163375\n",
      "Unnamed: 0        2604.000000\n",
      "length               0.137812\n",
      "num_tokens           0.117647\n",
      "num_sentences        0.000000\n",
      "avg_sent_len         0.169492\n",
      "num_exclm_mark       0.000000\n",
      "ratio_q              0.000000\n",
      "Name: 2604, dtype: float64\n",
      "['helpful' 'helpful' 'helpful' 'helpful' 'helpful' 'helpful' 'helpful'\n",
      " 'helpful' 'helpful' 'helpful' 'helpful' 'helpful' 'helpful' 'helpful'\n",
      " 'helpful' 'helpful' 'helpful' 'helpful' 'helpful' 'helpful' 'helpful'\n",
      " 'helpful' 'helpful' 'helpful' 'helpful' 'helpful' 'helpful' 'helpful'\n",
      " 'helpful' 'helpful' 'helpful' 'helpful' 'helpful' 'helpful' 'helpful'\n",
      " 'helpful' 'helpful' 'helpful' 'helpful' 'helpful' 'helpful' 'helpful'\n",
      " 'helpful' 'helpful' 'helpful' 'helpful' 'helpful' 'helpful' 'helpful'\n",
      " 'helpful' 'helpful' 'helpful' 'helpful' 'helpful' 'helpful' 'helpful'\n",
      " 'helpful' 'helpful' 'helpful' 'helpful' 'helpful' 'helpful' 'helpful'\n",
      " 'helpful' 'helpful' 'helpful' 'helpful' 'helpful' 'helpful' 'helpful'\n",
      " 'helpful' 'helpful' 'helpful' 'helpful' 'helpful' 'helpful' 'helpful'\n",
      " 'helpful' 'helpful' 'helpful' 'helpful' 'helpful' 'helpful' 'helpful'\n",
      " 'helpful' 'helpful' 'helpful' 'helpful' 'helpful' 'helpful' 'helpful'\n",
      " 'helpful' 'helpful' 'helpful' 'helpful' 'helpful' 'helpful' 'helpful'\n",
      " 'helpful' 'helpful' 'helpful' 'helpful' 'helpful' 'helpful' 'helpful'\n",
      " 'helpful' 'helpful' 'helpful' 'helpful' 'helpful' 'helpful' 'helpful'\n",
      " 'helpful' 'helpful' 'helpful' 'helpful' 'helpful' 'helpful' 'helpful'\n",
      " 'helpful' 'helpful' 'helpful' 'helpful' 'helpful' 'helpful' 'helpful'\n",
      " 'helpful' 'helpful' 'helpful' 'helpful' 'helpful' 'helpful' 'helpful'\n",
      " 'helpful' 'helpful' 'helpful' 'helpful' 'helpful' 'helpful' 'helpful'\n",
      " 'helpful' 'helpful' 'helpful' 'helpful' 'helpful' 'helpful' 'helpful'\n",
      " 'helpful' 'helpful' 'helpful' 'helpful' 'helpful' 'helpful' 'helpful'\n",
      " 'helpful' 'helpful' 'helpful' 'helpful' 'helpful' 'helpful' 'helpful'\n",
      " 'helpful' 'helpful' 'helpful' 'helpful' 'helpful' 'helpful' 'helpful'\n",
      " 'helpful' 'helpful' 'helpful' 'helpful' 'helpful' 'helpful' 'helpful'\n",
      " 'helpful' 'helpful' 'helpful' 'helpful' 'helpful' 'helpful' 'helpful'\n",
      " 'helpful' 'helpful' 'helpful' 'helpful' 'helpful' 'helpful' 'helpful'\n",
      " 'helpful' 'helpful' 'helpful' 'helpful' 'helpful' 'helpful' 'helpful'\n",
      " 'helpful' 'helpful' 'helpful' 'helpful' 'helpful' 'helpful' 'helpful'\n",
      " 'helpful' 'helpful' 'helpful' 'helpful' 'helpful' 'helpful' 'helpful'\n",
      " 'helpful' 'helpful' 'helpful' 'helpful' 'helpful' 'helpful' 'helpful'\n",
      " 'helpful' 'helpful' 'helpful' 'helpful' 'helpful' 'helpful' 'helpful'\n",
      " 'helpful' 'helpful' 'helpful' 'helpful' 'helpful' 'helpful' 'helpful'\n",
      " 'helpful' 'helpful' 'helpful' 'helpful' 'helpful' 'helpful' 'helpful'\n",
      " 'helpful' 'helpful' 'helpful' 'helpful' 'helpful' 'helpful' 'helpful'\n",
      " 'helpful' 'helpful' 'helpful' 'helpful' 'helpful' 'helpful' 'helpful'\n",
      " 'helpful' 'helpful' 'helpful' 'helpful' 'helpful' 'helpful' 'helpful'\n",
      " 'helpful' 'helpful' 'helpful' 'helpful' 'helpful' 'helpful' 'helpful'\n",
      " 'helpful' 'helpful' 'helpful' 'helpful' 'helpful' 'helpful' 'helpful'\n",
      " 'helpful' 'helpful' 'helpful' 'helpful' 'helpful' 'helpful' 'helpful'\n",
      " 'helpful' 'helpful' 'helpful' 'helpful' 'helpful' 'helpful' 'helpful'\n",
      " 'helpful' 'helpful' 'helpful' 'helpful' 'helpful' 'helpful' 'helpful'\n",
      " 'helpful' 'helpful' 'helpful' 'helpful' 'helpful' 'helpful' 'helpful'\n",
      " 'helpful' 'helpful' 'helpful' 'helpful' 'helpful' 'helpful' 'helpful'\n",
      " 'helpful' 'helpful' 'helpful' 'helpful' 'helpful' 'helpful' 'helpful'\n",
      " 'helpful' 'helpful' 'helpful' 'helpful' 'helpful' 'helpful' 'helpful'\n",
      " 'helpful' 'helpful' 'helpful' 'helpful' 'helpful' 'helpful' 'helpful'\n",
      " 'helpful' 'helpful' 'helpful' 'helpful' 'helpful' 'helpful' 'helpful'\n",
      " 'helpful' 'helpful' 'helpful' 'helpful' 'helpful' 'helpful' 'helpful'\n",
      " 'helpful' 'helpful' 'helpful' 'helpful' 'helpful' 'helpful' 'helpful'\n",
      " 'helpful' 'helpful' 'helpful' 'helpful' 'helpful' 'helpful' 'helpful'\n",
      " 'helpful' 'helpful' 'helpful' 'helpful' 'helpful' 'helpful' 'helpful'\n",
      " 'helpful' 'helpful' 'helpful' 'helpful' 'helpful' 'helpful' 'helpful'\n",
      " 'helpful' 'helpful' 'helpful' 'helpful' 'helpful' 'helpful' 'helpful'\n",
      " 'helpful' 'helpful' 'helpful' 'helpful' 'helpful' 'helpful' 'helpful'\n",
      " 'helpful' 'helpful' 'helpful' 'helpful' 'helpful' 'helpful' 'helpful'\n",
      " 'helpful' 'helpful' 'helpful' 'helpful' 'helpful' 'helpful' 'helpful'\n",
      " 'helpful' 'helpful' 'helpful' 'helpful' 'helpful' 'helpful' 'helpful'\n",
      " 'helpful' 'helpful' 'helpful' 'helpful' 'helpful' 'helpful' 'helpful'\n",
      " 'helpful' 'helpful' 'helpful' 'helpful' 'helpful' 'helpful' 'helpful'\n",
      " 'helpful' 'helpful' 'helpful' 'helpful' 'helpful' 'helpful' 'helpful'\n",
      " 'helpful' 'helpful' 'helpful' 'helpful' 'helpful' 'helpful' 'helpful'\n",
      " 'helpful' 'helpful' 'helpful' 'helpful' 'helpful' 'helpful' 'helpful'\n",
      " 'helpful' 'helpful' 'helpful' 'helpful' 'helpful' 'helpful' 'helpful'\n",
      " 'helpful' 'helpful' 'helpful' 'helpful' 'helpful' 'helpful' 'helpful'\n",
      " 'helpful' 'helpful' 'helpful' 'helpful' 'helpful' 'helpful' 'helpful'\n",
      " 'helpful' 'helpful' 'helpful' 'helpful' 'helpful' 'helpful' 'helpful'\n",
      " 'helpful' 'helpful' 'helpful' 'helpful' 'helpful' 'helpful' 'helpful'\n",
      " 'helpful' 'helpful' 'helpful' 'helpful' 'helpful' 'helpful' 'helpful'\n",
      " 'helpful' 'helpful' 'helpful' 'helpful' 'helpful' 'helpful' 'helpful'\n",
      " 'helpful' 'helpful' 'helpful' 'helpful' 'helpful' 'helpful' 'helpful'\n",
      " 'helpful' 'helpful' 'helpful' 'helpful' 'helpful' 'helpful' 'helpful'\n",
      " 'helpful' 'helpful' 'helpful' 'helpful' 'helpful' 'helpful' 'helpful'\n",
      " 'helpful' 'helpful' 'helpful' 'helpful' 'helpful' 'helpful' 'helpful'\n",
      " 'helpful' 'helpful' 'helpful' 'helpful' 'helpful' 'helpful' 'helpful'\n",
      " 'helpful' 'helpful' 'helpful' 'helpful' 'helpful' 'helpful' 'helpful'\n",
      " 'helpful' 'helpful' 'helpful' 'helpful' 'helpful' 'helpful' 'helpful'\n",
      " 'helpful' 'helpful' 'helpful' 'helpful' 'helpful' 'helpful' 'helpful'\n",
      " 'helpful' 'helpful' 'helpful' 'helpful' 'helpful' 'helpful' 'helpful'\n",
      " 'helpful' 'helpful' 'helpful' 'helpful']\n"
     ]
    }
   ],
   "source": [
    "print(clf.score(X_test,y_test))\n",
    "print(X_test.iloc[1])\n",
    "print(clf.predict(X_test) )"
   ]
  },
  {
   "cell_type": "code",
   "execution_count": 102,
   "metadata": {},
   "outputs": [
    {
     "name": "stdout",
     "output_type": "stream",
     "text": [
      "helpful 2143\n",
      "somwhat helpful 475\n",
      "not helpful 135\n"
     ]
    }
   ],
   "source": [
    "print(\"helpful\",sum(helpfulness == \"helpful\"))\n",
    "print(\"somwhat helpful\",sum(helpfulness == \"somewhat_helpful\"))\n",
    "print(\"not helpful\",sum(helpfulness == \"not_helpful\"))"
   ]
  },
  {
   "cell_type": "code",
   "execution_count": 112,
   "metadata": {},
   "outputs": [],
   "source": [
    "helpfulness_numeric = np.zeros((len(helpfulness)))"
   ]
  },
  {
   "cell_type": "code",
   "execution_count": 113,
   "metadata": {},
   "outputs": [
    {
     "data": {
      "text/plain": [
       "0.0"
      ]
     },
     "execution_count": 113,
     "metadata": {},
     "output_type": "execute_result"
    }
   ],
   "source": [
    "helpfulness_numeric[0]"
   ]
  },
  {
   "cell_type": "code",
   "execution_count": 114,
   "metadata": {},
   "outputs": [
    {
     "data": {
      "text/plain": [
       "'helpful'"
      ]
     },
     "execution_count": 114,
     "metadata": {},
     "output_type": "execute_result"
    }
   ],
   "source": [
    "helpfulness[1]"
   ]
  },
  {
   "cell_type": "code",
   "execution_count": 115,
   "metadata": {},
   "outputs": [],
   "source": [
    "for i in range(len(helpfulness_numeric)):\n",
    "    if helpfulness[i] == \"helpful\":\n",
    "        helpfulness_numeric[i] = 0\n",
    "    elif helpfulness[i] == \"somewhat_helpful\":\n",
    "        helpfulness_numeric[i] = 1\n",
    "    else:\n",
    "        helpfulness_numeric[i] = 2"
   ]
  },
  {
   "cell_type": "code",
   "execution_count": 117,
   "metadata": {},
   "outputs": [
    {
     "data": {
      "text/plain": [
       "array([0., 0., 0., 0., 0., 0., 0., 0., 0., 0., 0., 0., 0., 0., 0., 0., 0.,\n",
       "       0., 0., 0., 2., 0., 0., 1., 0., 0., 0., 0., 0., 0., 0., 0., 0., 0.,\n",
       "       0., 0., 0., 0., 0., 0., 0., 0., 0., 0., 0., 0., 0., 0., 0., 0., 0.,\n",
       "       0., 0., 0., 0., 0., 0., 0., 0., 0., 0., 0., 0., 0., 0., 2., 0., 2.,\n",
       "       0., 0., 0., 0., 0., 0., 0., 0., 0., 0., 0., 2., 0., 0., 2., 0., 0.,\n",
       "       0., 0., 0., 0., 0., 0., 0., 0., 0., 0., 0., 0., 0., 2., 0.])"
      ]
     },
     "execution_count": 117,
     "metadata": {},
     "output_type": "execute_result"
    }
   ],
   "source": [
    "helpfulness_numeric[:100]"
   ]
  },
  {
   "cell_type": "code",
   "execution_count": 118,
   "metadata": {},
   "outputs": [
    {
     "data": {
      "text/plain": [
       "SVC(C=1.0, break_ties=False, cache_size=200, class_weight=None, coef0=0.0,\n",
       "    decision_function_shape='ovr', degree=3, gamma='scale', kernel='rbf',\n",
       "    max_iter=-1, probability=False, random_state=None, shrinking=True,\n",
       "    tol=0.001, verbose=False)"
      ]
     },
     "execution_count": 118,
     "metadata": {},
     "output_type": "execute_result"
    }
   ],
   "source": [
    "X_train, X_test, y_train, y_test = train_test_split(struct, helpfulness_numeric, test_size=0.20)\n",
    "clf.fit(X_train, y_train)"
   ]
  },
  {
   "cell_type": "code",
   "execution_count": 119,
   "metadata": {
    "scrolled": true
   },
   "outputs": [
    {
     "name": "stdout",
     "output_type": "stream",
     "text": [
      "0.7755834829443446\n",
      "Unnamed: 0        2481.000000\n",
      "length               0.111972\n",
      "num_tokens           0.081448\n",
      "num_sentences        0.000000\n",
      "avg_sent_len         0.137712\n",
      "num_exclm_mark       0.000000\n",
      "ratio_q              0.000000\n",
      "Name: 2481, dtype: float64\n",
      "[0. 0. 0. 0. 0. 0. 0. 0. 0. 0. 0. 0. 0. 0. 0. 0. 0. 0. 0. 0. 0. 0. 0. 0.\n",
      " 0. 0. 0. 0. 0. 0. 0. 0. 0. 0. 0. 0. 0. 0. 0. 0. 0. 0. 0. 0. 0. 0. 0. 0.\n",
      " 0. 0. 0. 0. 0. 0. 0. 0. 0. 0. 0. 0. 0. 0. 0. 0. 0. 0. 0. 0. 0. 0. 0. 0.\n",
      " 0. 0. 0. 0. 0. 0. 0. 0. 0. 0. 0. 0. 0. 0. 0. 0. 0. 0. 0. 0. 0. 0. 0. 0.\n",
      " 0. 0. 0. 0. 0. 0. 0. 0. 0. 0. 0. 0. 0. 0. 0. 0. 0. 0. 0. 0. 0. 0. 0. 0.\n",
      " 0. 0. 0. 0. 0. 0. 0. 0. 0. 0. 0. 0. 0. 0. 0. 0. 0. 0. 0. 0. 0. 0. 0. 0.\n",
      " 0. 0. 0. 0. 0. 0. 0. 0. 0. 0. 0. 0. 0. 0. 0. 0. 0. 0. 0. 0. 0. 0. 0. 0.\n",
      " 0. 0. 0. 0. 0. 0. 0. 0. 0. 0. 0. 0. 0. 0. 0. 0. 0. 0. 0. 0. 0. 0. 0. 0.\n",
      " 0. 0. 0. 0. 0. 0. 0. 0. 0. 0. 0. 0. 0. 0. 0. 0. 0. 0. 0. 0. 0. 0. 0. 0.\n",
      " 0. 0. 0. 0. 0. 0. 0. 0. 0. 0. 0. 0. 0. 0. 0. 0. 0. 0. 0. 0. 0. 0. 0. 0.\n",
      " 0. 0. 0. 0. 0. 0. 0. 0. 0. 0. 0. 0. 0. 0. 0. 0. 0. 0. 0. 0. 0. 0. 0. 0.\n",
      " 0. 0. 0. 0. 0. 0. 0. 0. 0. 0. 0. 0. 0. 0. 0. 0. 0. 0. 0. 0. 0. 0. 0. 0.\n",
      " 0. 0. 0. 0. 0. 0. 0. 0. 0. 0. 0. 0. 0. 0. 0. 0. 0. 0. 0. 0. 0. 0. 0. 0.\n",
      " 0. 0. 0. 0. 0. 0. 0. 0. 0. 0. 0. 0. 0. 0. 0. 0. 0. 0. 0. 0. 0. 0. 0. 0.\n",
      " 0. 0. 0. 0. 0. 0. 0. 0. 0. 0. 0. 0. 0. 0. 0. 0. 0. 0. 0. 0. 0. 0. 0. 0.\n",
      " 0. 0. 0. 0. 0. 0. 0. 0. 0. 0. 0. 0. 0. 0. 0. 0. 0. 0. 0. 0. 0. 0. 0. 0.\n",
      " 0. 0. 0. 0. 0. 0. 0. 0. 0. 0. 0. 0. 0. 0. 0. 0. 0. 0. 0. 0. 0. 0. 0. 0.\n",
      " 0. 0. 0. 0. 0. 0. 0. 0. 0. 0. 0. 0. 0. 0. 0. 0. 0. 0. 0. 0. 0. 0. 0. 0.\n",
      " 0. 0. 0. 0. 0. 0. 0. 0. 0. 0. 0. 0. 0. 0. 0. 0. 0. 0. 0. 0. 0. 0. 0. 0.\n",
      " 0. 0. 0. 0. 0. 0. 0. 0. 0. 0. 0. 0. 0. 0. 0. 0. 0. 0. 0. 0. 0. 0. 0. 0.\n",
      " 0. 0. 0. 0. 0. 0. 0. 0. 0. 0. 0. 0. 0. 0. 0. 0. 0. 0. 0. 0. 0. 0. 0. 0.\n",
      " 0. 0. 0. 0. 0. 0. 0. 0. 0. 0. 0. 0. 0. 0. 0. 0. 0. 0. 0. 0. 0. 0. 0. 0.\n",
      " 0. 0. 0. 0. 0. 0. 0. 0. 0. 0. 0. 0. 0. 0. 0. 0. 0. 0. 0. 0. 0. 0. 0. 0.\n",
      " 0. 0. 0. 0. 0.]\n"
     ]
    }
   ],
   "source": [
    "print(clf.score(X_test,y_test))\n",
    "print(X_test.iloc[1])\n",
    "print(clf.predict(X_test))"
   ]
  },
  {
   "cell_type": "code",
   "execution_count": 120,
   "metadata": {},
   "outputs": [],
   "source": [
    "def run_svm(X,y):\n",
    "    X_train, X_test, y_train, y_test = train_test_split(X, helpfulness_numeric, test_size=0.20)\n",
    "    clf.fit(X_train, y_train)\n",
    "    print(\"Score:\", clf.score(X_test,y_test))\n",
    "    print(\"Prediction:\", clf.predict(X_test))"
   ]
  },
  {
   "cell_type": "code",
   "execution_count": 121,
   "metadata": {},
   "outputs": [],
   "source": [
    "galc = pd.read_csv('feature_extractor/apen/hotels/hotel_review_features_appen/GALC_Features.csv')\n",
    "struct = pd.read_csv('feature_extractor/apen/hotels/hotel_review_features_appen/struct_feats.csv')\n",
    "inq = pd.read_csv('feature_extractor/apen/hotels/hotel_review_features_appen/inq_features.csv')\n",
    "liwc = pd.read_csv('feature_extractor/apen/hotels/hotel_review_features_appen/LIWC_Features.csv')\n",
    "tf_idf = pd.read_csv('feature_extractor/apen/hotels/hotel_review_features_appen/tf_idf_freq_0.csv')"
   ]
  },
  {
   "cell_type": "code",
   "execution_count": 122,
   "metadata": {
    "scrolled": true
   },
   "outputs": [
    {
     "name": "stdout",
     "output_type": "stream",
     "text": [
      "Score: 0.7594254937163375\n",
      "Prediction: [0. 0. 0. 0. 0. 0. 0. 0. 0. 0. 0. 0. 0. 0. 0. 0. 0. 0. 0. 0. 0. 0. 0. 0.\n",
      " 0. 0. 0. 0. 0. 0. 0. 0. 0. 0. 0. 0. 0. 0. 0. 0. 0. 0. 0. 0. 0. 0. 0. 0.\n",
      " 0. 0. 0. 0. 0. 0. 0. 0. 0. 0. 0. 0. 0. 0. 0. 0. 0. 0. 0. 0. 0. 0. 0. 0.\n",
      " 0. 0. 0. 0. 0. 0. 0. 0. 0. 0. 0. 0. 0. 0. 0. 0. 0. 0. 0. 0. 0. 0. 0. 0.\n",
      " 0. 0. 0. 0. 0. 0. 0. 0. 0. 0. 0. 0. 0. 0. 0. 0. 0. 0. 0. 0. 0. 0. 0. 0.\n",
      " 0. 0. 0. 0. 0. 0. 0. 0. 0. 0. 0. 0. 0. 0. 0. 0. 0. 0. 0. 0. 0. 0. 0. 0.\n",
      " 0. 0. 0. 0. 0. 0. 0. 0. 0. 0. 0. 0. 0. 0. 0. 0. 0. 0. 0. 0. 0. 0. 0. 0.\n",
      " 0. 0. 0. 0. 0. 0. 0. 0. 0. 0. 0. 0. 0. 0. 0. 0. 0. 0. 0. 0. 0. 0. 0. 0.\n",
      " 0. 0. 0. 0. 0. 0. 0. 0. 0. 0. 0. 0. 0. 0. 0. 0. 0. 0. 0. 0. 0. 0. 0. 0.\n",
      " 0. 0. 0. 0. 0. 0. 0. 0. 0. 0. 0. 0. 0. 0. 0. 0. 0. 0. 0. 0. 0. 0. 0. 0.\n",
      " 0. 0. 0. 0. 0. 0. 0. 0. 0. 0. 0. 0. 0. 0. 0. 0. 0. 0. 0. 0. 0. 0. 0. 0.\n",
      " 0. 0. 0. 0. 0. 0. 0. 0. 0. 0. 0. 0. 0. 0. 0. 0. 0. 0. 0. 0. 0. 0. 0. 0.\n",
      " 0. 0. 0. 0. 0. 0. 0. 0. 0. 0. 0. 0. 0. 0. 0. 0. 0. 0. 0. 0. 0. 0. 0. 0.\n",
      " 0. 0. 0. 0. 0. 0. 0. 0. 0. 0. 0. 0. 0. 0. 0. 0. 0. 0. 0. 0. 0. 0. 0. 0.\n",
      " 0. 0. 0. 0. 0. 0. 0. 0. 0. 0. 0. 0. 0. 0. 0. 0. 0. 0. 0. 0. 0. 0. 0. 0.\n",
      " 0. 0. 0. 0. 0. 0. 0. 0. 0. 0. 0. 0. 0. 0. 0. 0. 0. 0. 0. 0. 0. 0. 0. 0.\n",
      " 0. 0. 0. 0. 0. 0. 0. 0. 0. 0. 0. 0. 0. 0. 0. 0. 0. 0. 0. 0. 0. 0. 0. 0.\n",
      " 0. 0. 0. 0. 0. 0. 0. 0. 0. 0. 0. 0. 0. 0. 0. 0. 0. 0. 0. 0. 0. 0. 0. 0.\n",
      " 0. 0. 0. 0. 0. 0. 0. 0. 0. 0. 0. 0. 0. 0. 0. 0. 0. 0. 0. 0. 0. 0. 0. 0.\n",
      " 0. 0. 0. 0. 0. 0. 0. 0. 0. 0. 0. 0. 0. 0. 0. 0. 0. 0. 0. 0. 0. 0. 0. 0.\n",
      " 0. 0. 0. 0. 0. 0. 0. 0. 0. 0. 0. 0. 0. 0. 0. 0. 0. 0. 0. 0. 0. 0. 0. 0.\n",
      " 0. 0. 0. 0. 0. 0. 0. 0. 0. 0. 0. 0. 0. 0. 0. 0. 0. 0. 0. 0. 0. 0. 0. 0.\n",
      " 0. 0. 0. 0. 0. 0. 0. 0. 0. 0. 0. 0. 0. 0. 0. 0. 0. 0. 0. 0. 0. 0. 0. 0.\n",
      " 0. 0. 0. 0. 0.]\n"
     ]
    }
   ],
   "source": [
    "run_svm(galc,helpfulness_numeric)"
   ]
  },
  {
   "cell_type": "code",
   "execution_count": 123,
   "metadata": {
    "scrolled": true
   },
   "outputs": [
    {
     "name": "stdout",
     "output_type": "stream",
     "text": [
      "Score: 0.77737881508079\n",
      "Prediction: [0. 0. 0. 0. 0. 0. 0. 0. 0. 0. 0. 0. 0. 0. 0. 0. 0. 0. 0. 0. 0. 0. 0. 0.\n",
      " 0. 0. 0. 0. 0. 0. 0. 0. 0. 0. 0. 0. 0. 0. 0. 0. 0. 0. 0. 0. 0. 0. 0. 0.\n",
      " 0. 0. 0. 0. 0. 0. 0. 0. 0. 0. 0. 0. 0. 0. 0. 0. 0. 0. 0. 0. 0. 0. 0. 0.\n",
      " 0. 0. 0. 0. 0. 0. 0. 0. 0. 0. 0. 0. 0. 0. 0. 0. 0. 0. 0. 0. 0. 0. 0. 0.\n",
      " 0. 0. 0. 0. 0. 0. 0. 0. 0. 0. 0. 0. 0. 0. 0. 0. 0. 0. 0. 0. 0. 0. 0. 0.\n",
      " 0. 0. 0. 0. 0. 0. 0. 0. 0. 0. 0. 0. 0. 0. 0. 0. 0. 0. 0. 0. 0. 0. 0. 0.\n",
      " 0. 0. 0. 0. 0. 0. 0. 0. 0. 0. 0. 0. 0. 0. 0. 0. 0. 0. 0. 0. 0. 0. 0. 0.\n",
      " 0. 0. 0. 0. 0. 0. 0. 0. 0. 0. 0. 0. 0. 0. 0. 0. 0. 0. 0. 0. 0. 0. 0. 0.\n",
      " 0. 0. 0. 0. 0. 0. 0. 0. 0. 0. 0. 0. 0. 0. 0. 0. 0. 0. 0. 0. 0. 0. 0. 0.\n",
      " 0. 0. 0. 0. 0. 0. 0. 0. 0. 0. 0. 0. 0. 0. 0. 0. 0. 0. 0. 0. 0. 0. 0. 0.\n",
      " 0. 0. 0. 0. 0. 0. 0. 0. 0. 0. 0. 0. 0. 0. 0. 0. 0. 0. 0. 0. 0. 0. 0. 0.\n",
      " 0. 0. 0. 0. 0. 0. 0. 0. 0. 0. 0. 0. 0. 0. 0. 0. 0. 0. 0. 0. 0. 0. 0. 0.\n",
      " 0. 0. 0. 0. 0. 0. 0. 0. 0. 0. 0. 0. 0. 0. 0. 0. 0. 0. 0. 0. 0. 0. 0. 0.\n",
      " 0. 0. 0. 0. 0. 0. 0. 0. 0. 0. 0. 0. 0. 0. 0. 0. 0. 0. 0. 0. 0. 0. 0. 0.\n",
      " 0. 0. 0. 0. 0. 0. 0. 0. 0. 0. 0. 0. 0. 0. 0. 0. 0. 0. 0. 0. 0. 0. 0. 0.\n",
      " 0. 0. 0. 0. 0. 0. 0. 0. 0. 0. 0. 0. 0. 0. 0. 0. 0. 0. 0. 0. 0. 0. 0. 0.\n",
      " 0. 0. 0. 0. 0. 0. 0. 0. 0. 0. 0. 0. 0. 0. 0. 0. 0. 0. 0. 0. 0. 0. 0. 0.\n",
      " 0. 0. 0. 0. 0. 0. 0. 0. 0. 0. 0. 0. 0. 0. 0. 0. 0. 0. 0. 0. 0. 0. 0. 0.\n",
      " 0. 0. 0. 0. 0. 0. 0. 0. 0. 0. 0. 0. 0. 0. 0. 0. 0. 0. 0. 0. 0. 0. 0. 0.\n",
      " 0. 0. 0. 0. 0. 0. 0. 0. 0. 0. 0. 0. 0. 0. 0. 0. 0. 0. 0. 0. 0. 0. 0. 0.\n",
      " 0. 0. 0. 0. 0. 0. 0. 0. 0. 0. 0. 0. 0. 0. 0. 0. 0. 0. 0. 0. 0. 0. 0. 0.\n",
      " 0. 0. 0. 0. 0. 0. 0. 0. 0. 0. 0. 0. 0. 0. 0. 0. 0. 0. 0. 0. 0. 0. 0. 0.\n",
      " 0. 0. 0. 0. 0. 0. 0. 0. 0. 0. 0. 0. 0. 0. 0. 0. 0. 0. 0. 0. 0. 0. 0. 0.\n",
      " 0. 0. 0. 0. 0.]\n"
     ]
    }
   ],
   "source": [
    "run_svm(struct,helpfulness_numeric)"
   ]
  },
  {
   "cell_type": "code",
   "execution_count": 125,
   "metadata": {
    "scrolled": true
   },
   "outputs": [
    {
     "name": "stdout",
     "output_type": "stream",
     "text": [
      "Score: 0.7522441651705566\n",
      "Prediction: [0. 0. 0. 0. 0. 0. 0. 0. 0. 0. 0. 0. 0. 0. 0. 0. 0. 0. 0. 0. 0. 0. 0. 0.\n",
      " 0. 0. 0. 0. 0. 0. 0. 0. 0. 0. 0. 0. 0. 0. 0. 0. 0. 0. 0. 0. 0. 0. 0. 0.\n",
      " 0. 0. 0. 0. 0. 0. 0. 0. 0. 0. 0. 0. 0. 0. 0. 0. 0. 0. 0. 0. 0. 0. 0. 0.\n",
      " 0. 0. 0. 0. 0. 0. 0. 0. 0. 0. 0. 0. 0. 0. 0. 0. 0. 0. 0. 0. 0. 0. 0. 0.\n",
      " 0. 0. 0. 0. 0. 0. 0. 0. 0. 0. 0. 0. 0. 0. 0. 0. 0. 0. 0. 0. 0. 0. 0. 0.\n",
      " 0. 0. 0. 0. 0. 0. 0. 0. 0. 0. 0. 0. 0. 0. 0. 0. 0. 0. 0. 0. 0. 0. 0. 0.\n",
      " 0. 0. 0. 0. 0. 0. 0. 0. 0. 0. 0. 0. 0. 0. 0. 0. 0. 0. 0. 0. 0. 0. 0. 0.\n",
      " 0. 0. 0. 0. 0. 0. 0. 0. 0. 0. 0. 0. 0. 0. 0. 0. 0. 0. 0. 0. 0. 0. 0. 0.\n",
      " 0. 0. 0. 0. 0. 0. 0. 0. 0. 0. 0. 0. 0. 0. 0. 0. 0. 0. 0. 0. 0. 0. 0. 0.\n",
      " 0. 0. 0. 0. 0. 0. 0. 0. 0. 0. 0. 0. 0. 0. 0. 0. 0. 0. 0. 0. 0. 0. 0. 0.\n",
      " 0. 0. 0. 0. 0. 0. 0. 0. 0. 0. 0. 0. 0. 0. 0. 0. 0. 0. 0. 0. 0. 0. 0. 0.\n",
      " 0. 0. 0. 0. 0. 0. 0. 0. 0. 0. 0. 0. 0. 0. 0. 0. 0. 0. 0. 0. 0. 0. 0. 0.\n",
      " 0. 0. 0. 0. 0. 0. 0. 0. 0. 0. 0. 0. 0. 0. 0. 0. 0. 0. 0. 0. 0. 0. 0. 0.\n",
      " 0. 0. 0. 0. 0. 0. 0. 0. 0. 0. 0. 0. 0. 0. 0. 0. 0. 0. 0. 0. 0. 0. 0. 0.\n",
      " 0. 0. 0. 0. 0. 0. 0. 0. 0. 0. 0. 0. 0. 0. 0. 0. 0. 0. 0. 0. 0. 0. 0. 0.\n",
      " 0. 0. 0. 0. 0. 0. 0. 0. 0. 0. 0. 0. 0. 0. 0. 0. 0. 0. 0. 0. 0. 0. 0. 0.\n",
      " 0. 0. 0. 0. 0. 0. 0. 0. 0. 0. 0. 0. 0. 0. 0. 0. 0. 0. 0. 0. 0. 0. 0. 0.\n",
      " 0. 0. 0. 0. 0. 0. 0. 0. 0. 0. 0. 0. 0. 0. 0. 0. 0. 0. 0. 0. 0. 0. 0. 0.\n",
      " 0. 0. 0. 0. 0. 0. 0. 0. 0. 0. 0. 0. 0. 0. 0. 0. 0. 0. 0. 0. 0. 0. 0. 0.\n",
      " 0. 0. 0. 0. 0. 0. 0. 0. 0. 0. 0. 0. 0. 0. 0. 0. 0. 0. 0. 0. 0. 0. 0. 0.\n",
      " 0. 0. 0. 0. 0. 0. 0. 0. 0. 0. 0. 0. 0. 0. 0. 0. 0. 0. 0. 0. 0. 0. 0. 0.\n",
      " 0. 0. 0. 0. 0. 0. 0. 0. 0. 0. 0. 0. 0. 0. 0. 0. 0. 0. 0. 0. 0. 0. 0. 0.\n",
      " 0. 0. 0. 0. 0. 0. 0. 0. 0. 0. 0. 0. 0. 0. 0. 0. 0. 0. 0. 0. 0. 0. 0. 0.\n",
      " 0. 0. 0. 0. 0.]\n"
     ]
    }
   ],
   "source": [
    "run_svm(liwc,helpfulness_numeric)"
   ]
  },
  {
   "cell_type": "code",
   "execution_count": 126,
   "metadata": {
    "scrolled": true
   },
   "outputs": [
    {
     "name": "stdout",
     "output_type": "stream",
     "text": [
      "Score: 0.7863554757630161\n",
      "Prediction: [0. 0. 0. 0. 0. 0. 0. 0. 0. 0. 0. 0. 0. 0. 0. 0. 0. 0. 0. 0. 0. 0. 0. 0.\n",
      " 0. 0. 0. 0. 0. 0. 0. 0. 0. 0. 0. 0. 0. 0. 0. 0. 0. 0. 0. 0. 0. 0. 0. 0.\n",
      " 0. 0. 0. 0. 0. 0. 0. 0. 0. 0. 0. 0. 0. 0. 0. 0. 0. 0. 0. 0. 0. 0. 0. 0.\n",
      " 0. 0. 0. 0. 0. 0. 0. 0. 0. 0. 0. 0. 0. 0. 0. 0. 0. 0. 0. 0. 0. 0. 0. 0.\n",
      " 0. 0. 0. 0. 0. 0. 0. 0. 0. 0. 0. 0. 0. 0. 0. 0. 0. 0. 0. 0. 0. 0. 0. 0.\n",
      " 0. 0. 0. 0. 0. 0. 0. 0. 0. 0. 0. 0. 0. 0. 0. 0. 0. 0. 0. 0. 0. 0. 0. 0.\n",
      " 0. 0. 0. 0. 0. 0. 0. 0. 0. 0. 0. 0. 0. 0. 0. 0. 0. 0. 0. 0. 0. 0. 0. 0.\n",
      " 0. 0. 0. 0. 0. 0. 0. 0. 0. 0. 0. 0. 0. 0. 0. 0. 0. 0. 0. 0. 0. 0. 0. 0.\n",
      " 0. 0. 0. 0. 0. 0. 0. 0. 0. 0. 0. 0. 0. 0. 0. 0. 0. 0. 0. 0. 0. 0. 0. 0.\n",
      " 0. 0. 0. 0. 0. 0. 0. 0. 0. 0. 0. 0. 0. 0. 0. 0. 0. 0. 0. 0. 0. 0. 0. 0.\n",
      " 0. 0. 0. 0. 0. 0. 0. 0. 0. 0. 0. 0. 0. 0. 0. 0. 0. 0. 0. 0. 0. 0. 0. 0.\n",
      " 0. 0. 0. 0. 0. 0. 0. 0. 0. 0. 0. 0. 0. 0. 0. 0. 0. 0. 0. 0. 0. 0. 0. 0.\n",
      " 0. 0. 0. 0. 0. 0. 0. 0. 0. 0. 0. 0. 0. 0. 0. 0. 0. 0. 0. 0. 0. 0. 0. 0.\n",
      " 0. 0. 0. 0. 0. 0. 0. 0. 0. 0. 0. 0. 0. 0. 0. 0. 0. 0. 0. 0. 0. 0. 0. 0.\n",
      " 0. 0. 0. 0. 0. 0. 0. 0. 0. 0. 0. 0. 0. 0. 0. 0. 0. 0. 0. 0. 0. 0. 0. 0.\n",
      " 0. 0. 0. 0. 0. 0. 0. 0. 0. 0. 0. 0. 0. 0. 0. 0. 0. 0. 0. 0. 0. 0. 0. 0.\n",
      " 0. 0. 0. 0. 0. 0. 0. 0. 0. 0. 0. 0. 0. 0. 0. 0. 0. 0. 0. 0. 0. 0. 0. 0.\n",
      " 0. 0. 0. 0. 0. 0. 0. 0. 0. 0. 0. 0. 0. 0. 0. 0. 0. 0. 0. 0. 0. 0. 0. 0.\n",
      " 0. 0. 0. 0. 0. 0. 0. 0. 0. 0. 0. 0. 0. 0. 0. 0. 0. 0. 0. 0. 0. 0. 0. 0.\n",
      " 0. 0. 0. 0. 0. 0. 0. 0. 0. 0. 0. 0. 0. 0. 0. 0. 0. 0. 0. 0. 0. 0. 0. 0.\n",
      " 0. 0. 0. 0. 0. 0. 0. 0. 0. 0. 0. 0. 0. 0. 0. 0. 0. 0. 0. 0. 0. 0. 0. 0.\n",
      " 0. 0. 0. 0. 0. 0. 0. 0. 0. 0. 0. 0. 0. 0. 0. 0. 0. 0. 0. 0. 0. 0. 0. 0.\n",
      " 0. 0. 0. 0. 0. 0. 0. 0. 0. 0. 0. 0. 0. 0. 0. 0. 0. 0. 0. 0. 0. 0. 0. 0.\n",
      " 0. 0. 0. 0. 0.]\n"
     ]
    }
   ],
   "source": [
    "run_svm(tf_idf,helpfulness_numeric)"
   ]
  },
  {
   "cell_type": "code",
   "execution_count": 130,
   "metadata": {
    "scrolled": true
   },
   "outputs": [
    {
     "name": "stdout",
     "output_type": "stream",
     "text": [
      "Score: 0.7648114901256733\n",
      "Prediction: [0. 0. 0. 0. 0. 0. 0. 0. 0. 0. 0. 0. 0. 0. 0. 0. 0. 0. 0. 0. 0. 0. 0. 0.\n",
      " 0. 0. 0. 0. 0. 0. 0. 0. 0. 0. 0. 0. 0. 0. 0. 0. 0. 0. 0. 0. 0. 0. 0. 0.\n",
      " 0. 0. 0. 0. 0. 0. 0. 0. 0. 0. 0. 0. 0. 0. 0. 0. 0. 0. 0. 0. 0. 0. 0. 0.\n",
      " 0. 0. 0. 0. 0. 0. 0. 0. 0. 0. 0. 0. 0. 0. 0. 0. 0. 0. 0. 0. 0. 0. 0. 0.\n",
      " 0. 0. 0. 0. 0. 0. 0. 0. 0. 0. 0. 0. 0. 0. 0. 0. 0. 0. 0. 0. 0. 0. 0. 0.\n",
      " 0. 0. 0. 0. 0. 0. 0. 0. 0. 0. 0. 0. 0. 0. 0. 0. 0. 0. 0. 0. 0. 0. 0. 0.\n",
      " 0. 0. 0. 0. 0. 0. 0. 0. 0. 0. 0. 0. 0. 0. 0. 0. 0. 0. 0. 0. 0. 0. 0. 0.\n",
      " 0. 0. 0. 0. 0. 0. 0. 0. 0. 0. 0. 0. 0. 0. 0. 0. 0. 0. 0. 0. 0. 0. 0. 0.\n",
      " 0. 0. 0. 0. 0. 0. 0. 0. 0. 0. 0. 0. 0. 0. 0. 0. 0. 0. 0. 0. 0. 0. 0. 0.\n",
      " 0. 0. 0. 0. 0. 0. 0. 0. 0. 0. 0. 0. 0. 0. 0. 0. 0. 0. 0. 0. 0. 0. 0. 0.\n",
      " 0. 0. 0. 0. 0. 0. 0. 0. 0. 0. 0. 0. 0. 0. 0. 0. 0. 0. 0. 0. 0. 0. 0. 0.\n",
      " 0. 0. 0. 0. 0. 0. 0. 0. 0. 0. 0. 0. 0. 0. 0. 0. 0. 0. 0. 0. 0. 0. 0. 0.\n",
      " 0. 0. 0. 0. 0. 0. 0. 0. 0. 0. 0. 0. 0. 0. 0. 0. 0. 0. 0. 0. 0. 0. 0. 0.\n",
      " 0. 0. 0. 0. 0. 0. 0. 0. 0. 0. 0. 0. 0. 0. 0. 0. 0. 0. 0. 0. 0. 0. 0. 0.\n",
      " 0. 0. 0. 0. 0. 0. 0. 0. 0. 0. 0. 0. 0. 0. 0. 0. 0. 0. 0. 0. 0. 0. 0. 0.\n",
      " 0. 0. 0. 0. 0. 0. 0. 0. 0. 0. 0. 0. 0. 0. 0. 0. 0. 0. 0. 0. 0. 0. 0. 0.\n",
      " 0. 0. 0. 0. 0. 0. 0. 0. 0. 0. 0. 0. 0. 0. 0. 0. 0. 0. 0. 0. 0. 0. 0. 0.\n",
      " 0. 0. 0. 0. 0. 0. 0. 0. 0. 0. 0. 0. 0. 0. 0. 0. 0. 0. 0. 0. 0. 0. 0. 0.\n",
      " 0. 0. 0. 0. 0. 0. 0. 0. 0. 0. 0. 0. 0. 0. 0. 0. 0. 0. 0. 0. 0. 0. 0. 0.\n",
      " 0. 0. 0. 0. 0. 0. 0. 0. 0. 0. 0. 0. 0. 0. 0. 0. 0. 0. 0. 0. 0. 0. 0. 0.\n",
      " 0. 0. 0. 0. 0. 0. 0. 0. 0. 0. 0. 0. 0. 0. 0. 0. 0. 0. 0. 0. 0. 0. 0. 0.\n",
      " 0. 0. 0. 0. 0. 0. 0. 0. 0. 0. 0. 0. 0. 0. 0. 0. 0. 0. 0. 0. 0. 0. 0. 0.\n",
      " 0. 0. 0. 0. 0. 0. 0. 0. 0. 0. 0. 0. 0. 0. 0. 0. 0. 0. 0. 0. 0. 0. 0. 0.\n",
      " 0. 0. 0. 0. 0.]\n"
     ]
    }
   ],
   "source": [
    "run_svm(inq[1:],helpfulness_numeric)"
   ]
  },
  {
   "cell_type": "code",
   "execution_count": 131,
   "metadata": {},
   "outputs": [],
   "source": [
    "books_helpfulness = pd.read_csv('feature_extractor/apen/books/appen_translated - books.csv')"
   ]
  },
  {
   "cell_type": "code",
   "execution_count": 132,
   "metadata": {},
   "outputs": [
    {
     "data": {
      "text/html": [
       "<div>\n",
       "<style scoped>\n",
       "    .dataframe tbody tr th:only-of-type {\n",
       "        vertical-align: middle;\n",
       "    }\n",
       "\n",
       "    .dataframe tbody tr th {\n",
       "        vertical-align: top;\n",
       "    }\n",
       "\n",
       "    .dataframe thead th {\n",
       "        text-align: right;\n",
       "    }\n",
       "</style>\n",
       "<table border=\"1\" class=\"dataframe\">\n",
       "  <thead>\n",
       "    <tr style=\"text-align: right;\">\n",
       "      <th></th>\n",
       "      <th>_unit_id</th>\n",
       "      <th>_golden</th>\n",
       "      <th>_unit_state</th>\n",
       "      <th>_trusted_judgments</th>\n",
       "      <th>_last_judgment_at</th>\n",
       "      <th>helpfulness</th>\n",
       "      <th>confidence</th>\n",
       "      <th>no</th>\n",
       "      <th>review</th>\n",
       "      <th>review_en</th>\n",
       "    </tr>\n",
       "  </thead>\n",
       "  <tbody>\n",
       "    <tr>\n",
       "      <th>0</th>\n",
       "      <td>2905523768</td>\n",
       "      <td>False</td>\n",
       "      <td>finalized</td>\n",
       "      <td>3</td>\n",
       "      <td>12/23/2020 7:25:58</td>\n",
       "      <td>somewhat_helpful</td>\n",
       "      <td>0.6598</td>\n",
       "      <td>64963</td>\n",
       "      <td>مهما كانت ميولك الفكريه .. لازم هتحب حاجه في ا...</td>\n",
       "      <td>Whatever the intellectual tastes .. necessary ...</td>\n",
       "    </tr>\n",
       "    <tr>\n",
       "      <th>1</th>\n",
       "      <td>2905523769</td>\n",
       "      <td>False</td>\n",
       "      <td>finalized</td>\n",
       "      <td>3</td>\n",
       "      <td>12/23/2020 7:25:58</td>\n",
       "      <td>helpful</td>\n",
       "      <td>0.6598</td>\n",
       "      <td>52854</td>\n",
       "      <td>.. .. هنا التقيت بأحد أعجب الرجال اطلاقا،شمس ا...</td>\n",
       "      <td>.. .. here I met one impressed by the men at a...</td>\n",
       "    </tr>\n",
       "    <tr>\n",
       "      <th>2</th>\n",
       "      <td>2905523770</td>\n",
       "      <td>False</td>\n",
       "      <td>finalized</td>\n",
       "      <td>3</td>\n",
       "      <td>12/23/2020 7:25:58</td>\n",
       "      <td>unrelated</td>\n",
       "      <td>0.6598</td>\n",
       "      <td>48057</td>\n",
       "      <td>سأعود</td>\n",
       "      <td>I'll come back</td>\n",
       "    </tr>\n",
       "    <tr>\n",
       "      <th>3</th>\n",
       "      <td>2905523771</td>\n",
       "      <td>False</td>\n",
       "      <td>finalized</td>\n",
       "      <td>3</td>\n",
       "      <td>12/23/2020 7:25:58</td>\n",
       "      <td>helpful</td>\n",
       "      <td>1.0000</td>\n",
       "      <td>14611</td>\n",
       "      <td>لم أكن قد قرأتُ لأحلام ثلاثيتها الشهيرة، ولم أ...</td>\n",
       "      <td>I had not read the dreams of the famous Thelat...</td>\n",
       "    </tr>\n",
       "    <tr>\n",
       "      <th>4</th>\n",
       "      <td>2905523772</td>\n",
       "      <td>False</td>\n",
       "      <td>finalized</td>\n",
       "      <td>3</td>\n",
       "      <td>12/23/2020 7:54:33</td>\n",
       "      <td>helpful</td>\n",
       "      <td>1.0000</td>\n",
       "      <td>17368</td>\n",
       "      <td>تسحرني لغتها وقلمها. تمنيت أن صفحات الكتاب لا ...</td>\n",
       "      <td>Language fascinates me and her pen. I wished t...</td>\n",
       "    </tr>\n",
       "  </tbody>\n",
       "</table>\n",
       "</div>"
      ],
      "text/plain": [
       "     _unit_id  _golden _unit_state  _trusted_judgments   _last_judgment_at  \\\n",
       "0  2905523768    False   finalized                   3  12/23/2020 7:25:58   \n",
       "1  2905523769    False   finalized                   3  12/23/2020 7:25:58   \n",
       "2  2905523770    False   finalized                   3  12/23/2020 7:25:58   \n",
       "3  2905523771    False   finalized                   3  12/23/2020 7:25:58   \n",
       "4  2905523772    False   finalized                   3  12/23/2020 7:54:33   \n",
       "\n",
       "        helpfulness  confidence     no  \\\n",
       "0  somewhat_helpful      0.6598  64963   \n",
       "1           helpful      0.6598  52854   \n",
       "2         unrelated      0.6598  48057   \n",
       "3           helpful      1.0000  14611   \n",
       "4           helpful      1.0000  17368   \n",
       "\n",
       "                                              review  \\\n",
       "0  مهما كانت ميولك الفكريه .. لازم هتحب حاجه في ا...   \n",
       "1  .. .. هنا التقيت بأحد أعجب الرجال اطلاقا،شمس ا...   \n",
       "2                                              سأعود   \n",
       "3  لم أكن قد قرأتُ لأحلام ثلاثيتها الشهيرة، ولم أ...   \n",
       "4  تسحرني لغتها وقلمها. تمنيت أن صفحات الكتاب لا ...   \n",
       "\n",
       "                                           review_en  \n",
       "0  Whatever the intellectual tastes .. necessary ...  \n",
       "1  .. .. here I met one impressed by the men at a...  \n",
       "2                                     I'll come back  \n",
       "3  I had not read the dreams of the famous Thelat...  \n",
       "4  Language fascinates me and her pen. I wished t...  "
      ]
     },
     "execution_count": 132,
     "metadata": {},
     "output_type": "execute_result"
    }
   ],
   "source": [
    "books_helpfulness.head()"
   ]
  },
  {
   "cell_type": "code",
   "execution_count": 135,
   "metadata": {},
   "outputs": [
    {
     "data": {
      "text/html": [
       "<div>\n",
       "<style scoped>\n",
       "    .dataframe tbody tr th:only-of-type {\n",
       "        vertical-align: middle;\n",
       "    }\n",
       "\n",
       "    .dataframe tbody tr th {\n",
       "        vertical-align: top;\n",
       "    }\n",
       "\n",
       "    .dataframe thead th {\n",
       "        text-align: right;\n",
       "    }\n",
       "</style>\n",
       "<table border=\"1\" class=\"dataframe\">\n",
       "  <thead>\n",
       "    <tr style=\"text-align: right;\">\n",
       "      <th></th>\n",
       "      <th>_unit_id</th>\n",
       "      <th>_golden</th>\n",
       "      <th>_unit_state</th>\n",
       "      <th>_trusted_judgments</th>\n",
       "      <th>_last_judgment_at</th>\n",
       "      <th>confidence</th>\n",
       "      <th>no</th>\n",
       "      <th>review</th>\n",
       "      <th>review_en</th>\n",
       "    </tr>\n",
       "    <tr>\n",
       "      <th>helpfulness</th>\n",
       "      <th></th>\n",
       "      <th></th>\n",
       "      <th></th>\n",
       "      <th></th>\n",
       "      <th></th>\n",
       "      <th></th>\n",
       "      <th></th>\n",
       "      <th></th>\n",
       "      <th></th>\n",
       "    </tr>\n",
       "  </thead>\n",
       "  <tbody>\n",
       "    <tr>\n",
       "      <th>helpful</th>\n",
       "      <td>1742</td>\n",
       "      <td>1742</td>\n",
       "      <td>1742</td>\n",
       "      <td>1742</td>\n",
       "      <td>1742</td>\n",
       "      <td>1742</td>\n",
       "      <td>1742</td>\n",
       "      <td>1742</td>\n",
       "      <td>1742</td>\n",
       "    </tr>\n",
       "    <tr>\n",
       "      <th>not_helpful</th>\n",
       "      <td>170</td>\n",
       "      <td>170</td>\n",
       "      <td>170</td>\n",
       "      <td>170</td>\n",
       "      <td>170</td>\n",
       "      <td>170</td>\n",
       "      <td>170</td>\n",
       "      <td>170</td>\n",
       "      <td>170</td>\n",
       "    </tr>\n",
       "    <tr>\n",
       "      <th>somewhat_helpful</th>\n",
       "      <td>410</td>\n",
       "      <td>410</td>\n",
       "      <td>410</td>\n",
       "      <td>410</td>\n",
       "      <td>410</td>\n",
       "      <td>410</td>\n",
       "      <td>410</td>\n",
       "      <td>410</td>\n",
       "      <td>410</td>\n",
       "    </tr>\n",
       "    <tr>\n",
       "      <th>unrelated</th>\n",
       "      <td>82</td>\n",
       "      <td>82</td>\n",
       "      <td>82</td>\n",
       "      <td>82</td>\n",
       "      <td>82</td>\n",
       "      <td>82</td>\n",
       "      <td>82</td>\n",
       "      <td>82</td>\n",
       "      <td>82</td>\n",
       "    </tr>\n",
       "  </tbody>\n",
       "</table>\n",
       "</div>"
      ],
      "text/plain": [
       "                  _unit_id  _golden  _unit_state  _trusted_judgments  \\\n",
       "helpfulness                                                            \n",
       "helpful               1742     1742         1742                1742   \n",
       "not_helpful            170      170          170                 170   \n",
       "somewhat_helpful       410      410          410                 410   \n",
       "unrelated               82       82           82                  82   \n",
       "\n",
       "                  _last_judgment_at  confidence    no  review  review_en  \n",
       "helpfulness                                                               \n",
       "helpful                        1742        1742  1742    1742       1742  \n",
       "not_helpful                     170         170   170     170        170  \n",
       "somewhat_helpful                410         410   410     410        410  \n",
       "unrelated                        82          82    82      82         82  "
      ]
     },
     "execution_count": 135,
     "metadata": {},
     "output_type": "execute_result"
    }
   ],
   "source": [
    "books_helpfulness.groupby('helpfulness').count()"
   ]
  },
  {
   "cell_type": "code",
   "execution_count": 138,
   "metadata": {},
   "outputs": [],
   "source": [
    "hotels_helpfulness = pd.read_csv('feature_extractor/apen/hotels/appen_translated - hotels.csv')"
   ]
  },
  {
   "cell_type": "code",
   "execution_count": 139,
   "metadata": {},
   "outputs": [
    {
     "data": {
      "text/html": [
       "<div>\n",
       "<style scoped>\n",
       "    .dataframe tbody tr th:only-of-type {\n",
       "        vertical-align: middle;\n",
       "    }\n",
       "\n",
       "    .dataframe tbody tr th {\n",
       "        vertical-align: top;\n",
       "    }\n",
       "\n",
       "    .dataframe thead th {\n",
       "        text-align: right;\n",
       "    }\n",
       "</style>\n",
       "<table border=\"1\" class=\"dataframe\">\n",
       "  <thead>\n",
       "    <tr style=\"text-align: right;\">\n",
       "      <th></th>\n",
       "      <th>_unit_id</th>\n",
       "      <th>_golden</th>\n",
       "      <th>_unit_state</th>\n",
       "      <th>_trusted_judgments</th>\n",
       "      <th>_last_judgment_at</th>\n",
       "      <th>confidence</th>\n",
       "      <th>no</th>\n",
       "      <th>review</th>\n",
       "      <th>review_en</th>\n",
       "    </tr>\n",
       "    <tr>\n",
       "      <th>helpfulness</th>\n",
       "      <th></th>\n",
       "      <th></th>\n",
       "      <th></th>\n",
       "      <th></th>\n",
       "      <th></th>\n",
       "      <th></th>\n",
       "      <th></th>\n",
       "      <th></th>\n",
       "      <th></th>\n",
       "    </tr>\n",
       "  </thead>\n",
       "  <tbody>\n",
       "    <tr>\n",
       "      <th>helpful</th>\n",
       "      <td>2143</td>\n",
       "      <td>2143</td>\n",
       "      <td>2143</td>\n",
       "      <td>2143</td>\n",
       "      <td>2143</td>\n",
       "      <td>2143</td>\n",
       "      <td>2143</td>\n",
       "      <td>2143</td>\n",
       "      <td>2143</td>\n",
       "    </tr>\n",
       "    <tr>\n",
       "      <th>not_helpful</th>\n",
       "      <td>135</td>\n",
       "      <td>135</td>\n",
       "      <td>135</td>\n",
       "      <td>135</td>\n",
       "      <td>135</td>\n",
       "      <td>135</td>\n",
       "      <td>135</td>\n",
       "      <td>135</td>\n",
       "      <td>135</td>\n",
       "    </tr>\n",
       "    <tr>\n",
       "      <th>somewhat_helpful</th>\n",
       "      <td>475</td>\n",
       "      <td>475</td>\n",
       "      <td>475</td>\n",
       "      <td>475</td>\n",
       "      <td>475</td>\n",
       "      <td>475</td>\n",
       "      <td>475</td>\n",
       "      <td>475</td>\n",
       "      <td>475</td>\n",
       "    </tr>\n",
       "    <tr>\n",
       "      <th>unrelated</th>\n",
       "      <td>31</td>\n",
       "      <td>31</td>\n",
       "      <td>31</td>\n",
       "      <td>31</td>\n",
       "      <td>31</td>\n",
       "      <td>31</td>\n",
       "      <td>31</td>\n",
       "      <td>31</td>\n",
       "      <td>31</td>\n",
       "    </tr>\n",
       "  </tbody>\n",
       "</table>\n",
       "</div>"
      ],
      "text/plain": [
       "                  _unit_id  _golden  _unit_state  _trusted_judgments  \\\n",
       "helpfulness                                                            \n",
       "helpful               2143     2143         2143                2143   \n",
       "not_helpful            135      135          135                 135   \n",
       "somewhat_helpful       475      475          475                 475   \n",
       "unrelated               31       31           31                  31   \n",
       "\n",
       "                  _last_judgment_at  confidence    no  review  review_en  \n",
       "helpfulness                                                               \n",
       "helpful                        2143        2143  2143    2143       2143  \n",
       "not_helpful                     135         135   135     135        135  \n",
       "somewhat_helpful                475         475   475     475        475  \n",
       "unrelated                        31          31    31      31         31  "
      ]
     },
     "execution_count": 139,
     "metadata": {},
     "output_type": "execute_result"
    }
   ],
   "source": [
    "hotels_helpfulness.groupby('helpfulness').count()"
   ]
  },
  {
   "cell_type": "code",
   "execution_count": 140,
   "metadata": {},
   "outputs": [],
   "source": [
    "#combine"
   ]
  },
  {
   "cell_type": "code",
   "execution_count": 141,
   "metadata": {},
   "outputs": [
    {
     "data": {
      "text/html": [
       "<div>\n",
       "<style scoped>\n",
       "    .dataframe tbody tr th:only-of-type {\n",
       "        vertical-align: middle;\n",
       "    }\n",
       "\n",
       "    .dataframe tbody tr th {\n",
       "        vertical-align: top;\n",
       "    }\n",
       "\n",
       "    .dataframe thead th {\n",
       "        text-align: right;\n",
       "    }\n",
       "</style>\n",
       "<table border=\"1\" class=\"dataframe\">\n",
       "  <thead>\n",
       "    <tr style=\"text-align: right;\">\n",
       "      <th></th>\n",
       "      <th>Unnamed: 0</th>\n",
       "      <th>Admiration/Awe</th>\n",
       "      <th>Amusement</th>\n",
       "      <th>Anger</th>\n",
       "      <th>Anxiety</th>\n",
       "      <th>Being touched</th>\n",
       "      <th>Boredom</th>\n",
       "      <th>Compassion</th>\n",
       "      <th>Contempt</th>\n",
       "      <th>Contentment</th>\n",
       "      <th>...</th>\n",
       "      <th>Pleasure/Enjoyment</th>\n",
       "      <th>Pride</th>\n",
       "      <th>Relaxation/Serenity</th>\n",
       "      <th>Relief</th>\n",
       "      <th>Sadness</th>\n",
       "      <th>Shame</th>\n",
       "      <th>Surprise</th>\n",
       "      <th>Tension/Stress</th>\n",
       "      <th>Positive</th>\n",
       "      <th>Negative</th>\n",
       "    </tr>\n",
       "  </thead>\n",
       "  <tbody>\n",
       "    <tr>\n",
       "      <th>0</th>\n",
       "      <td>0</td>\n",
       "      <td>0.000000</td>\n",
       "      <td>0.0</td>\n",
       "      <td>0.0</td>\n",
       "      <td>0.0</td>\n",
       "      <td>0.0</td>\n",
       "      <td>0.0</td>\n",
       "      <td>0.0</td>\n",
       "      <td>0.0</td>\n",
       "      <td>0.0</td>\n",
       "      <td>...</td>\n",
       "      <td>0.0</td>\n",
       "      <td>0.0</td>\n",
       "      <td>0.0</td>\n",
       "      <td>0.0</td>\n",
       "      <td>0.0</td>\n",
       "      <td>0.0</td>\n",
       "      <td>0.000000</td>\n",
       "      <td>0.0</td>\n",
       "      <td>0.25</td>\n",
       "      <td>0.0</td>\n",
       "    </tr>\n",
       "    <tr>\n",
       "      <th>1</th>\n",
       "      <td>1</td>\n",
       "      <td>0.000000</td>\n",
       "      <td>0.0</td>\n",
       "      <td>0.0</td>\n",
       "      <td>0.0</td>\n",
       "      <td>0.0</td>\n",
       "      <td>0.0</td>\n",
       "      <td>0.0</td>\n",
       "      <td>0.0</td>\n",
       "      <td>0.0</td>\n",
       "      <td>...</td>\n",
       "      <td>0.0</td>\n",
       "      <td>0.0</td>\n",
       "      <td>0.0</td>\n",
       "      <td>0.0</td>\n",
       "      <td>0.0</td>\n",
       "      <td>0.0</td>\n",
       "      <td>0.000000</td>\n",
       "      <td>0.0</td>\n",
       "      <td>0.00</td>\n",
       "      <td>0.2</td>\n",
       "    </tr>\n",
       "    <tr>\n",
       "      <th>2</th>\n",
       "      <td>2</td>\n",
       "      <td>0.000000</td>\n",
       "      <td>0.0</td>\n",
       "      <td>0.0</td>\n",
       "      <td>0.0</td>\n",
       "      <td>0.0</td>\n",
       "      <td>0.0</td>\n",
       "      <td>0.0</td>\n",
       "      <td>0.0</td>\n",
       "      <td>0.0</td>\n",
       "      <td>...</td>\n",
       "      <td>0.0</td>\n",
       "      <td>0.0</td>\n",
       "      <td>0.0</td>\n",
       "      <td>0.0</td>\n",
       "      <td>0.0</td>\n",
       "      <td>0.0</td>\n",
       "      <td>0.000000</td>\n",
       "      <td>0.0</td>\n",
       "      <td>0.50</td>\n",
       "      <td>0.0</td>\n",
       "    </tr>\n",
       "    <tr>\n",
       "      <th>3</th>\n",
       "      <td>3</td>\n",
       "      <td>0.666667</td>\n",
       "      <td>0.0</td>\n",
       "      <td>0.0</td>\n",
       "      <td>0.0</td>\n",
       "      <td>0.0</td>\n",
       "      <td>0.0</td>\n",
       "      <td>0.0</td>\n",
       "      <td>0.0</td>\n",
       "      <td>0.0</td>\n",
       "      <td>...</td>\n",
       "      <td>0.0</td>\n",
       "      <td>0.0</td>\n",
       "      <td>0.0</td>\n",
       "      <td>0.0</td>\n",
       "      <td>0.0</td>\n",
       "      <td>0.0</td>\n",
       "      <td>0.666667</td>\n",
       "      <td>0.0</td>\n",
       "      <td>0.00</td>\n",
       "      <td>0.0</td>\n",
       "    </tr>\n",
       "    <tr>\n",
       "      <th>4</th>\n",
       "      <td>4</td>\n",
       "      <td>0.333333</td>\n",
       "      <td>0.0</td>\n",
       "      <td>0.0</td>\n",
       "      <td>0.0</td>\n",
       "      <td>0.0</td>\n",
       "      <td>0.0</td>\n",
       "      <td>0.0</td>\n",
       "      <td>0.0</td>\n",
       "      <td>0.0</td>\n",
       "      <td>...</td>\n",
       "      <td>0.0</td>\n",
       "      <td>0.0</td>\n",
       "      <td>0.0</td>\n",
       "      <td>0.0</td>\n",
       "      <td>0.0</td>\n",
       "      <td>0.0</td>\n",
       "      <td>0.333333</td>\n",
       "      <td>0.0</td>\n",
       "      <td>0.00</td>\n",
       "      <td>0.0</td>\n",
       "    </tr>\n",
       "  </tbody>\n",
       "</table>\n",
       "<p>5 rows × 39 columns</p>\n",
       "</div>"
      ],
      "text/plain": [
       "   Unnamed: 0  Admiration/Awe  Amusement  Anger  Anxiety  Being touched  \\\n",
       "0           0        0.000000        0.0    0.0      0.0            0.0   \n",
       "1           1        0.000000        0.0    0.0      0.0            0.0   \n",
       "2           2        0.000000        0.0    0.0      0.0            0.0   \n",
       "3           3        0.666667        0.0    0.0      0.0            0.0   \n",
       "4           4        0.333333        0.0    0.0      0.0            0.0   \n",
       "\n",
       "   Boredom  Compassion  Contempt  Contentment  ...  Pleasure/Enjoyment  Pride  \\\n",
       "0      0.0         0.0       0.0          0.0  ...                 0.0    0.0   \n",
       "1      0.0         0.0       0.0          0.0  ...                 0.0    0.0   \n",
       "2      0.0         0.0       0.0          0.0  ...                 0.0    0.0   \n",
       "3      0.0         0.0       0.0          0.0  ...                 0.0    0.0   \n",
       "4      0.0         0.0       0.0          0.0  ...                 0.0    0.0   \n",
       "\n",
       "   Relaxation/Serenity  Relief  Sadness  Shame  Surprise  Tension/Stress  \\\n",
       "0                  0.0     0.0      0.0    0.0  0.000000             0.0   \n",
       "1                  0.0     0.0      0.0    0.0  0.000000             0.0   \n",
       "2                  0.0     0.0      0.0    0.0  0.000000             0.0   \n",
       "3                  0.0     0.0      0.0    0.0  0.666667             0.0   \n",
       "4                  0.0     0.0      0.0    0.0  0.333333             0.0   \n",
       "\n",
       "   Positive  Negative  \n",
       "0      0.25       0.0  \n",
       "1      0.00       0.2  \n",
       "2      0.50       0.0  \n",
       "3      0.00       0.0  \n",
       "4      0.00       0.0  \n",
       "\n",
       "[5 rows x 39 columns]"
      ]
     },
     "execution_count": 141,
     "metadata": {},
     "output_type": "execute_result"
    }
   ],
   "source": [
    "galc.head()"
   ]
  },
  {
   "cell_type": "code",
   "execution_count": 142,
   "metadata": {},
   "outputs": [
    {
     "data": {
      "text/html": [
       "<div>\n",
       "<style scoped>\n",
       "    .dataframe tbody tr th:only-of-type {\n",
       "        vertical-align: middle;\n",
       "    }\n",
       "\n",
       "    .dataframe tbody tr th {\n",
       "        vertical-align: top;\n",
       "    }\n",
       "\n",
       "    .dataframe thead th {\n",
       "        text-align: right;\n",
       "    }\n",
       "</style>\n",
       "<table border=\"1\" class=\"dataframe\">\n",
       "  <thead>\n",
       "    <tr style=\"text-align: right;\">\n",
       "      <th></th>\n",
       "      <th>Unnamed: 0</th>\n",
       "      <th>length</th>\n",
       "      <th>num_tokens</th>\n",
       "      <th>num_sentences</th>\n",
       "      <th>avg_sent_len</th>\n",
       "      <th>num_exclm_mark</th>\n",
       "      <th>ratio_q</th>\n",
       "    </tr>\n",
       "  </thead>\n",
       "  <tbody>\n",
       "    <tr>\n",
       "      <th>0</th>\n",
       "      <td>0</td>\n",
       "      <td>0.116279</td>\n",
       "      <td>0.085973</td>\n",
       "      <td>0.000000</td>\n",
       "      <td>0.143008</td>\n",
       "      <td>0.0</td>\n",
       "      <td>0.0</td>\n",
       "    </tr>\n",
       "    <tr>\n",
       "      <th>1</th>\n",
       "      <td>1</td>\n",
       "      <td>0.246339</td>\n",
       "      <td>0.212670</td>\n",
       "      <td>0.000000</td>\n",
       "      <td>0.302966</td>\n",
       "      <td>0.0</td>\n",
       "      <td>0.0</td>\n",
       "    </tr>\n",
       "    <tr>\n",
       "      <th>2</th>\n",
       "      <td>2</td>\n",
       "      <td>0.065461</td>\n",
       "      <td>0.049774</td>\n",
       "      <td>0.000000</td>\n",
       "      <td>0.080508</td>\n",
       "      <td>0.0</td>\n",
       "      <td>0.0</td>\n",
       "    </tr>\n",
       "    <tr>\n",
       "      <th>3</th>\n",
       "      <td>3</td>\n",
       "      <td>0.207580</td>\n",
       "      <td>0.176471</td>\n",
       "      <td>0.043478</td>\n",
       "      <td>0.189089</td>\n",
       "      <td>0.0</td>\n",
       "      <td>0.0</td>\n",
       "    </tr>\n",
       "    <tr>\n",
       "      <th>4</th>\n",
       "      <td>4</td>\n",
       "      <td>0.056848</td>\n",
       "      <td>0.040724</td>\n",
       "      <td>0.000000</td>\n",
       "      <td>0.069915</td>\n",
       "      <td>0.0</td>\n",
       "      <td>0.0</td>\n",
       "    </tr>\n",
       "  </tbody>\n",
       "</table>\n",
       "</div>"
      ],
      "text/plain": [
       "   Unnamed: 0    length  num_tokens  num_sentences  avg_sent_len  \\\n",
       "0           0  0.116279    0.085973       0.000000      0.143008   \n",
       "1           1  0.246339    0.212670       0.000000      0.302966   \n",
       "2           2  0.065461    0.049774       0.000000      0.080508   \n",
       "3           3  0.207580    0.176471       0.043478      0.189089   \n",
       "4           4  0.056848    0.040724       0.000000      0.069915   \n",
       "\n",
       "   num_exclm_mark  ratio_q  \n",
       "0             0.0      0.0  \n",
       "1             0.0      0.0  \n",
       "2             0.0      0.0  \n",
       "3             0.0      0.0  \n",
       "4             0.0      0.0  "
      ]
     },
     "execution_count": 142,
     "metadata": {},
     "output_type": "execute_result"
    }
   ],
   "source": [
    "struct.head()"
   ]
  },
  {
   "cell_type": "code",
   "execution_count": 154,
   "metadata": {},
   "outputs": [],
   "source": [
    "comb = pd.concat([galc,struct],axis=1)"
   ]
  },
  {
   "cell_type": "code",
   "execution_count": 155,
   "metadata": {},
   "outputs": [
    {
     "data": {
      "text/html": [
       "<div>\n",
       "<style scoped>\n",
       "    .dataframe tbody tr th:only-of-type {\n",
       "        vertical-align: middle;\n",
       "    }\n",
       "\n",
       "    .dataframe tbody tr th {\n",
       "        vertical-align: top;\n",
       "    }\n",
       "\n",
       "    .dataframe thead th {\n",
       "        text-align: right;\n",
       "    }\n",
       "</style>\n",
       "<table border=\"1\" class=\"dataframe\">\n",
       "  <thead>\n",
       "    <tr style=\"text-align: right;\">\n",
       "      <th></th>\n",
       "      <th>Unnamed: 0</th>\n",
       "      <th>Admiration/Awe</th>\n",
       "      <th>Amusement</th>\n",
       "      <th>Anger</th>\n",
       "      <th>Anxiety</th>\n",
       "      <th>Being touched</th>\n",
       "      <th>Boredom</th>\n",
       "      <th>Compassion</th>\n",
       "      <th>Contempt</th>\n",
       "      <th>Contentment</th>\n",
       "      <th>...</th>\n",
       "      <th>Tension/Stress</th>\n",
       "      <th>Positive</th>\n",
       "      <th>Negative</th>\n",
       "      <th>Unnamed: 0</th>\n",
       "      <th>length</th>\n",
       "      <th>num_tokens</th>\n",
       "      <th>num_sentences</th>\n",
       "      <th>avg_sent_len</th>\n",
       "      <th>num_exclm_mark</th>\n",
       "      <th>ratio_q</th>\n",
       "    </tr>\n",
       "  </thead>\n",
       "  <tbody>\n",
       "    <tr>\n",
       "      <th>0</th>\n",
       "      <td>0</td>\n",
       "      <td>0.000000</td>\n",
       "      <td>0.0</td>\n",
       "      <td>0.0</td>\n",
       "      <td>0.0</td>\n",
       "      <td>0.0</td>\n",
       "      <td>0.0</td>\n",
       "      <td>0.0</td>\n",
       "      <td>0.0</td>\n",
       "      <td>0.0</td>\n",
       "      <td>...</td>\n",
       "      <td>0.0</td>\n",
       "      <td>0.25</td>\n",
       "      <td>0.0</td>\n",
       "      <td>0</td>\n",
       "      <td>0.116279</td>\n",
       "      <td>0.085973</td>\n",
       "      <td>0.000000</td>\n",
       "      <td>0.143008</td>\n",
       "      <td>0.0</td>\n",
       "      <td>0.0</td>\n",
       "    </tr>\n",
       "    <tr>\n",
       "      <th>1</th>\n",
       "      <td>1</td>\n",
       "      <td>0.000000</td>\n",
       "      <td>0.0</td>\n",
       "      <td>0.0</td>\n",
       "      <td>0.0</td>\n",
       "      <td>0.0</td>\n",
       "      <td>0.0</td>\n",
       "      <td>0.0</td>\n",
       "      <td>0.0</td>\n",
       "      <td>0.0</td>\n",
       "      <td>...</td>\n",
       "      <td>0.0</td>\n",
       "      <td>0.00</td>\n",
       "      <td>0.2</td>\n",
       "      <td>1</td>\n",
       "      <td>0.246339</td>\n",
       "      <td>0.212670</td>\n",
       "      <td>0.000000</td>\n",
       "      <td>0.302966</td>\n",
       "      <td>0.0</td>\n",
       "      <td>0.0</td>\n",
       "    </tr>\n",
       "    <tr>\n",
       "      <th>2</th>\n",
       "      <td>2</td>\n",
       "      <td>0.000000</td>\n",
       "      <td>0.0</td>\n",
       "      <td>0.0</td>\n",
       "      <td>0.0</td>\n",
       "      <td>0.0</td>\n",
       "      <td>0.0</td>\n",
       "      <td>0.0</td>\n",
       "      <td>0.0</td>\n",
       "      <td>0.0</td>\n",
       "      <td>...</td>\n",
       "      <td>0.0</td>\n",
       "      <td>0.50</td>\n",
       "      <td>0.0</td>\n",
       "      <td>2</td>\n",
       "      <td>0.065461</td>\n",
       "      <td>0.049774</td>\n",
       "      <td>0.000000</td>\n",
       "      <td>0.080508</td>\n",
       "      <td>0.0</td>\n",
       "      <td>0.0</td>\n",
       "    </tr>\n",
       "    <tr>\n",
       "      <th>3</th>\n",
       "      <td>3</td>\n",
       "      <td>0.666667</td>\n",
       "      <td>0.0</td>\n",
       "      <td>0.0</td>\n",
       "      <td>0.0</td>\n",
       "      <td>0.0</td>\n",
       "      <td>0.0</td>\n",
       "      <td>0.0</td>\n",
       "      <td>0.0</td>\n",
       "      <td>0.0</td>\n",
       "      <td>...</td>\n",
       "      <td>0.0</td>\n",
       "      <td>0.00</td>\n",
       "      <td>0.0</td>\n",
       "      <td>3</td>\n",
       "      <td>0.207580</td>\n",
       "      <td>0.176471</td>\n",
       "      <td>0.043478</td>\n",
       "      <td>0.189089</td>\n",
       "      <td>0.0</td>\n",
       "      <td>0.0</td>\n",
       "    </tr>\n",
       "    <tr>\n",
       "      <th>4</th>\n",
       "      <td>4</td>\n",
       "      <td>0.333333</td>\n",
       "      <td>0.0</td>\n",
       "      <td>0.0</td>\n",
       "      <td>0.0</td>\n",
       "      <td>0.0</td>\n",
       "      <td>0.0</td>\n",
       "      <td>0.0</td>\n",
       "      <td>0.0</td>\n",
       "      <td>0.0</td>\n",
       "      <td>...</td>\n",
       "      <td>0.0</td>\n",
       "      <td>0.00</td>\n",
       "      <td>0.0</td>\n",
       "      <td>4</td>\n",
       "      <td>0.056848</td>\n",
       "      <td>0.040724</td>\n",
       "      <td>0.000000</td>\n",
       "      <td>0.069915</td>\n",
       "      <td>0.0</td>\n",
       "      <td>0.0</td>\n",
       "    </tr>\n",
       "  </tbody>\n",
       "</table>\n",
       "<p>5 rows × 46 columns</p>\n",
       "</div>"
      ],
      "text/plain": [
       "   Unnamed: 0  Admiration/Awe  Amusement  Anger  Anxiety  Being touched  \\\n",
       "0           0        0.000000        0.0    0.0      0.0            0.0   \n",
       "1           1        0.000000        0.0    0.0      0.0            0.0   \n",
       "2           2        0.000000        0.0    0.0      0.0            0.0   \n",
       "3           3        0.666667        0.0    0.0      0.0            0.0   \n",
       "4           4        0.333333        0.0    0.0      0.0            0.0   \n",
       "\n",
       "   Boredom  Compassion  Contempt  Contentment  ...  Tension/Stress  Positive  \\\n",
       "0      0.0         0.0       0.0          0.0  ...             0.0      0.25   \n",
       "1      0.0         0.0       0.0          0.0  ...             0.0      0.00   \n",
       "2      0.0         0.0       0.0          0.0  ...             0.0      0.50   \n",
       "3      0.0         0.0       0.0          0.0  ...             0.0      0.00   \n",
       "4      0.0         0.0       0.0          0.0  ...             0.0      0.00   \n",
       "\n",
       "   Negative  Unnamed: 0    length  num_tokens  num_sentences  avg_sent_len  \\\n",
       "0       0.0           0  0.116279    0.085973       0.000000      0.143008   \n",
       "1       0.2           1  0.246339    0.212670       0.000000      0.302966   \n",
       "2       0.0           2  0.065461    0.049774       0.000000      0.080508   \n",
       "3       0.0           3  0.207580    0.176471       0.043478      0.189089   \n",
       "4       0.0           4  0.056848    0.040724       0.000000      0.069915   \n",
       "\n",
       "   num_exclm_mark  ratio_q  \n",
       "0             0.0      0.0  \n",
       "1             0.0      0.0  \n",
       "2             0.0      0.0  \n",
       "3             0.0      0.0  \n",
       "4             0.0      0.0  \n",
       "\n",
       "[5 rows x 46 columns]"
      ]
     },
     "execution_count": 155,
     "metadata": {},
     "output_type": "execute_result"
    }
   ],
   "source": [
    "comb.head()"
   ]
  },
  {
   "cell_type": "code",
   "execution_count": 156,
   "metadata": {},
   "outputs": [
    {
     "name": "stdout",
     "output_type": "stream",
     "text": [
      "Score: 0.7594254937163375\n",
      "Prediction: [0. 0. 0. 0. 0. 0. 0. 0. 0. 0. 0. 0. 0. 0. 0. 0. 0. 0. 0. 0. 0. 0. 0. 0.\n",
      " 0. 0. 0. 0. 0. 0. 0. 0. 0. 0. 0. 0. 0. 0. 0. 0. 0. 0. 0. 0. 0. 0. 0. 0.\n",
      " 0. 0. 0. 0. 0. 0. 0. 0. 0. 0. 0. 0. 0. 0. 0. 0. 0. 0. 0. 0. 0. 0. 0. 0.\n",
      " 0. 0. 0. 0. 0. 0. 0. 0. 0. 0. 0. 0. 0. 0. 0. 0. 0. 0. 0. 0. 0. 0. 0. 0.\n",
      " 0. 0. 0. 0. 0. 0. 0. 0. 0. 0. 0. 0. 0. 0. 0. 0. 0. 0. 0. 0. 0. 0. 0. 0.\n",
      " 0. 0. 0. 0. 0. 0. 0. 0. 0. 0. 0. 0. 0. 0. 0. 0. 0. 0. 0. 0. 0. 0. 0. 0.\n",
      " 0. 0. 0. 0. 0. 0. 0. 0. 0. 0. 0. 0. 0. 0. 0. 0. 0. 0. 0. 0. 0. 0. 0. 0.\n",
      " 0. 0. 0. 0. 0. 0. 0. 0. 0. 0. 0. 0. 0. 0. 0. 0. 0. 0. 0. 0. 0. 0. 0. 0.\n",
      " 0. 0. 0. 0. 0. 0. 0. 0. 0. 0. 0. 0. 0. 0. 0. 0. 0. 0. 0. 0. 0. 0. 0. 0.\n",
      " 0. 0. 0. 0. 0. 0. 0. 0. 0. 0. 0. 0. 0. 0. 0. 0. 0. 0. 0. 0. 0. 0. 0. 0.\n",
      " 0. 0. 0. 0. 0. 0. 0. 0. 0. 0. 0. 0. 0. 0. 0. 0. 0. 0. 0. 0. 0. 0. 0. 0.\n",
      " 0. 0. 0. 0. 0. 0. 0. 0. 0. 0. 0. 0. 0. 0. 0. 0. 0. 0. 0. 0. 0. 0. 0. 0.\n",
      " 0. 0. 0. 0. 0. 0. 0. 0. 0. 0. 0. 0. 0. 0. 0. 0. 0. 0. 0. 0. 0. 0. 0. 0.\n",
      " 0. 0. 0. 0. 0. 0. 0. 0. 0. 0. 0. 0. 0. 0. 0. 0. 0. 0. 0. 0. 0. 0. 0. 0.\n",
      " 0. 0. 0. 0. 0. 0. 0. 0. 0. 0. 0. 0. 0. 0. 0. 0. 0. 0. 0. 0. 0. 0. 0. 0.\n",
      " 0. 0. 0. 0. 0. 0. 0. 0. 0. 0. 0. 0. 0. 0. 0. 0. 0. 0. 0. 0. 0. 0. 0. 0.\n",
      " 0. 0. 0. 0. 0. 0. 0. 0. 0. 0. 0. 0. 0. 0. 0. 0. 0. 0. 0. 0. 0. 0. 0. 0.\n",
      " 0. 0. 0. 0. 0. 0. 0. 0. 0. 0. 0. 0. 0. 0. 0. 0. 0. 0. 0. 0. 0. 0. 0. 0.\n",
      " 0. 0. 0. 0. 0. 0. 0. 0. 0. 0. 0. 0. 0. 0. 0. 0. 0. 0. 0. 0. 0. 0. 0. 0.\n",
      " 0. 0. 0. 0. 0. 0. 0. 0. 0. 0. 0. 0. 0. 0. 0. 0. 0. 0. 0. 0. 0. 0. 0. 0.\n",
      " 0. 0. 0. 0. 0. 0. 0. 0. 0. 0. 0. 0. 0. 0. 0. 0. 0. 0. 0. 0. 0. 0. 0. 0.\n",
      " 0. 0. 0. 0. 0. 0. 0. 0. 0. 0. 0. 0. 0. 0. 0. 0. 0. 0. 0. 0. 0. 0. 0. 0.\n",
      " 0. 0. 0. 0. 0. 0. 0. 0. 0. 0. 0. 0. 0. 0. 0. 0. 0. 0. 0. 0. 0. 0. 0. 0.\n",
      " 0. 0. 0. 0. 0.]\n"
     ]
    }
   ],
   "source": [
    "run_svm(comb,helpfulness_numeric)"
   ]
  },
  {
   "cell_type": "code",
   "execution_count": 208,
   "metadata": {},
   "outputs": [],
   "source": [
    "comb = pd.concat([galc,struct,liwc,tf_idf],axis=1)"
   ]
  },
  {
   "cell_type": "code",
   "execution_count": 209,
   "metadata": {},
   "outputs": [
    {
     "name": "stdout",
     "output_type": "stream",
     "text": [
      "Score: 0.7612208258527827\n",
      "Prediction: [0. 0. 0. 0. 0. 0. 0. 0. 0. 0. 0. 0. 0. 0. 0. 0. 0. 0. 0. 0. 0. 0. 0. 0.\n",
      " 0. 0. 0. 0. 0. 0. 0. 0. 0. 0. 0. 0. 0. 0. 0. 0. 0. 0. 0. 0. 0. 0. 0. 0.\n",
      " 0. 0. 0. 0. 0. 0. 0. 0. 0. 0. 0. 0. 0. 0. 0. 0. 0. 0. 0. 0. 0. 0. 0. 0.\n",
      " 0. 0. 0. 0. 0. 0. 0. 0. 0. 0. 0. 0. 0. 0. 0. 0. 0. 0. 0. 0. 0. 0. 0. 0.\n",
      " 0. 0. 0. 0. 0. 0. 0. 0. 0. 0. 0. 0. 0. 0. 0. 0. 0. 0. 0. 0. 0. 0. 0. 0.\n",
      " 0. 0. 0. 0. 0. 0. 0. 0. 0. 0. 0. 0. 0. 0. 0. 0. 0. 0. 0. 0. 0. 0. 0. 0.\n",
      " 0. 0. 0. 0. 0. 0. 0. 0. 0. 0. 0. 0. 0. 0. 0. 0. 0. 0. 0. 0. 0. 0. 0. 0.\n",
      " 0. 0. 0. 0. 0. 0. 0. 0. 0. 0. 0. 0. 0. 0. 0. 0. 0. 0. 0. 0. 0. 0. 0. 0.\n",
      " 0. 0. 0. 0. 0. 0. 0. 0. 0. 0. 0. 0. 0. 0. 0. 0. 0. 0. 0. 0. 0. 0. 0. 0.\n",
      " 0. 0. 0. 0. 0. 0. 0. 0. 0. 0. 0. 0. 0. 0. 0. 0. 0. 0. 0. 0. 0. 0. 0. 0.\n",
      " 0. 0. 0. 0. 0. 0. 0. 0. 0. 0. 0. 0. 0. 0. 0. 0. 0. 0. 0. 0. 0. 0. 0. 0.\n",
      " 0. 0. 0. 0. 0. 0. 0. 0. 0. 0. 0. 0. 0. 0. 0. 0. 0. 0. 0. 0. 0. 0. 0. 0.\n",
      " 0. 0. 0. 0. 0. 0. 0. 0. 0. 0. 0. 0. 0. 0. 0. 0. 0. 0. 0. 0. 0. 0. 0. 0.\n",
      " 0. 0. 0. 0. 0. 0. 0. 0. 0. 0. 0. 0. 0. 0. 0. 0. 0. 0. 0. 0. 0. 0. 0. 0.\n",
      " 0. 0. 0. 0. 0. 0. 0. 0. 0. 0. 0. 0. 0. 0. 0. 0. 0. 0. 0. 0. 0. 0. 0. 0.\n",
      " 0. 0. 0. 0. 0. 0. 0. 0. 0. 0. 0. 0. 0. 0. 0. 0. 0. 0. 0. 0. 0. 0. 0. 0.\n",
      " 0. 0. 0. 0. 0. 0. 0. 0. 0. 0. 0. 0. 0. 0. 0. 0. 0. 0. 0. 0. 0. 0. 0. 0.\n",
      " 0. 0. 0. 0. 0. 0. 0. 0. 0. 0. 0. 0. 0. 0. 0. 0. 0. 0. 0. 0. 0. 0. 0. 0.\n",
      " 0. 0. 0. 0. 0. 0. 0. 0. 0. 0. 0. 0. 0. 0. 0. 0. 0. 0. 0. 0. 0. 0. 0. 0.\n",
      " 0. 0. 0. 0. 0. 0. 0. 0. 0. 0. 0. 0. 0. 0. 0. 0. 0. 0. 0. 0. 0. 0. 0. 0.\n",
      " 0. 0. 0. 0. 0. 0. 0. 0. 0. 0. 0. 0. 0. 0. 0. 0. 0. 0. 0. 0. 0. 0. 0. 0.\n",
      " 0. 0. 0. 0. 0. 0. 0. 0. 0. 0. 0. 0. 0. 0. 0. 0. 0. 0. 0. 0. 0. 0. 0. 0.\n",
      " 0. 0. 0. 0. 0. 0. 0. 0. 0. 0. 0. 0. 0. 0. 0. 0. 0. 0. 0. 0. 0. 0. 0. 0.\n",
      " 0. 0. 0. 0. 0.]\n"
     ]
    }
   ],
   "source": [
    "run_svm(comb,helpfulness_numeric)"
   ]
  },
  {
   "cell_type": "code",
   "execution_count": 229,
   "metadata": {},
   "outputs": [
    {
     "data": {
      "text/plain": [
       "0.770197486535009"
      ]
     },
     "execution_count": 229,
     "metadata": {},
     "output_type": "execute_result"
    }
   ],
   "source": [
    "from sklearn.neural_network import MLPClassifier\n",
    "from sklearn.model_selection import train_test_split\n",
    "X_train, X_test, y_train, y_test = train_test_split(comb, helpfulness_numeric, stratify=y,random_state=20, test_size=0.2)\n",
    "clf = MLPClassifier(random_state=1, max_iter=10000, activation='tanh', learning_rate='adaptive', learning_rate_init=0.0000001).fit(X_train, y_train)\n",
    "clf.score(X_test, y_test)"
   ]
  },
  {
   "cell_type": "code",
   "execution_count": 228,
   "metadata": {},
   "outputs": [
    {
     "data": {
      "text/plain": [
       "557"
      ]
     },
     "execution_count": 228,
     "metadata": {},
     "output_type": "execute_result"
    }
   ],
   "source": [
    "sum(clf.predict(X_test)==0)"
   ]
  }
 ],
 "metadata": {
  "kernelspec": {
   "display_name": "Python 3",
   "language": "python",
   "name": "python3"
  },
  "language_info": {
   "codemirror_mode": {
    "name": "ipython",
    "version": 3
   },
   "file_extension": ".py",
   "mimetype": "text/x-python",
   "name": "python",
   "nbconvert_exporter": "python",
   "pygments_lexer": "ipython3",
   "version": "3.7.6"
  }
 },
 "nbformat": 4,
 "nbformat_minor": 4
}
