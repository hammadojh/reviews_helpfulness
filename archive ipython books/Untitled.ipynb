{
 "cells": [
  {
   "cell_type": "code",
   "execution_count": 8,
   "metadata": {},
   "outputs": [],
   "source": [
    "import pandas as pd\n",
    "from csv import writer"
   ]
  },
  {
   "cell_type": "code",
   "execution_count": 4,
   "metadata": {},
   "outputs": [],
   "source": [
    "data = pd.DataFrame([1,2,3])"
   ]
  },
  {
   "cell_type": "code",
   "execution_count": 6,
   "metadata": {},
   "outputs": [],
   "source": [
    "data.to_csv('test.csv')"
   ]
  },
  {
   "cell_type": "code",
   "execution_count": 7,
   "metadata": {},
   "outputs": [
    {
     "name": "stdout",
     "output_type": "stream",
     "text": [
      "Arabic Book Reviews Sentiment Analysis.ipynb\r\n",
      "Aspect-based analysis.ipynb\r\n",
      "Books Reviews garage.ipynb\r\n",
      "Books Reviews.ipynb\r\n",
      "Clustering-reviews.ipynb\r\n",
      "Feature-Opinion Extraction.ipynb\r\n",
      "Untitled.ipynb\r\n",
      "\u001b[34m__pycache__\u001b[m\u001b[m\r\n",
      "book_review.db\r\n",
      "cdf.ipynb\r\n",
      "\u001b[34mdata\u001b[m\u001b[m\r\n",
      "helpers.py\r\n",
      "\u001b[34mlibs\u001b[m\u001b[m\r\n",
      "\u001b[34moutput\u001b[m\u001b[m\r\n",
      "\u001b[34mpython_tutorial\u001b[m\u001b[m\r\n",
      "test.csv\r\n",
      "test_lib.ipynb\r\n"
     ]
    }
   ],
   "source": [
    "! ls"
   ]
  },
  {
   "cell_type": "code",
   "execution_count": 10,
   "metadata": {},
   "outputs": [],
   "source": [
    "def append_list_as_row(file_name, list_of_elem):\n",
    "    with open(file_name, 'a+', newline='') as write_obj:\n",
    "        csv_writer = writer(write_obj)\n",
    "        csv_writer.writerow(list_of_elem)"
   ]
  },
  {
   "cell_type": "code",
   "execution_count": 11,
   "metadata": {},
   "outputs": [],
   "source": [
    "append_list_as_row('test.csv',[4])"
   ]
  },
  {
   "cell_type": "code",
   "execution_count": 12,
   "metadata": {},
   "outputs": [],
   "source": [
    "append_list_as_row('a.csv',[1])"
   ]
  },
  {
   "cell_type": "code",
   "execution_count": 13,
   "metadata": {},
   "outputs": [],
   "source": [
    "append_list_as_row('a.csv',[2])"
   ]
  },
  {
   "cell_type": "code",
   "execution_count": 15,
   "metadata": {},
   "outputs": [],
   "source": [
    "append_list_as_row('a.csv',[(2,3)])"
   ]
  },
  {
   "cell_type": "code",
   "execution_count": null,
   "metadata": {},
   "outputs": [],
   "source": []
  }
 ],
 "metadata": {
  "kernelspec": {
   "display_name": "Python 3",
   "language": "python",
   "name": "python3"
  },
  "language_info": {
   "codemirror_mode": {
    "name": "ipython",
    "version": 3
   },
   "file_extension": ".py",
   "mimetype": "text/x-python",
   "name": "python",
   "nbconvert_exporter": "python",
   "pygments_lexer": "ipython3",
   "version": "3.7.6"
  }
 },
 "nbformat": 4,
 "nbformat_minor": 4
}
