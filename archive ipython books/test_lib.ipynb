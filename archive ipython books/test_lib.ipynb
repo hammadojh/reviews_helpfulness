{
 "cells": [
  {
   "cell_type": "code",
   "execution_count": 2,
   "metadata": {},
   "outputs": [],
   "source": [
    "from helpers import feature_opinion_pairs"
   ]
  },
  {
   "cell_type": "code",
   "execution_count": 3,
   "metadata": {},
   "outputs": [
    {
     "name": "stderr",
     "output_type": "stream",
     "text": [
      "Downloading https://raw.githubusercontent.com/stanfordnlp/stanza-resources/master/resources_1.0.0.json: 120kB [00:00, 9.40MB/s]                    \n",
      "2020-09-09 17:13:12 INFO: Downloading default packages for language: en (English)...\n",
      "2020-09-09 17:13:13 INFO: File exists: /Users/Omar/stanza_resources/en/default.zip.\n",
      "2020-09-09 17:13:18 INFO: Finished downloading models and saved to /Users/Omar/stanza_resources.\n",
      "2020-09-09 17:13:18 INFO: Loading these models for language: en (English):\n",
      "=========================\n",
      "| Processor | Package   |\n",
      "-------------------------\n",
      "| tokenize  | ewt       |\n",
      "| pos       | ewt       |\n",
      "| lemma     | ewt       |\n",
      "| depparse  | ewt       |\n",
      "| ner       | ontonotes |\n",
      "=========================\n",
      "\n",
      "2020-09-09 17:13:18 INFO: Use device: cpu\n",
      "2020-09-09 17:13:18 INFO: Loading: tokenize\n",
      "2020-09-09 17:13:18 INFO: Loading: pos\n",
      "2020-09-09 17:13:19 INFO: Loading: lemma\n",
      "2020-09-09 17:13:19 INFO: Loading: depparse\n",
      "2020-09-09 17:13:20 INFO: Loading: ner\n",
      "2020-09-09 17:13:20 INFO: Done loading processors!\n"
     ]
    },
    {
     "name": "stdout",
     "output_type": "stream",
     "text": [
      "i:0,word_i:this,h_i:store,xpos_i:DT,dep_type_i:nsubj\n",
      "j:0,word_j:this,h_j:store,xpos_j:DT,dep_type_j:nsubj\n",
      "j:0,word_j:is,h_j:store,xpos_j:VBZ,dep_type_j:cop\n",
      "j:0,word_j:a,h_j:store,xpos_j:DT,dep_type_j:det\n",
      "j:0,word_j:nice,h_j:store,xpos_j:JJ,dep_type_j:amod\n",
      "j:0,word_j:store,h_j:ROOT,xpos_j:NN,dep_type_j:root\n",
      "j:0,word_j:.,h_j:store,xpos_j:.,dep_type_j:punct\n",
      "i:1,word_i:is,h_i:store,xpos_i:VBZ,dep_type_i:cop\n",
      "j:1,word_j:this,h_j:store,xpos_j:DT,dep_type_j:nsubj\n",
      "j:1,word_j:is,h_j:store,xpos_j:VBZ,dep_type_j:cop\n",
      "j:1,word_j:a,h_j:store,xpos_j:DT,dep_type_j:det\n",
      "j:1,word_j:nice,h_j:store,xpos_j:JJ,dep_type_j:amod\n",
      "j:1,word_j:store,h_j:ROOT,xpos_j:NN,dep_type_j:root\n",
      "j:1,word_j:.,h_j:store,xpos_j:.,dep_type_j:punct\n",
      "i:2,word_i:a,h_i:store,xpos_i:DT,dep_type_i:det\n",
      "j:2,word_j:this,h_j:store,xpos_j:DT,dep_type_j:nsubj\n",
      "j:2,word_j:is,h_j:store,xpos_j:VBZ,dep_type_j:cop\n",
      "j:2,word_j:a,h_j:store,xpos_j:DT,dep_type_j:det\n",
      "j:2,word_j:nice,h_j:store,xpos_j:JJ,dep_type_j:amod\n",
      "j:2,word_j:store,h_j:ROOT,xpos_j:NN,dep_type_j:root\n",
      "j:2,word_j:.,h_j:store,xpos_j:.,dep_type_j:punct\n",
      "R3a:Feature store\n",
      "R3a ('store', 'nice')\n",
      "i:3,word_i:nice,h_i:store,xpos_i:JJ,dep_type_i:amod\n",
      "j:3,word_j:this,h_j:store,xpos_j:DT,dep_type_j:nsubj\n",
      "j:3,word_j:is,h_j:store,xpos_j:VBZ,dep_type_j:cop\n",
      "j:3,word_j:a,h_j:store,xpos_j:DT,dep_type_j:det\n",
      "j:3,word_j:nice,h_j:store,xpos_j:JJ,dep_type_j:amod\n",
      "R1b:Opinion nice\n",
      "j:3,word_j:store,h_j:ROOT,xpos_j:NN,dep_type_j:root\n",
      "j:3,word_j:.,h_j:store,xpos_j:.,dep_type_j:punct\n",
      "i:4,word_i:store,h_i:ROOT,xpos_i:NN,dep_type_i:root\n",
      "j:4,word_j:this,h_j:store,xpos_j:DT,dep_type_j:nsubj\n",
      "j:4,word_j:is,h_j:store,xpos_j:VBZ,dep_type_j:cop\n",
      "j:4,word_j:a,h_j:store,xpos_j:DT,dep_type_j:det\n",
      "j:4,word_j:nice,h_j:store,xpos_j:JJ,dep_type_j:amod\n",
      "j:4,word_j:store,h_j:ROOT,xpos_j:NN,dep_type_j:root\n",
      "j:4,word_j:.,h_j:store,xpos_j:.,dep_type_j:punct\n",
      "i:5,word_i:.,h_i:store,xpos_i:.,dep_type_i:punct\n",
      "j:5,word_j:this,h_j:store,xpos_j:DT,dep_type_j:nsubj\n",
      "j:5,word_j:is,h_j:store,xpos_j:VBZ,dep_type_j:cop\n",
      "j:5,word_j:a,h_j:store,xpos_j:DT,dep_type_j:det\n",
      "j:5,word_j:nice,h_j:store,xpos_j:JJ,dep_type_j:amod\n",
      "j:5,word_j:store,h_j:ROOT,xpos_j:NN,dep_type_j:root\n",
      "j:5,word_j:.,h_j:store,xpos_j:.,dep_type_j:punct\n",
      "i:0,word_i:this,h_i:store,xpos_i:DT,dep_type_i:nsubj\n",
      "j:0,word_j:this,h_j:store,xpos_j:DT,dep_type_j:nsubj\n",
      "j:0,word_j:is,h_j:store,xpos_j:VBZ,dep_type_j:cop\n",
      "j:0,word_j:a,h_j:store,xpos_j:DT,dep_type_j:det\n",
      "j:0,word_j:nice,h_j:store,xpos_j:JJ,dep_type_j:amod\n",
      "j:0,word_j:store,h_j:ROOT,xpos_j:NN,dep_type_j:root\n",
      "j:0,word_j:.,h_j:store,xpos_j:.,dep_type_j:punct\n",
      "i:1,word_i:is,h_i:store,xpos_i:VBZ,dep_type_i:cop\n",
      "j:1,word_j:this,h_j:store,xpos_j:DT,dep_type_j:nsubj\n",
      "j:1,word_j:is,h_j:store,xpos_j:VBZ,dep_type_j:cop\n",
      "j:1,word_j:a,h_j:store,xpos_j:DT,dep_type_j:det\n",
      "j:1,word_j:nice,h_j:store,xpos_j:JJ,dep_type_j:amod\n",
      "j:1,word_j:store,h_j:ROOT,xpos_j:NN,dep_type_j:root\n",
      "j:1,word_j:.,h_j:store,xpos_j:.,dep_type_j:punct\n",
      "i:2,word_i:a,h_i:store,xpos_i:DT,dep_type_i:det\n",
      "j:2,word_j:this,h_j:store,xpos_j:DT,dep_type_j:nsubj\n",
      "j:2,word_j:is,h_j:store,xpos_j:VBZ,dep_type_j:cop\n",
      "j:2,word_j:a,h_j:store,xpos_j:DT,dep_type_j:det\n",
      "j:2,word_j:nice,h_j:store,xpos_j:JJ,dep_type_j:amod\n",
      "j:2,word_j:store,h_j:ROOT,xpos_j:NN,dep_type_j:root\n",
      "j:2,word_j:.,h_j:store,xpos_j:.,dep_type_j:punct\n",
      "i:3,word_i:nice,h_i:store,xpos_i:JJ,dep_type_i:amod\n",
      "j:3,word_j:this,h_j:store,xpos_j:DT,dep_type_j:nsubj\n",
      "j:3,word_j:is,h_j:store,xpos_j:VBZ,dep_type_j:cop\n",
      "j:3,word_j:a,h_j:store,xpos_j:DT,dep_type_j:det\n",
      "j:3,word_j:nice,h_j:store,xpos_j:JJ,dep_type_j:amod\n",
      "j:3,word_j:store,h_j:ROOT,xpos_j:NN,dep_type_j:root\n",
      "j:3,word_j:.,h_j:store,xpos_j:.,dep_type_j:punct\n",
      "i:4,word_i:store,h_i:ROOT,xpos_i:NN,dep_type_i:root\n",
      "j:4,word_j:this,h_j:store,xpos_j:DT,dep_type_j:nsubj\n",
      "j:4,word_j:is,h_j:store,xpos_j:VBZ,dep_type_j:cop\n",
      "j:4,word_j:a,h_j:store,xpos_j:DT,dep_type_j:det\n",
      "j:4,word_j:nice,h_j:store,xpos_j:JJ,dep_type_j:amod\n",
      "j:4,word_j:store,h_j:ROOT,xpos_j:NN,dep_type_j:root\n",
      "j:4,word_j:.,h_j:store,xpos_j:.,dep_type_j:punct\n",
      "i:5,word_i:.,h_i:store,xpos_i:.,dep_type_i:punct\n",
      "j:5,word_j:this,h_j:store,xpos_j:DT,dep_type_j:nsubj\n",
      "j:5,word_j:is,h_j:store,xpos_j:VBZ,dep_type_j:cop\n",
      "j:5,word_j:a,h_j:store,xpos_j:DT,dep_type_j:det\n",
      "j:5,word_j:nice,h_j:store,xpos_j:JJ,dep_type_j:amod\n",
      "j:5,word_j:store,h_j:ROOT,xpos_j:NN,dep_type_j:root\n",
      "j:5,word_j:.,h_j:store,xpos_j:.,dep_type_j:punct\n"
     ]
    },
    {
     "data": {
      "text/plain": [
       "({'nice'}, {'store'}, {('store', 'nice')})"
      ]
     },
     "execution_count": 3,
     "metadata": {},
     "output_type": "execute_result"
    }
   ],
   "source": [
    "feature_opinion_pairs('this is a nice store.',['nice'],'en')"
   ]
  },
  {
   "cell_type": "code",
   "execution_count": null,
   "metadata": {},
   "outputs": [],
   "source": []
  }
 ],
 "metadata": {
  "kernelspec": {
   "display_name": "Python 3",
   "language": "python",
   "name": "python3"
  },
  "language_info": {
   "codemirror_mode": {
    "name": "ipython",
    "version": 3
   },
   "file_extension": ".py",
   "mimetype": "text/x-python",
   "name": "python",
   "nbconvert_exporter": "python",
   "pygments_lexer": "ipython3",
   "version": "3.7.6"
  }
 },
 "nbformat": 4,
 "nbformat_minor": 4
}
